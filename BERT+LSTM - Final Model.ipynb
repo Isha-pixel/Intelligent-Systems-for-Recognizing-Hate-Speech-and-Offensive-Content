{
  "metadata": {
    "kernelspec": {
      "display_name": "Python 3",
      "name": "python3"
    },
    "language_info": {
      "name": "python",
      "version": "3.10.13",
      "mimetype": "text/x-python",
      "codemirror_mode": {
        "name": "ipython",
        "version": 3
      },
      "pygments_lexer": "ipython3",
      "nbconvert_exporter": "python",
      "file_extension": ".py"
    },
    "kaggle": {
      "accelerator": "none",
      "dataSources": [
        {
          "sourceId": 1257215,
          "sourceType": "datasetVersion",
          "datasetId": 723100
        }
      ],
      "dockerImageVersionId": 30646,
      "isInternetEnabled": false,
      "language": "python",
      "sourceType": "notebook",
      "isGpuEnabled": false
    },
    "colab": {
      "provenance": [],
      "gpuType": "T4"
    },
    "accelerator": "GPU",
    "widgets": {
      "application/vnd.jupyter.widget-state+json": {
        "2c09cc0450924846984634aee22d1c2f": {
          "model_module": "@jupyter-widgets/controls",
          "model_name": "HBoxModel",
          "model_module_version": "1.5.0",
          "state": {
            "_dom_classes": [],
            "_model_module": "@jupyter-widgets/controls",
            "_model_module_version": "1.5.0",
            "_model_name": "HBoxModel",
            "_view_count": null,
            "_view_module": "@jupyter-widgets/controls",
            "_view_module_version": "1.5.0",
            "_view_name": "HBoxView",
            "box_style": "",
            "children": [
              "IPY_MODEL_b6f3e80010234b678d96b7926920dcea",
              "IPY_MODEL_f8df78c67d3347b0a3f472f58ec83d8f",
              "IPY_MODEL_9982e729736d4be2bb6a95ce928c3f40"
            ],
            "layout": "IPY_MODEL_b82d96333a984b3bbd4605ce338cfa48"
          }
        },
        "b6f3e80010234b678d96b7926920dcea": {
          "model_module": "@jupyter-widgets/controls",
          "model_name": "HTMLModel",
          "model_module_version": "1.5.0",
          "state": {
            "_dom_classes": [],
            "_model_module": "@jupyter-widgets/controls",
            "_model_module_version": "1.5.0",
            "_model_name": "HTMLModel",
            "_view_count": null,
            "_view_module": "@jupyter-widgets/controls",
            "_view_module_version": "1.5.0",
            "_view_name": "HTMLView",
            "description": "",
            "description_tooltip": null,
            "layout": "IPY_MODEL_b6287963f5af46aa89b30cf470a309ea",
            "placeholder": "​",
            "style": "IPY_MODEL_ae3cbea6e99b4a8ea8dde4b37450cf68",
            "value": "tokenizer_config.json: 100%"
          }
        },
        "f8df78c67d3347b0a3f472f58ec83d8f": {
          "model_module": "@jupyter-widgets/controls",
          "model_name": "FloatProgressModel",
          "model_module_version": "1.5.0",
          "state": {
            "_dom_classes": [],
            "_model_module": "@jupyter-widgets/controls",
            "_model_module_version": "1.5.0",
            "_model_name": "FloatProgressModel",
            "_view_count": null,
            "_view_module": "@jupyter-widgets/controls",
            "_view_module_version": "1.5.0",
            "_view_name": "ProgressView",
            "bar_style": "success",
            "description": "",
            "description_tooltip": null,
            "layout": "IPY_MODEL_696efd8007614eeeb4e4f61f6709efb8",
            "max": 48,
            "min": 0,
            "orientation": "horizontal",
            "style": "IPY_MODEL_d1153fbcf39d40ffa6a0d0c1e8928589",
            "value": 48
          }
        },
        "9982e729736d4be2bb6a95ce928c3f40": {
          "model_module": "@jupyter-widgets/controls",
          "model_name": "HTMLModel",
          "model_module_version": "1.5.0",
          "state": {
            "_dom_classes": [],
            "_model_module": "@jupyter-widgets/controls",
            "_model_module_version": "1.5.0",
            "_model_name": "HTMLModel",
            "_view_count": null,
            "_view_module": "@jupyter-widgets/controls",
            "_view_module_version": "1.5.0",
            "_view_name": "HTMLView",
            "description": "",
            "description_tooltip": null,
            "layout": "IPY_MODEL_e5e6fa53419245e7815eb12f8f26dd8b",
            "placeholder": "​",
            "style": "IPY_MODEL_17f2a04748e840eea420e239392a4e4b",
            "value": " 48.0/48.0 [00:00&lt;00:00, 1.70kB/s]"
          }
        },
        "b82d96333a984b3bbd4605ce338cfa48": {
          "model_module": "@jupyter-widgets/base",
          "model_name": "LayoutModel",
          "model_module_version": "1.2.0",
          "state": {
            "_model_module": "@jupyter-widgets/base",
            "_model_module_version": "1.2.0",
            "_model_name": "LayoutModel",
            "_view_count": null,
            "_view_module": "@jupyter-widgets/base",
            "_view_module_version": "1.2.0",
            "_view_name": "LayoutView",
            "align_content": null,
            "align_items": null,
            "align_self": null,
            "border": null,
            "bottom": null,
            "display": null,
            "flex": null,
            "flex_flow": null,
            "grid_area": null,
            "grid_auto_columns": null,
            "grid_auto_flow": null,
            "grid_auto_rows": null,
            "grid_column": null,
            "grid_gap": null,
            "grid_row": null,
            "grid_template_areas": null,
            "grid_template_columns": null,
            "grid_template_rows": null,
            "height": null,
            "justify_content": null,
            "justify_items": null,
            "left": null,
            "margin": null,
            "max_height": null,
            "max_width": null,
            "min_height": null,
            "min_width": null,
            "object_fit": null,
            "object_position": null,
            "order": null,
            "overflow": null,
            "overflow_x": null,
            "overflow_y": null,
            "padding": null,
            "right": null,
            "top": null,
            "visibility": null,
            "width": null
          }
        },
        "b6287963f5af46aa89b30cf470a309ea": {
          "model_module": "@jupyter-widgets/base",
          "model_name": "LayoutModel",
          "model_module_version": "1.2.0",
          "state": {
            "_model_module": "@jupyter-widgets/base",
            "_model_module_version": "1.2.0",
            "_model_name": "LayoutModel",
            "_view_count": null,
            "_view_module": "@jupyter-widgets/base",
            "_view_module_version": "1.2.0",
            "_view_name": "LayoutView",
            "align_content": null,
            "align_items": null,
            "align_self": null,
            "border": null,
            "bottom": null,
            "display": null,
            "flex": null,
            "flex_flow": null,
            "grid_area": null,
            "grid_auto_columns": null,
            "grid_auto_flow": null,
            "grid_auto_rows": null,
            "grid_column": null,
            "grid_gap": null,
            "grid_row": null,
            "grid_template_areas": null,
            "grid_template_columns": null,
            "grid_template_rows": null,
            "height": null,
            "justify_content": null,
            "justify_items": null,
            "left": null,
            "margin": null,
            "max_height": null,
            "max_width": null,
            "min_height": null,
            "min_width": null,
            "object_fit": null,
            "object_position": null,
            "order": null,
            "overflow": null,
            "overflow_x": null,
            "overflow_y": null,
            "padding": null,
            "right": null,
            "top": null,
            "visibility": null,
            "width": null
          }
        },
        "ae3cbea6e99b4a8ea8dde4b37450cf68": {
          "model_module": "@jupyter-widgets/controls",
          "model_name": "DescriptionStyleModel",
          "model_module_version": "1.5.0",
          "state": {
            "_model_module": "@jupyter-widgets/controls",
            "_model_module_version": "1.5.0",
            "_model_name": "DescriptionStyleModel",
            "_view_count": null,
            "_view_module": "@jupyter-widgets/base",
            "_view_module_version": "1.2.0",
            "_view_name": "StyleView",
            "description_width": ""
          }
        },
        "696efd8007614eeeb4e4f61f6709efb8": {
          "model_module": "@jupyter-widgets/base",
          "model_name": "LayoutModel",
          "model_module_version": "1.2.0",
          "state": {
            "_model_module": "@jupyter-widgets/base",
            "_model_module_version": "1.2.0",
            "_model_name": "LayoutModel",
            "_view_count": null,
            "_view_module": "@jupyter-widgets/base",
            "_view_module_version": "1.2.0",
            "_view_name": "LayoutView",
            "align_content": null,
            "align_items": null,
            "align_self": null,
            "border": null,
            "bottom": null,
            "display": null,
            "flex": null,
            "flex_flow": null,
            "grid_area": null,
            "grid_auto_columns": null,
            "grid_auto_flow": null,
            "grid_auto_rows": null,
            "grid_column": null,
            "grid_gap": null,
            "grid_row": null,
            "grid_template_areas": null,
            "grid_template_columns": null,
            "grid_template_rows": null,
            "height": null,
            "justify_content": null,
            "justify_items": null,
            "left": null,
            "margin": null,
            "max_height": null,
            "max_width": null,
            "min_height": null,
            "min_width": null,
            "object_fit": null,
            "object_position": null,
            "order": null,
            "overflow": null,
            "overflow_x": null,
            "overflow_y": null,
            "padding": null,
            "right": null,
            "top": null,
            "visibility": null,
            "width": null
          }
        },
        "d1153fbcf39d40ffa6a0d0c1e8928589": {
          "model_module": "@jupyter-widgets/controls",
          "model_name": "ProgressStyleModel",
          "model_module_version": "1.5.0",
          "state": {
            "_model_module": "@jupyter-widgets/controls",
            "_model_module_version": "1.5.0",
            "_model_name": "ProgressStyleModel",
            "_view_count": null,
            "_view_module": "@jupyter-widgets/base",
            "_view_module_version": "1.2.0",
            "_view_name": "StyleView",
            "bar_color": null,
            "description_width": ""
          }
        },
        "e5e6fa53419245e7815eb12f8f26dd8b": {
          "model_module": "@jupyter-widgets/base",
          "model_name": "LayoutModel",
          "model_module_version": "1.2.0",
          "state": {
            "_model_module": "@jupyter-widgets/base",
            "_model_module_version": "1.2.0",
            "_model_name": "LayoutModel",
            "_view_count": null,
            "_view_module": "@jupyter-widgets/base",
            "_view_module_version": "1.2.0",
            "_view_name": "LayoutView",
            "align_content": null,
            "align_items": null,
            "align_self": null,
            "border": null,
            "bottom": null,
            "display": null,
            "flex": null,
            "flex_flow": null,
            "grid_area": null,
            "grid_auto_columns": null,
            "grid_auto_flow": null,
            "grid_auto_rows": null,
            "grid_column": null,
            "grid_gap": null,
            "grid_row": null,
            "grid_template_areas": null,
            "grid_template_columns": null,
            "grid_template_rows": null,
            "height": null,
            "justify_content": null,
            "justify_items": null,
            "left": null,
            "margin": null,
            "max_height": null,
            "max_width": null,
            "min_height": null,
            "min_width": null,
            "object_fit": null,
            "object_position": null,
            "order": null,
            "overflow": null,
            "overflow_x": null,
            "overflow_y": null,
            "padding": null,
            "right": null,
            "top": null,
            "visibility": null,
            "width": null
          }
        },
        "17f2a04748e840eea420e239392a4e4b": {
          "model_module": "@jupyter-widgets/controls",
          "model_name": "DescriptionStyleModel",
          "model_module_version": "1.5.0",
          "state": {
            "_model_module": "@jupyter-widgets/controls",
            "_model_module_version": "1.5.0",
            "_model_name": "DescriptionStyleModel",
            "_view_count": null,
            "_view_module": "@jupyter-widgets/base",
            "_view_module_version": "1.2.0",
            "_view_name": "StyleView",
            "description_width": ""
          }
        },
        "a426eb984eef4ec9b0a0b04b1ee31e6c": {
          "model_module": "@jupyter-widgets/controls",
          "model_name": "HBoxModel",
          "model_module_version": "1.5.0",
          "state": {
            "_dom_classes": [],
            "_model_module": "@jupyter-widgets/controls",
            "_model_module_version": "1.5.0",
            "_model_name": "HBoxModel",
            "_view_count": null,
            "_view_module": "@jupyter-widgets/controls",
            "_view_module_version": "1.5.0",
            "_view_name": "HBoxView",
            "box_style": "",
            "children": [
              "IPY_MODEL_c20079a8dc3548fa984f5e050a5ee7bc",
              "IPY_MODEL_1e01304fab9747c8b8a7ab72095c1fa4",
              "IPY_MODEL_ecb57f39cfde45c39da435e581c8593b"
            ],
            "layout": "IPY_MODEL_82b66bd0dbd14d51b7aa370ef1842e63"
          }
        },
        "c20079a8dc3548fa984f5e050a5ee7bc": {
          "model_module": "@jupyter-widgets/controls",
          "model_name": "HTMLModel",
          "model_module_version": "1.5.0",
          "state": {
            "_dom_classes": [],
            "_model_module": "@jupyter-widgets/controls",
            "_model_module_version": "1.5.0",
            "_model_name": "HTMLModel",
            "_view_count": null,
            "_view_module": "@jupyter-widgets/controls",
            "_view_module_version": "1.5.0",
            "_view_name": "HTMLView",
            "description": "",
            "description_tooltip": null,
            "layout": "IPY_MODEL_98dca04086774595b6b441e21abec0b7",
            "placeholder": "​",
            "style": "IPY_MODEL_9b464e66499c42d1b4e9b85984455dd3",
            "value": "vocab.txt: 100%"
          }
        },
        "1e01304fab9747c8b8a7ab72095c1fa4": {
          "model_module": "@jupyter-widgets/controls",
          "model_name": "FloatProgressModel",
          "model_module_version": "1.5.0",
          "state": {
            "_dom_classes": [],
            "_model_module": "@jupyter-widgets/controls",
            "_model_module_version": "1.5.0",
            "_model_name": "FloatProgressModel",
            "_view_count": null,
            "_view_module": "@jupyter-widgets/controls",
            "_view_module_version": "1.5.0",
            "_view_name": "ProgressView",
            "bar_style": "success",
            "description": "",
            "description_tooltip": null,
            "layout": "IPY_MODEL_e20e195ea3cc41f89f3e9e31b56586e9",
            "max": 231508,
            "min": 0,
            "orientation": "horizontal",
            "style": "IPY_MODEL_038a27955f9f4afc9b1edc1fc47137bf",
            "value": 231508
          }
        },
        "ecb57f39cfde45c39da435e581c8593b": {
          "model_module": "@jupyter-widgets/controls",
          "model_name": "HTMLModel",
          "model_module_version": "1.5.0",
          "state": {
            "_dom_classes": [],
            "_model_module": "@jupyter-widgets/controls",
            "_model_module_version": "1.5.0",
            "_model_name": "HTMLModel",
            "_view_count": null,
            "_view_module": "@jupyter-widgets/controls",
            "_view_module_version": "1.5.0",
            "_view_name": "HTMLView",
            "description": "",
            "description_tooltip": null,
            "layout": "IPY_MODEL_33f40b885fbe4f1a88b4b3f7e32a0678",
            "placeholder": "​",
            "style": "IPY_MODEL_221c448e9f4747499374ff4154fda12a",
            "value": " 232k/232k [00:00&lt;00:00, 1.66MB/s]"
          }
        },
        "82b66bd0dbd14d51b7aa370ef1842e63": {
          "model_module": "@jupyter-widgets/base",
          "model_name": "LayoutModel",
          "model_module_version": "1.2.0",
          "state": {
            "_model_module": "@jupyter-widgets/base",
            "_model_module_version": "1.2.0",
            "_model_name": "LayoutModel",
            "_view_count": null,
            "_view_module": "@jupyter-widgets/base",
            "_view_module_version": "1.2.0",
            "_view_name": "LayoutView",
            "align_content": null,
            "align_items": null,
            "align_self": null,
            "border": null,
            "bottom": null,
            "display": null,
            "flex": null,
            "flex_flow": null,
            "grid_area": null,
            "grid_auto_columns": null,
            "grid_auto_flow": null,
            "grid_auto_rows": null,
            "grid_column": null,
            "grid_gap": null,
            "grid_row": null,
            "grid_template_areas": null,
            "grid_template_columns": null,
            "grid_template_rows": null,
            "height": null,
            "justify_content": null,
            "justify_items": null,
            "left": null,
            "margin": null,
            "max_height": null,
            "max_width": null,
            "min_height": null,
            "min_width": null,
            "object_fit": null,
            "object_position": null,
            "order": null,
            "overflow": null,
            "overflow_x": null,
            "overflow_y": null,
            "padding": null,
            "right": null,
            "top": null,
            "visibility": null,
            "width": null
          }
        },
        "98dca04086774595b6b441e21abec0b7": {
          "model_module": "@jupyter-widgets/base",
          "model_name": "LayoutModel",
          "model_module_version": "1.2.0",
          "state": {
            "_model_module": "@jupyter-widgets/base",
            "_model_module_version": "1.2.0",
            "_model_name": "LayoutModel",
            "_view_count": null,
            "_view_module": "@jupyter-widgets/base",
            "_view_module_version": "1.2.0",
            "_view_name": "LayoutView",
            "align_content": null,
            "align_items": null,
            "align_self": null,
            "border": null,
            "bottom": null,
            "display": null,
            "flex": null,
            "flex_flow": null,
            "grid_area": null,
            "grid_auto_columns": null,
            "grid_auto_flow": null,
            "grid_auto_rows": null,
            "grid_column": null,
            "grid_gap": null,
            "grid_row": null,
            "grid_template_areas": null,
            "grid_template_columns": null,
            "grid_template_rows": null,
            "height": null,
            "justify_content": null,
            "justify_items": null,
            "left": null,
            "margin": null,
            "max_height": null,
            "max_width": null,
            "min_height": null,
            "min_width": null,
            "object_fit": null,
            "object_position": null,
            "order": null,
            "overflow": null,
            "overflow_x": null,
            "overflow_y": null,
            "padding": null,
            "right": null,
            "top": null,
            "visibility": null,
            "width": null
          }
        },
        "9b464e66499c42d1b4e9b85984455dd3": {
          "model_module": "@jupyter-widgets/controls",
          "model_name": "DescriptionStyleModel",
          "model_module_version": "1.5.0",
          "state": {
            "_model_module": "@jupyter-widgets/controls",
            "_model_module_version": "1.5.0",
            "_model_name": "DescriptionStyleModel",
            "_view_count": null,
            "_view_module": "@jupyter-widgets/base",
            "_view_module_version": "1.2.0",
            "_view_name": "StyleView",
            "description_width": ""
          }
        },
        "e20e195ea3cc41f89f3e9e31b56586e9": {
          "model_module": "@jupyter-widgets/base",
          "model_name": "LayoutModel",
          "model_module_version": "1.2.0",
          "state": {
            "_model_module": "@jupyter-widgets/base",
            "_model_module_version": "1.2.0",
            "_model_name": "LayoutModel",
            "_view_count": null,
            "_view_module": "@jupyter-widgets/base",
            "_view_module_version": "1.2.0",
            "_view_name": "LayoutView",
            "align_content": null,
            "align_items": null,
            "align_self": null,
            "border": null,
            "bottom": null,
            "display": null,
            "flex": null,
            "flex_flow": null,
            "grid_area": null,
            "grid_auto_columns": null,
            "grid_auto_flow": null,
            "grid_auto_rows": null,
            "grid_column": null,
            "grid_gap": null,
            "grid_row": null,
            "grid_template_areas": null,
            "grid_template_columns": null,
            "grid_template_rows": null,
            "height": null,
            "justify_content": null,
            "justify_items": null,
            "left": null,
            "margin": null,
            "max_height": null,
            "max_width": null,
            "min_height": null,
            "min_width": null,
            "object_fit": null,
            "object_position": null,
            "order": null,
            "overflow": null,
            "overflow_x": null,
            "overflow_y": null,
            "padding": null,
            "right": null,
            "top": null,
            "visibility": null,
            "width": null
          }
        },
        "038a27955f9f4afc9b1edc1fc47137bf": {
          "model_module": "@jupyter-widgets/controls",
          "model_name": "ProgressStyleModel",
          "model_module_version": "1.5.0",
          "state": {
            "_model_module": "@jupyter-widgets/controls",
            "_model_module_version": "1.5.0",
            "_model_name": "ProgressStyleModel",
            "_view_count": null,
            "_view_module": "@jupyter-widgets/base",
            "_view_module_version": "1.2.0",
            "_view_name": "StyleView",
            "bar_color": null,
            "description_width": ""
          }
        },
        "33f40b885fbe4f1a88b4b3f7e32a0678": {
          "model_module": "@jupyter-widgets/base",
          "model_name": "LayoutModel",
          "model_module_version": "1.2.0",
          "state": {
            "_model_module": "@jupyter-widgets/base",
            "_model_module_version": "1.2.0",
            "_model_name": "LayoutModel",
            "_view_count": null,
            "_view_module": "@jupyter-widgets/base",
            "_view_module_version": "1.2.0",
            "_view_name": "LayoutView",
            "align_content": null,
            "align_items": null,
            "align_self": null,
            "border": null,
            "bottom": null,
            "display": null,
            "flex": null,
            "flex_flow": null,
            "grid_area": null,
            "grid_auto_columns": null,
            "grid_auto_flow": null,
            "grid_auto_rows": null,
            "grid_column": null,
            "grid_gap": null,
            "grid_row": null,
            "grid_template_areas": null,
            "grid_template_columns": null,
            "grid_template_rows": null,
            "height": null,
            "justify_content": null,
            "justify_items": null,
            "left": null,
            "margin": null,
            "max_height": null,
            "max_width": null,
            "min_height": null,
            "min_width": null,
            "object_fit": null,
            "object_position": null,
            "order": null,
            "overflow": null,
            "overflow_x": null,
            "overflow_y": null,
            "padding": null,
            "right": null,
            "top": null,
            "visibility": null,
            "width": null
          }
        },
        "221c448e9f4747499374ff4154fda12a": {
          "model_module": "@jupyter-widgets/controls",
          "model_name": "DescriptionStyleModel",
          "model_module_version": "1.5.0",
          "state": {
            "_model_module": "@jupyter-widgets/controls",
            "_model_module_version": "1.5.0",
            "_model_name": "DescriptionStyleModel",
            "_view_count": null,
            "_view_module": "@jupyter-widgets/base",
            "_view_module_version": "1.2.0",
            "_view_name": "StyleView",
            "description_width": ""
          }
        },
        "9e91510f95364856bb7b62eaf965a7b3": {
          "model_module": "@jupyter-widgets/controls",
          "model_name": "HBoxModel",
          "model_module_version": "1.5.0",
          "state": {
            "_dom_classes": [],
            "_model_module": "@jupyter-widgets/controls",
            "_model_module_version": "1.5.0",
            "_model_name": "HBoxModel",
            "_view_count": null,
            "_view_module": "@jupyter-widgets/controls",
            "_view_module_version": "1.5.0",
            "_view_name": "HBoxView",
            "box_style": "",
            "children": [
              "IPY_MODEL_4d8225c88c514e2c9fd44463c4844f2e",
              "IPY_MODEL_93531692d33f45fc96b26d8a60b6ed15",
              "IPY_MODEL_b158cb279cd14790b45e51f1dbbabbd1"
            ],
            "layout": "IPY_MODEL_88e1ccc24cd54528af027ddccbd3c8ab"
          }
        },
        "4d8225c88c514e2c9fd44463c4844f2e": {
          "model_module": "@jupyter-widgets/controls",
          "model_name": "HTMLModel",
          "model_module_version": "1.5.0",
          "state": {
            "_dom_classes": [],
            "_model_module": "@jupyter-widgets/controls",
            "_model_module_version": "1.5.0",
            "_model_name": "HTMLModel",
            "_view_count": null,
            "_view_module": "@jupyter-widgets/controls",
            "_view_module_version": "1.5.0",
            "_view_name": "HTMLView",
            "description": "",
            "description_tooltip": null,
            "layout": "IPY_MODEL_d2005e17e30c4c1bbdd0fe2571215b50",
            "placeholder": "​",
            "style": "IPY_MODEL_c385a0f4499b49f8b4ee219c86b1b41c",
            "value": "tokenizer.json: 100%"
          }
        },
        "93531692d33f45fc96b26d8a60b6ed15": {
          "model_module": "@jupyter-widgets/controls",
          "model_name": "FloatProgressModel",
          "model_module_version": "1.5.0",
          "state": {
            "_dom_classes": [],
            "_model_module": "@jupyter-widgets/controls",
            "_model_module_version": "1.5.0",
            "_model_name": "FloatProgressModel",
            "_view_count": null,
            "_view_module": "@jupyter-widgets/controls",
            "_view_module_version": "1.5.0",
            "_view_name": "ProgressView",
            "bar_style": "success",
            "description": "",
            "description_tooltip": null,
            "layout": "IPY_MODEL_3c8c5d9a3d4f434b8a93c381f7240e25",
            "max": 466062,
            "min": 0,
            "orientation": "horizontal",
            "style": "IPY_MODEL_6294292d68c74989a6e76e0939e04c3c",
            "value": 466062
          }
        },
        "b158cb279cd14790b45e51f1dbbabbd1": {
          "model_module": "@jupyter-widgets/controls",
          "model_name": "HTMLModel",
          "model_module_version": "1.5.0",
          "state": {
            "_dom_classes": [],
            "_model_module": "@jupyter-widgets/controls",
            "_model_module_version": "1.5.0",
            "_model_name": "HTMLModel",
            "_view_count": null,
            "_view_module": "@jupyter-widgets/controls",
            "_view_module_version": "1.5.0",
            "_view_name": "HTMLView",
            "description": "",
            "description_tooltip": null,
            "layout": "IPY_MODEL_6388eef279bc4b47a68ff46f29d8cc8c",
            "placeholder": "​",
            "style": "IPY_MODEL_493c3bb5131743079bbb700dd16c7f29",
            "value": " 466k/466k [00:00&lt;00:00, 2.28MB/s]"
          }
        },
        "88e1ccc24cd54528af027ddccbd3c8ab": {
          "model_module": "@jupyter-widgets/base",
          "model_name": "LayoutModel",
          "model_module_version": "1.2.0",
          "state": {
            "_model_module": "@jupyter-widgets/base",
            "_model_module_version": "1.2.0",
            "_model_name": "LayoutModel",
            "_view_count": null,
            "_view_module": "@jupyter-widgets/base",
            "_view_module_version": "1.2.0",
            "_view_name": "LayoutView",
            "align_content": null,
            "align_items": null,
            "align_self": null,
            "border": null,
            "bottom": null,
            "display": null,
            "flex": null,
            "flex_flow": null,
            "grid_area": null,
            "grid_auto_columns": null,
            "grid_auto_flow": null,
            "grid_auto_rows": null,
            "grid_column": null,
            "grid_gap": null,
            "grid_row": null,
            "grid_template_areas": null,
            "grid_template_columns": null,
            "grid_template_rows": null,
            "height": null,
            "justify_content": null,
            "justify_items": null,
            "left": null,
            "margin": null,
            "max_height": null,
            "max_width": null,
            "min_height": null,
            "min_width": null,
            "object_fit": null,
            "object_position": null,
            "order": null,
            "overflow": null,
            "overflow_x": null,
            "overflow_y": null,
            "padding": null,
            "right": null,
            "top": null,
            "visibility": null,
            "width": null
          }
        },
        "d2005e17e30c4c1bbdd0fe2571215b50": {
          "model_module": "@jupyter-widgets/base",
          "model_name": "LayoutModel",
          "model_module_version": "1.2.0",
          "state": {
            "_model_module": "@jupyter-widgets/base",
            "_model_module_version": "1.2.0",
            "_model_name": "LayoutModel",
            "_view_count": null,
            "_view_module": "@jupyter-widgets/base",
            "_view_module_version": "1.2.0",
            "_view_name": "LayoutView",
            "align_content": null,
            "align_items": null,
            "align_self": null,
            "border": null,
            "bottom": null,
            "display": null,
            "flex": null,
            "flex_flow": null,
            "grid_area": null,
            "grid_auto_columns": null,
            "grid_auto_flow": null,
            "grid_auto_rows": null,
            "grid_column": null,
            "grid_gap": null,
            "grid_row": null,
            "grid_template_areas": null,
            "grid_template_columns": null,
            "grid_template_rows": null,
            "height": null,
            "justify_content": null,
            "justify_items": null,
            "left": null,
            "margin": null,
            "max_height": null,
            "max_width": null,
            "min_height": null,
            "min_width": null,
            "object_fit": null,
            "object_position": null,
            "order": null,
            "overflow": null,
            "overflow_x": null,
            "overflow_y": null,
            "padding": null,
            "right": null,
            "top": null,
            "visibility": null,
            "width": null
          }
        },
        "c385a0f4499b49f8b4ee219c86b1b41c": {
          "model_module": "@jupyter-widgets/controls",
          "model_name": "DescriptionStyleModel",
          "model_module_version": "1.5.0",
          "state": {
            "_model_module": "@jupyter-widgets/controls",
            "_model_module_version": "1.5.0",
            "_model_name": "DescriptionStyleModel",
            "_view_count": null,
            "_view_module": "@jupyter-widgets/base",
            "_view_module_version": "1.2.0",
            "_view_name": "StyleView",
            "description_width": ""
          }
        },
        "3c8c5d9a3d4f434b8a93c381f7240e25": {
          "model_module": "@jupyter-widgets/base",
          "model_name": "LayoutModel",
          "model_module_version": "1.2.0",
          "state": {
            "_model_module": "@jupyter-widgets/base",
            "_model_module_version": "1.2.0",
            "_model_name": "LayoutModel",
            "_view_count": null,
            "_view_module": "@jupyter-widgets/base",
            "_view_module_version": "1.2.0",
            "_view_name": "LayoutView",
            "align_content": null,
            "align_items": null,
            "align_self": null,
            "border": null,
            "bottom": null,
            "display": null,
            "flex": null,
            "flex_flow": null,
            "grid_area": null,
            "grid_auto_columns": null,
            "grid_auto_flow": null,
            "grid_auto_rows": null,
            "grid_column": null,
            "grid_gap": null,
            "grid_row": null,
            "grid_template_areas": null,
            "grid_template_columns": null,
            "grid_template_rows": null,
            "height": null,
            "justify_content": null,
            "justify_items": null,
            "left": null,
            "margin": null,
            "max_height": null,
            "max_width": null,
            "min_height": null,
            "min_width": null,
            "object_fit": null,
            "object_position": null,
            "order": null,
            "overflow": null,
            "overflow_x": null,
            "overflow_y": null,
            "padding": null,
            "right": null,
            "top": null,
            "visibility": null,
            "width": null
          }
        },
        "6294292d68c74989a6e76e0939e04c3c": {
          "model_module": "@jupyter-widgets/controls",
          "model_name": "ProgressStyleModel",
          "model_module_version": "1.5.0",
          "state": {
            "_model_module": "@jupyter-widgets/controls",
            "_model_module_version": "1.5.0",
            "_model_name": "ProgressStyleModel",
            "_view_count": null,
            "_view_module": "@jupyter-widgets/base",
            "_view_module_version": "1.2.0",
            "_view_name": "StyleView",
            "bar_color": null,
            "description_width": ""
          }
        },
        "6388eef279bc4b47a68ff46f29d8cc8c": {
          "model_module": "@jupyter-widgets/base",
          "model_name": "LayoutModel",
          "model_module_version": "1.2.0",
          "state": {
            "_model_module": "@jupyter-widgets/base",
            "_model_module_version": "1.2.0",
            "_model_name": "LayoutModel",
            "_view_count": null,
            "_view_module": "@jupyter-widgets/base",
            "_view_module_version": "1.2.0",
            "_view_name": "LayoutView",
            "align_content": null,
            "align_items": null,
            "align_self": null,
            "border": null,
            "bottom": null,
            "display": null,
            "flex": null,
            "flex_flow": null,
            "grid_area": null,
            "grid_auto_columns": null,
            "grid_auto_flow": null,
            "grid_auto_rows": null,
            "grid_column": null,
            "grid_gap": null,
            "grid_row": null,
            "grid_template_areas": null,
            "grid_template_columns": null,
            "grid_template_rows": null,
            "height": null,
            "justify_content": null,
            "justify_items": null,
            "left": null,
            "margin": null,
            "max_height": null,
            "max_width": null,
            "min_height": null,
            "min_width": null,
            "object_fit": null,
            "object_position": null,
            "order": null,
            "overflow": null,
            "overflow_x": null,
            "overflow_y": null,
            "padding": null,
            "right": null,
            "top": null,
            "visibility": null,
            "width": null
          }
        },
        "493c3bb5131743079bbb700dd16c7f29": {
          "model_module": "@jupyter-widgets/controls",
          "model_name": "DescriptionStyleModel",
          "model_module_version": "1.5.0",
          "state": {
            "_model_module": "@jupyter-widgets/controls",
            "_model_module_version": "1.5.0",
            "_model_name": "DescriptionStyleModel",
            "_view_count": null,
            "_view_module": "@jupyter-widgets/base",
            "_view_module_version": "1.2.0",
            "_view_name": "StyleView",
            "description_width": ""
          }
        },
        "bada1af1dc01415f8b7c4af46e8ec1f4": {
          "model_module": "@jupyter-widgets/controls",
          "model_name": "HBoxModel",
          "model_module_version": "1.5.0",
          "state": {
            "_dom_classes": [],
            "_model_module": "@jupyter-widgets/controls",
            "_model_module_version": "1.5.0",
            "_model_name": "HBoxModel",
            "_view_count": null,
            "_view_module": "@jupyter-widgets/controls",
            "_view_module_version": "1.5.0",
            "_view_name": "HBoxView",
            "box_style": "",
            "children": [
              "IPY_MODEL_96087dd5697841c5b6e34f0b68078518",
              "IPY_MODEL_5774815e3e414edab9d96c7b1e03ad87",
              "IPY_MODEL_623ec0b3e1d647dc810cbcd7a8e93578"
            ],
            "layout": "IPY_MODEL_4b92a2ee7668454bbd6b4bd897793c98"
          }
        },
        "96087dd5697841c5b6e34f0b68078518": {
          "model_module": "@jupyter-widgets/controls",
          "model_name": "HTMLModel",
          "model_module_version": "1.5.0",
          "state": {
            "_dom_classes": [],
            "_model_module": "@jupyter-widgets/controls",
            "_model_module_version": "1.5.0",
            "_model_name": "HTMLModel",
            "_view_count": null,
            "_view_module": "@jupyter-widgets/controls",
            "_view_module_version": "1.5.0",
            "_view_name": "HTMLView",
            "description": "",
            "description_tooltip": null,
            "layout": "IPY_MODEL_8e7792beabfe4d6a81658c936b797335",
            "placeholder": "​",
            "style": "IPY_MODEL_72493afb312646e2bc842547b25c2d76",
            "value": "config.json: 100%"
          }
        },
        "5774815e3e414edab9d96c7b1e03ad87": {
          "model_module": "@jupyter-widgets/controls",
          "model_name": "FloatProgressModel",
          "model_module_version": "1.5.0",
          "state": {
            "_dom_classes": [],
            "_model_module": "@jupyter-widgets/controls",
            "_model_module_version": "1.5.0",
            "_model_name": "FloatProgressModel",
            "_view_count": null,
            "_view_module": "@jupyter-widgets/controls",
            "_view_module_version": "1.5.0",
            "_view_name": "ProgressView",
            "bar_style": "success",
            "description": "",
            "description_tooltip": null,
            "layout": "IPY_MODEL_02db600ec4154438a323f10307316fa8",
            "max": 570,
            "min": 0,
            "orientation": "horizontal",
            "style": "IPY_MODEL_d22516b9f56445a8a77fc3eae336d11f",
            "value": 570
          }
        },
        "623ec0b3e1d647dc810cbcd7a8e93578": {
          "model_module": "@jupyter-widgets/controls",
          "model_name": "HTMLModel",
          "model_module_version": "1.5.0",
          "state": {
            "_dom_classes": [],
            "_model_module": "@jupyter-widgets/controls",
            "_model_module_version": "1.5.0",
            "_model_name": "HTMLModel",
            "_view_count": null,
            "_view_module": "@jupyter-widgets/controls",
            "_view_module_version": "1.5.0",
            "_view_name": "HTMLView",
            "description": "",
            "description_tooltip": null,
            "layout": "IPY_MODEL_3eb1bc0686db4dce874c20f80ac3cc46",
            "placeholder": "​",
            "style": "IPY_MODEL_289a9e51ef634dd2960540c8d7aac0d2",
            "value": " 570/570 [00:00&lt;00:00, 14.2kB/s]"
          }
        },
        "4b92a2ee7668454bbd6b4bd897793c98": {
          "model_module": "@jupyter-widgets/base",
          "model_name": "LayoutModel",
          "model_module_version": "1.2.0",
          "state": {
            "_model_module": "@jupyter-widgets/base",
            "_model_module_version": "1.2.0",
            "_model_name": "LayoutModel",
            "_view_count": null,
            "_view_module": "@jupyter-widgets/base",
            "_view_module_version": "1.2.0",
            "_view_name": "LayoutView",
            "align_content": null,
            "align_items": null,
            "align_self": null,
            "border": null,
            "bottom": null,
            "display": null,
            "flex": null,
            "flex_flow": null,
            "grid_area": null,
            "grid_auto_columns": null,
            "grid_auto_flow": null,
            "grid_auto_rows": null,
            "grid_column": null,
            "grid_gap": null,
            "grid_row": null,
            "grid_template_areas": null,
            "grid_template_columns": null,
            "grid_template_rows": null,
            "height": null,
            "justify_content": null,
            "justify_items": null,
            "left": null,
            "margin": null,
            "max_height": null,
            "max_width": null,
            "min_height": null,
            "min_width": null,
            "object_fit": null,
            "object_position": null,
            "order": null,
            "overflow": null,
            "overflow_x": null,
            "overflow_y": null,
            "padding": null,
            "right": null,
            "top": null,
            "visibility": null,
            "width": null
          }
        },
        "8e7792beabfe4d6a81658c936b797335": {
          "model_module": "@jupyter-widgets/base",
          "model_name": "LayoutModel",
          "model_module_version": "1.2.0",
          "state": {
            "_model_module": "@jupyter-widgets/base",
            "_model_module_version": "1.2.0",
            "_model_name": "LayoutModel",
            "_view_count": null,
            "_view_module": "@jupyter-widgets/base",
            "_view_module_version": "1.2.0",
            "_view_name": "LayoutView",
            "align_content": null,
            "align_items": null,
            "align_self": null,
            "border": null,
            "bottom": null,
            "display": null,
            "flex": null,
            "flex_flow": null,
            "grid_area": null,
            "grid_auto_columns": null,
            "grid_auto_flow": null,
            "grid_auto_rows": null,
            "grid_column": null,
            "grid_gap": null,
            "grid_row": null,
            "grid_template_areas": null,
            "grid_template_columns": null,
            "grid_template_rows": null,
            "height": null,
            "justify_content": null,
            "justify_items": null,
            "left": null,
            "margin": null,
            "max_height": null,
            "max_width": null,
            "min_height": null,
            "min_width": null,
            "object_fit": null,
            "object_position": null,
            "order": null,
            "overflow": null,
            "overflow_x": null,
            "overflow_y": null,
            "padding": null,
            "right": null,
            "top": null,
            "visibility": null,
            "width": null
          }
        },
        "72493afb312646e2bc842547b25c2d76": {
          "model_module": "@jupyter-widgets/controls",
          "model_name": "DescriptionStyleModel",
          "model_module_version": "1.5.0",
          "state": {
            "_model_module": "@jupyter-widgets/controls",
            "_model_module_version": "1.5.0",
            "_model_name": "DescriptionStyleModel",
            "_view_count": null,
            "_view_module": "@jupyter-widgets/base",
            "_view_module_version": "1.2.0",
            "_view_name": "StyleView",
            "description_width": ""
          }
        },
        "02db600ec4154438a323f10307316fa8": {
          "model_module": "@jupyter-widgets/base",
          "model_name": "LayoutModel",
          "model_module_version": "1.2.0",
          "state": {
            "_model_module": "@jupyter-widgets/base",
            "_model_module_version": "1.2.0",
            "_model_name": "LayoutModel",
            "_view_count": null,
            "_view_module": "@jupyter-widgets/base",
            "_view_module_version": "1.2.0",
            "_view_name": "LayoutView",
            "align_content": null,
            "align_items": null,
            "align_self": null,
            "border": null,
            "bottom": null,
            "display": null,
            "flex": null,
            "flex_flow": null,
            "grid_area": null,
            "grid_auto_columns": null,
            "grid_auto_flow": null,
            "grid_auto_rows": null,
            "grid_column": null,
            "grid_gap": null,
            "grid_row": null,
            "grid_template_areas": null,
            "grid_template_columns": null,
            "grid_template_rows": null,
            "height": null,
            "justify_content": null,
            "justify_items": null,
            "left": null,
            "margin": null,
            "max_height": null,
            "max_width": null,
            "min_height": null,
            "min_width": null,
            "object_fit": null,
            "object_position": null,
            "order": null,
            "overflow": null,
            "overflow_x": null,
            "overflow_y": null,
            "padding": null,
            "right": null,
            "top": null,
            "visibility": null,
            "width": null
          }
        },
        "d22516b9f56445a8a77fc3eae336d11f": {
          "model_module": "@jupyter-widgets/controls",
          "model_name": "ProgressStyleModel",
          "model_module_version": "1.5.0",
          "state": {
            "_model_module": "@jupyter-widgets/controls",
            "_model_module_version": "1.5.0",
            "_model_name": "ProgressStyleModel",
            "_view_count": null,
            "_view_module": "@jupyter-widgets/base",
            "_view_module_version": "1.2.0",
            "_view_name": "StyleView",
            "bar_color": null,
            "description_width": ""
          }
        },
        "3eb1bc0686db4dce874c20f80ac3cc46": {
          "model_module": "@jupyter-widgets/base",
          "model_name": "LayoutModel",
          "model_module_version": "1.2.0",
          "state": {
            "_model_module": "@jupyter-widgets/base",
            "_model_module_version": "1.2.0",
            "_model_name": "LayoutModel",
            "_view_count": null,
            "_view_module": "@jupyter-widgets/base",
            "_view_module_version": "1.2.0",
            "_view_name": "LayoutView",
            "align_content": null,
            "align_items": null,
            "align_self": null,
            "border": null,
            "bottom": null,
            "display": null,
            "flex": null,
            "flex_flow": null,
            "grid_area": null,
            "grid_auto_columns": null,
            "grid_auto_flow": null,
            "grid_auto_rows": null,
            "grid_column": null,
            "grid_gap": null,
            "grid_row": null,
            "grid_template_areas": null,
            "grid_template_columns": null,
            "grid_template_rows": null,
            "height": null,
            "justify_content": null,
            "justify_items": null,
            "left": null,
            "margin": null,
            "max_height": null,
            "max_width": null,
            "min_height": null,
            "min_width": null,
            "object_fit": null,
            "object_position": null,
            "order": null,
            "overflow": null,
            "overflow_x": null,
            "overflow_y": null,
            "padding": null,
            "right": null,
            "top": null,
            "visibility": null,
            "width": null
          }
        },
        "289a9e51ef634dd2960540c8d7aac0d2": {
          "model_module": "@jupyter-widgets/controls",
          "model_name": "DescriptionStyleModel",
          "model_module_version": "1.5.0",
          "state": {
            "_model_module": "@jupyter-widgets/controls",
            "_model_module_version": "1.5.0",
            "_model_name": "DescriptionStyleModel",
            "_view_count": null,
            "_view_module": "@jupyter-widgets/base",
            "_view_module_version": "1.2.0",
            "_view_name": "StyleView",
            "description_width": ""
          }
        },
        "4a7f52a6ec274da1ace0e7cd41c21e3d": {
          "model_module": "@jupyter-widgets/controls",
          "model_name": "HBoxModel",
          "model_module_version": "1.5.0",
          "state": {
            "_dom_classes": [],
            "_model_module": "@jupyter-widgets/controls",
            "_model_module_version": "1.5.0",
            "_model_name": "HBoxModel",
            "_view_count": null,
            "_view_module": "@jupyter-widgets/controls",
            "_view_module_version": "1.5.0",
            "_view_name": "HBoxView",
            "box_style": "",
            "children": [
              "IPY_MODEL_4ad5a1317f484b948718d3e0ff1e9322",
              "IPY_MODEL_bbbb4fe4591c45c7b0393ab9e82f2116",
              "IPY_MODEL_0ed4c889553d4280b86351b0bb9762f8"
            ],
            "layout": "IPY_MODEL_c4efebf3bd6f4d58a80278da22ee40e9"
          }
        },
        "4ad5a1317f484b948718d3e0ff1e9322": {
          "model_module": "@jupyter-widgets/controls",
          "model_name": "HTMLModel",
          "model_module_version": "1.5.0",
          "state": {
            "_dom_classes": [],
            "_model_module": "@jupyter-widgets/controls",
            "_model_module_version": "1.5.0",
            "_model_name": "HTMLModel",
            "_view_count": null,
            "_view_module": "@jupyter-widgets/controls",
            "_view_module_version": "1.5.0",
            "_view_name": "HTMLView",
            "description": "",
            "description_tooltip": null,
            "layout": "IPY_MODEL_4d45182699cf428ca0e09bb3360a681a",
            "placeholder": "​",
            "style": "IPY_MODEL_1db81445af09446d8ec359d39506da56",
            "value": "model.safetensors: 100%"
          }
        },
        "bbbb4fe4591c45c7b0393ab9e82f2116": {
          "model_module": "@jupyter-widgets/controls",
          "model_name": "FloatProgressModel",
          "model_module_version": "1.5.0",
          "state": {
            "_dom_classes": [],
            "_model_module": "@jupyter-widgets/controls",
            "_model_module_version": "1.5.0",
            "_model_name": "FloatProgressModel",
            "_view_count": null,
            "_view_module": "@jupyter-widgets/controls",
            "_view_module_version": "1.5.0",
            "_view_name": "ProgressView",
            "bar_style": "success",
            "description": "",
            "description_tooltip": null,
            "layout": "IPY_MODEL_8bad05afc4ee4d63805f08343aa3a882",
            "max": 440449768,
            "min": 0,
            "orientation": "horizontal",
            "style": "IPY_MODEL_6bdbd1c81f4747a8ae0bcb944da82ddb",
            "value": 440449768
          }
        },
        "0ed4c889553d4280b86351b0bb9762f8": {
          "model_module": "@jupyter-widgets/controls",
          "model_name": "HTMLModel",
          "model_module_version": "1.5.0",
          "state": {
            "_dom_classes": [],
            "_model_module": "@jupyter-widgets/controls",
            "_model_module_version": "1.5.0",
            "_model_name": "HTMLModel",
            "_view_count": null,
            "_view_module": "@jupyter-widgets/controls",
            "_view_module_version": "1.5.0",
            "_view_name": "HTMLView",
            "description": "",
            "description_tooltip": null,
            "layout": "IPY_MODEL_a1cca324c7b647ca8794024458df542e",
            "placeholder": "​",
            "style": "IPY_MODEL_f4d868ba879747acbabd90ae70a10524",
            "value": " 440M/440M [00:05&lt;00:00, 28.3MB/s]"
          }
        },
        "c4efebf3bd6f4d58a80278da22ee40e9": {
          "model_module": "@jupyter-widgets/base",
          "model_name": "LayoutModel",
          "model_module_version": "1.2.0",
          "state": {
            "_model_module": "@jupyter-widgets/base",
            "_model_module_version": "1.2.0",
            "_model_name": "LayoutModel",
            "_view_count": null,
            "_view_module": "@jupyter-widgets/base",
            "_view_module_version": "1.2.0",
            "_view_name": "LayoutView",
            "align_content": null,
            "align_items": null,
            "align_self": null,
            "border": null,
            "bottom": null,
            "display": null,
            "flex": null,
            "flex_flow": null,
            "grid_area": null,
            "grid_auto_columns": null,
            "grid_auto_flow": null,
            "grid_auto_rows": null,
            "grid_column": null,
            "grid_gap": null,
            "grid_row": null,
            "grid_template_areas": null,
            "grid_template_columns": null,
            "grid_template_rows": null,
            "height": null,
            "justify_content": null,
            "justify_items": null,
            "left": null,
            "margin": null,
            "max_height": null,
            "max_width": null,
            "min_height": null,
            "min_width": null,
            "object_fit": null,
            "object_position": null,
            "order": null,
            "overflow": null,
            "overflow_x": null,
            "overflow_y": null,
            "padding": null,
            "right": null,
            "top": null,
            "visibility": null,
            "width": null
          }
        },
        "4d45182699cf428ca0e09bb3360a681a": {
          "model_module": "@jupyter-widgets/base",
          "model_name": "LayoutModel",
          "model_module_version": "1.2.0",
          "state": {
            "_model_module": "@jupyter-widgets/base",
            "_model_module_version": "1.2.0",
            "_model_name": "LayoutModel",
            "_view_count": null,
            "_view_module": "@jupyter-widgets/base",
            "_view_module_version": "1.2.0",
            "_view_name": "LayoutView",
            "align_content": null,
            "align_items": null,
            "align_self": null,
            "border": null,
            "bottom": null,
            "display": null,
            "flex": null,
            "flex_flow": null,
            "grid_area": null,
            "grid_auto_columns": null,
            "grid_auto_flow": null,
            "grid_auto_rows": null,
            "grid_column": null,
            "grid_gap": null,
            "grid_row": null,
            "grid_template_areas": null,
            "grid_template_columns": null,
            "grid_template_rows": null,
            "height": null,
            "justify_content": null,
            "justify_items": null,
            "left": null,
            "margin": null,
            "max_height": null,
            "max_width": null,
            "min_height": null,
            "min_width": null,
            "object_fit": null,
            "object_position": null,
            "order": null,
            "overflow": null,
            "overflow_x": null,
            "overflow_y": null,
            "padding": null,
            "right": null,
            "top": null,
            "visibility": null,
            "width": null
          }
        },
        "1db81445af09446d8ec359d39506da56": {
          "model_module": "@jupyter-widgets/controls",
          "model_name": "DescriptionStyleModel",
          "model_module_version": "1.5.0",
          "state": {
            "_model_module": "@jupyter-widgets/controls",
            "_model_module_version": "1.5.0",
            "_model_name": "DescriptionStyleModel",
            "_view_count": null,
            "_view_module": "@jupyter-widgets/base",
            "_view_module_version": "1.2.0",
            "_view_name": "StyleView",
            "description_width": ""
          }
        },
        "8bad05afc4ee4d63805f08343aa3a882": {
          "model_module": "@jupyter-widgets/base",
          "model_name": "LayoutModel",
          "model_module_version": "1.2.0",
          "state": {
            "_model_module": "@jupyter-widgets/base",
            "_model_module_version": "1.2.0",
            "_model_name": "LayoutModel",
            "_view_count": null,
            "_view_module": "@jupyter-widgets/base",
            "_view_module_version": "1.2.0",
            "_view_name": "LayoutView",
            "align_content": null,
            "align_items": null,
            "align_self": null,
            "border": null,
            "bottom": null,
            "display": null,
            "flex": null,
            "flex_flow": null,
            "grid_area": null,
            "grid_auto_columns": null,
            "grid_auto_flow": null,
            "grid_auto_rows": null,
            "grid_column": null,
            "grid_gap": null,
            "grid_row": null,
            "grid_template_areas": null,
            "grid_template_columns": null,
            "grid_template_rows": null,
            "height": null,
            "justify_content": null,
            "justify_items": null,
            "left": null,
            "margin": null,
            "max_height": null,
            "max_width": null,
            "min_height": null,
            "min_width": null,
            "object_fit": null,
            "object_position": null,
            "order": null,
            "overflow": null,
            "overflow_x": null,
            "overflow_y": null,
            "padding": null,
            "right": null,
            "top": null,
            "visibility": null,
            "width": null
          }
        },
        "6bdbd1c81f4747a8ae0bcb944da82ddb": {
          "model_module": "@jupyter-widgets/controls",
          "model_name": "ProgressStyleModel",
          "model_module_version": "1.5.0",
          "state": {
            "_model_module": "@jupyter-widgets/controls",
            "_model_module_version": "1.5.0",
            "_model_name": "ProgressStyleModel",
            "_view_count": null,
            "_view_module": "@jupyter-widgets/base",
            "_view_module_version": "1.2.0",
            "_view_name": "StyleView",
            "bar_color": null,
            "description_width": ""
          }
        },
        "a1cca324c7b647ca8794024458df542e": {
          "model_module": "@jupyter-widgets/base",
          "model_name": "LayoutModel",
          "model_module_version": "1.2.0",
          "state": {
            "_model_module": "@jupyter-widgets/base",
            "_model_module_version": "1.2.0",
            "_model_name": "LayoutModel",
            "_view_count": null,
            "_view_module": "@jupyter-widgets/base",
            "_view_module_version": "1.2.0",
            "_view_name": "LayoutView",
            "align_content": null,
            "align_items": null,
            "align_self": null,
            "border": null,
            "bottom": null,
            "display": null,
            "flex": null,
            "flex_flow": null,
            "grid_area": null,
            "grid_auto_columns": null,
            "grid_auto_flow": null,
            "grid_auto_rows": null,
            "grid_column": null,
            "grid_gap": null,
            "grid_row": null,
            "grid_template_areas": null,
            "grid_template_columns": null,
            "grid_template_rows": null,
            "height": null,
            "justify_content": null,
            "justify_items": null,
            "left": null,
            "margin": null,
            "max_height": null,
            "max_width": null,
            "min_height": null,
            "min_width": null,
            "object_fit": null,
            "object_position": null,
            "order": null,
            "overflow": null,
            "overflow_x": null,
            "overflow_y": null,
            "padding": null,
            "right": null,
            "top": null,
            "visibility": null,
            "width": null
          }
        },
        "f4d868ba879747acbabd90ae70a10524": {
          "model_module": "@jupyter-widgets/controls",
          "model_name": "DescriptionStyleModel",
          "model_module_version": "1.5.0",
          "state": {
            "_model_module": "@jupyter-widgets/controls",
            "_model_module_version": "1.5.0",
            "_model_name": "DescriptionStyleModel",
            "_view_count": null,
            "_view_module": "@jupyter-widgets/base",
            "_view_module_version": "1.2.0",
            "_view_name": "StyleView",
            "description_width": ""
          }
        }
      }
    }
  },
  "nbformat_minor": 0,
  "nbformat": 4,
  "cells": [
    {
      "cell_type": "code",
      "source": [
        "import numpy as np # linear algebra\n",
        "import pandas as pd # data processing, CSV file I/O (e.g. pd.read_csv)\n",
        "\n",
        "import os\n",
        "\n",
        "for dirname, _, filenames in os.walk('/kaggle/input'):\n",
        "    for filename in filenames:\n",
        "        print(os.path.join(dirname, filename))"
      ],
      "metadata": {
        "_uuid": "8f2839f25d086af736a60e9eeb907d3b93b6e0e5",
        "_cell_guid": "b1076dfc-b9ad-4769-8c92-a6c4dae69d19",
        "execution": {
          "iopub.status.busy": "2024-02-26T00:09:51.011823Z",
          "iopub.execute_input": "2024-02-26T00:09:51.012153Z",
          "iopub.status.idle": "2024-02-26T00:09:51.368193Z",
          "shell.execute_reply.started": "2024-02-26T00:09:51.012126Z",
          "shell.execute_reply": "2024-02-26T00:09:51.367312Z"
        },
        "trusted": true,
        "id": "M97EoOa6kBIe"
      },
      "execution_count": null,
      "outputs": []
    },
    {
      "cell_type": "code",
      "source": [
        "CLEAN_TWEETS = False"
      ],
      "metadata": {
        "execution": {
          "iopub.status.busy": "2024-02-26T00:09:53.660669Z",
          "iopub.execute_input": "2024-02-26T00:09:53.66112Z",
          "iopub.status.idle": "2024-02-26T00:09:53.665557Z",
          "shell.execute_reply.started": "2024-02-26T00:09:53.66109Z",
          "shell.execute_reply": "2024-02-26T00:09:53.664376Z"
        },
        "trusted": true,
        "id": "xPiJJ2NUkBIj"
      },
      "execution_count": null,
      "outputs": []
    },
    {
      "cell_type": "markdown",
      "source": [
        "# Importing library and checking GPU"
      ],
      "metadata": {
        "id": "FRpcD3p8kBIk"
      }
    },
    {
      "cell_type": "code",
      "source": [
        "import numpy as np\n",
        "import pandas as pd\n",
        "import os, re\n",
        "\n",
        "import matplotlib.pyplot as plt"
      ],
      "metadata": {
        "execution": {
          "iopub.status.busy": "2024-02-26T00:09:55.588856Z",
          "iopub.execute_input": "2024-02-26T00:09:55.589175Z",
          "iopub.status.idle": "2024-02-26T00:09:55.593475Z",
          "shell.execute_reply.started": "2024-02-26T00:09:55.589152Z",
          "shell.execute_reply": "2024-02-26T00:09:55.592543Z"
        },
        "trusted": true,
        "id": "gYrWc5R0kBIl"
      },
      "execution_count": null,
      "outputs": []
    },
    {
      "cell_type": "code",
      "source": [
        "import tensorflow as tf\n",
        "# Get the GPU device name.\n",
        "# Setting up the device for GPU usage\n",
        "!pip install torch torchvision torchaudio --index-url https://download.pytorch.org/whl/cu118\n",
        "# Import the torch module to access its functions\n",
        "import torch\n",
        "device = 'cuda' if torch.cuda.is_available() else 'cpu'\n",
        "print(device)"
      ],
      "metadata": {
        "execution": {
          "iopub.status.busy": "2024-02-26T00:09:57.147026Z",
          "iopub.execute_input": "2024-02-26T00:09:57.147399Z",
          "iopub.status.idle": "2024-02-26T00:10:09.272601Z",
          "shell.execute_reply.started": "2024-02-26T00:09:57.147364Z",
          "shell.execute_reply": "2024-02-26T00:10:09.271663Z"
        },
        "trusted": true,
        "colab": {
          "base_uri": "https://localhost:8080/"
        },
        "id": "mpOdmZLCkBIl",
        "outputId": "953ff2b5-a669-4215-c61f-4ffb61003d26"
      },
      "execution_count": null,
      "outputs": [
        {
          "output_type": "stream",
          "name": "stdout",
          "text": [
            "Looking in indexes: https://download.pytorch.org/whl/cu118\n",
            "Requirement already satisfied: torch in /usr/local/lib/python3.10/dist-packages (2.5.1+cu121)\n",
            "Requirement already satisfied: torchvision in /usr/local/lib/python3.10/dist-packages (0.20.1+cu121)\n",
            "Requirement already satisfied: torchaudio in /usr/local/lib/python3.10/dist-packages (2.5.1+cu121)\n",
            "Requirement already satisfied: filelock in /usr/local/lib/python3.10/dist-packages (from torch) (3.16.1)\n",
            "Requirement already satisfied: typing-extensions>=4.8.0 in /usr/local/lib/python3.10/dist-packages (from torch) (4.12.2)\n",
            "Requirement already satisfied: networkx in /usr/local/lib/python3.10/dist-packages (from torch) (3.4.2)\n",
            "Requirement already satisfied: jinja2 in /usr/local/lib/python3.10/dist-packages (from torch) (3.1.4)\n",
            "Requirement already satisfied: fsspec in /usr/local/lib/python3.10/dist-packages (from torch) (2024.10.0)\n",
            "Requirement already satisfied: sympy==1.13.1 in /usr/local/lib/python3.10/dist-packages (from torch) (1.13.1)\n",
            "Requirement already satisfied: mpmath<1.4,>=1.1.0 in /usr/local/lib/python3.10/dist-packages (from sympy==1.13.1->torch) (1.3.0)\n",
            "Requirement already satisfied: numpy in /usr/local/lib/python3.10/dist-packages (from torchvision) (1.26.4)\n",
            "Requirement already satisfied: pillow!=8.3.*,>=5.3.0 in /usr/local/lib/python3.10/dist-packages (from torchvision) (11.0.0)\n",
            "Requirement already satisfied: MarkupSafe>=2.0 in /usr/local/lib/python3.10/dist-packages (from jinja2->torch) (3.0.2)\n",
            "cuda\n"
          ]
        }
      ]
    },
    {
      "cell_type": "code",
      "source": [
        "import torch\n",
        "\n",
        "# If there's a GPU available...\n",
        "if torch.cuda.is_available():\n",
        "\n",
        "    # Tell PyTorch to use the GPU.\n",
        "    device = torch.device(\"cuda\")\n",
        "\n",
        "    print('There are %d GPU(s) available.' % torch.cuda.device_count())\n",
        "\n",
        "    print('We will use the GPU:', torch.cuda.get_device_name(0))\n",
        "\n",
        "# If not...\n",
        "else:\n",
        "    print('No GPU available, using the CPU instead.')\n",
        "    device = torch.device(\"cpu\")"
      ],
      "metadata": {
        "execution": {
          "iopub.status.busy": "2024-02-26T00:10:12.779139Z",
          "iopub.execute_input": "2024-02-26T00:10:12.779801Z",
          "iopub.status.idle": "2024-02-26T00:10:14.874258Z",
          "shell.execute_reply.started": "2024-02-26T00:10:12.779767Z",
          "shell.execute_reply": "2024-02-26T00:10:14.87329Z"
        },
        "trusted": true,
        "id": "xbBUsE8KkBIm",
        "colab": {
          "base_uri": "https://localhost:8080/"
        },
        "outputId": "548f5fd1-bc0e-47b0-df85-725212e18353"
      },
      "execution_count": null,
      "outputs": [
        {
          "output_type": "stream",
          "name": "stdout",
          "text": [
            "There are 1 GPU(s) available.\n",
            "We will use the GPU: Tesla T4\n"
          ]
        }
      ]
    },
    {
      "cell_type": "code",
      "source": [
        "!pip install transformers"
      ],
      "metadata": {
        "execution": {
          "iopub.status.busy": "2024-02-25T08:54:55.500171Z",
          "iopub.execute_input": "2024-02-25T08:54:55.500729Z",
          "iopub.status.idle": "2024-02-25T08:55:08.338764Z",
          "shell.execute_reply.started": "2024-02-25T08:54:55.500704Z",
          "shell.execute_reply": "2024-02-25T08:55:08.337729Z"
        },
        "trusted": true,
        "id": "hGh4G7t7kBIm",
        "colab": {
          "base_uri": "https://localhost:8080/"
        },
        "outputId": "351175d9-9c95-4374-a4a1-3963b8d989c6"
      },
      "execution_count": null,
      "outputs": [
        {
          "output_type": "stream",
          "name": "stdout",
          "text": [
            "Requirement already satisfied: transformers in /usr/local/lib/python3.10/dist-packages (4.46.2)\n",
            "Requirement already satisfied: filelock in /usr/local/lib/python3.10/dist-packages (from transformers) (3.16.1)\n",
            "Requirement already satisfied: huggingface-hub<1.0,>=0.23.2 in /usr/local/lib/python3.10/dist-packages (from transformers) (0.26.2)\n",
            "Requirement already satisfied: numpy>=1.17 in /usr/local/lib/python3.10/dist-packages (from transformers) (1.26.4)\n",
            "Requirement already satisfied: packaging>=20.0 in /usr/local/lib/python3.10/dist-packages (from transformers) (24.2)\n",
            "Requirement already satisfied: pyyaml>=5.1 in /usr/local/lib/python3.10/dist-packages (from transformers) (6.0.2)\n",
            "Requirement already satisfied: regex!=2019.12.17 in /usr/local/lib/python3.10/dist-packages (from transformers) (2024.9.11)\n",
            "Requirement already satisfied: requests in /usr/local/lib/python3.10/dist-packages (from transformers) (2.32.3)\n",
            "Requirement already satisfied: safetensors>=0.4.1 in /usr/local/lib/python3.10/dist-packages (from transformers) (0.4.5)\n",
            "Requirement already satisfied: tokenizers<0.21,>=0.20 in /usr/local/lib/python3.10/dist-packages (from transformers) (0.20.3)\n",
            "Requirement already satisfied: tqdm>=4.27 in /usr/local/lib/python3.10/dist-packages (from transformers) (4.66.6)\n",
            "Requirement already satisfied: fsspec>=2023.5.0 in /usr/local/lib/python3.10/dist-packages (from huggingface-hub<1.0,>=0.23.2->transformers) (2024.10.0)\n",
            "Requirement already satisfied: typing-extensions>=3.7.4.3 in /usr/local/lib/python3.10/dist-packages (from huggingface-hub<1.0,>=0.23.2->transformers) (4.12.2)\n",
            "Requirement already satisfied: charset-normalizer<4,>=2 in /usr/local/lib/python3.10/dist-packages (from requests->transformers) (3.4.0)\n",
            "Requirement already satisfied: idna<4,>=2.5 in /usr/local/lib/python3.10/dist-packages (from requests->transformers) (3.10)\n",
            "Requirement already satisfied: urllib3<3,>=1.21.1 in /usr/local/lib/python3.10/dist-packages (from requests->transformers) (2.2.3)\n",
            "Requirement already satisfied: certifi>=2017.4.17 in /usr/local/lib/python3.10/dist-packages (from requests->transformers) (2024.8.30)\n"
          ]
        }
      ]
    },
    {
      "cell_type": "markdown",
      "source": [
        "Installing Hugging face lib, but look like they already interaged in"
      ],
      "metadata": {
        "id": "NuEuc9EOkBIn"
      }
    },
    {
      "cell_type": "code",
      "source": [
        "df = pd.read_csv('labeled_data.csv')\n",
        "\n",
        "print('Number of training sentences: {:,}\\n'.format(df.shape[0]))\n",
        "# Display 10 random rows from the data.\n",
        "df.sample(10)"
      ],
      "metadata": {
        "execution": {
          "iopub.status.busy": "2024-02-26T00:10:23.163646Z",
          "iopub.execute_input": "2024-02-26T00:10:23.164589Z",
          "iopub.status.idle": "2024-02-26T00:10:23.266998Z",
          "shell.execute_reply.started": "2024-02-26T00:10:23.164555Z",
          "shell.execute_reply": "2024-02-26T00:10:23.266086Z"
        },
        "trusted": true,
        "colab": {
          "base_uri": "https://localhost:8080/",
          "height": 397
        },
        "id": "_d0HQapYkBIo",
        "outputId": "c67f5861-66dc-4ed2-909a-40d7d653054f"
      },
      "execution_count": null,
      "outputs": [
        {
          "output_type": "stream",
          "name": "stdout",
          "text": [
            "Number of training sentences: 24,783\n",
            "\n"
          ]
        },
        {
          "output_type": "execute_result",
          "data": {
            "text/plain": [
              "       Unnamed: 0  count  hate_speech  offensive_language  neither  class  \\\n",
              "17588       17987      6            0                   6        0      1   \n",
              "21098       21551      3            0                   3        0      1   \n",
              "24190       24694      3            0                   3        0      1   \n",
              "4484         4616      3            0                   3        0      1   \n",
              "15353       15716      3            0                   3        0      1   \n",
              "11197       11484      3            0                   3        0      1   \n",
              "19070       19495      3            1                   2        0      1   \n",
              "4364         4492      3            0                   2        1      1   \n",
              "6718         6906      3            0                   0        3      2   \n",
              "12567       12879      3            0                   3        0      1   \n",
              "\n",
              "                                                   tweet  \n",
              "17588  RT @TeeeeRenee: bitches b tweeting everything ...  \n",
              "21098       Son why is our mail lady so ghetto &#128529;  \n",
              "24190  look at this bitch, walking too close to my fu...  \n",
              "4484   @RainaluvsA intimidated?! What pussies, all I ...  \n",
              "15353  RT @Gmel_Genuine: When ya broke ONLY real bitc...  \n",
              "11197                       I'm XXX triple x rated bitch  \n",
              "19070  RT @gucci10I7: side hoes shall only eat side d...  \n",
              "4364                     @OsvaldoVause text me u nigglet  \n",
              "6718   @moneypulatief @globalriot Nee dat is na langd...  \n",
              "12567  Lmfaooooooooo bro RT @BrandNewAndrew: Stripper...  "
            ],
            "text/html": [
              "\n",
              "  <div id=\"df-163d2706-9945-46a8-aec8-fc61b41e3cbf\" class=\"colab-df-container\">\n",
              "    <div>\n",
              "<style scoped>\n",
              "    .dataframe tbody tr th:only-of-type {\n",
              "        vertical-align: middle;\n",
              "    }\n",
              "\n",
              "    .dataframe tbody tr th {\n",
              "        vertical-align: top;\n",
              "    }\n",
              "\n",
              "    .dataframe thead th {\n",
              "        text-align: right;\n",
              "    }\n",
              "</style>\n",
              "<table border=\"1\" class=\"dataframe\">\n",
              "  <thead>\n",
              "    <tr style=\"text-align: right;\">\n",
              "      <th></th>\n",
              "      <th>Unnamed: 0</th>\n",
              "      <th>count</th>\n",
              "      <th>hate_speech</th>\n",
              "      <th>offensive_language</th>\n",
              "      <th>neither</th>\n",
              "      <th>class</th>\n",
              "      <th>tweet</th>\n",
              "    </tr>\n",
              "  </thead>\n",
              "  <tbody>\n",
              "    <tr>\n",
              "      <th>17588</th>\n",
              "      <td>17987</td>\n",
              "      <td>6</td>\n",
              "      <td>0</td>\n",
              "      <td>6</td>\n",
              "      <td>0</td>\n",
              "      <td>1</td>\n",
              "      <td>RT @TeeeeRenee: bitches b tweeting everything ...</td>\n",
              "    </tr>\n",
              "    <tr>\n",
              "      <th>21098</th>\n",
              "      <td>21551</td>\n",
              "      <td>3</td>\n",
              "      <td>0</td>\n",
              "      <td>3</td>\n",
              "      <td>0</td>\n",
              "      <td>1</td>\n",
              "      <td>Son why is our mail lady so ghetto &amp;#128529;</td>\n",
              "    </tr>\n",
              "    <tr>\n",
              "      <th>24190</th>\n",
              "      <td>24694</td>\n",
              "      <td>3</td>\n",
              "      <td>0</td>\n",
              "      <td>3</td>\n",
              "      <td>0</td>\n",
              "      <td>1</td>\n",
              "      <td>look at this bitch, walking too close to my fu...</td>\n",
              "    </tr>\n",
              "    <tr>\n",
              "      <th>4484</th>\n",
              "      <td>4616</td>\n",
              "      <td>3</td>\n",
              "      <td>0</td>\n",
              "      <td>3</td>\n",
              "      <td>0</td>\n",
              "      <td>1</td>\n",
              "      <td>@RainaluvsA intimidated?! What pussies, all I ...</td>\n",
              "    </tr>\n",
              "    <tr>\n",
              "      <th>15353</th>\n",
              "      <td>15716</td>\n",
              "      <td>3</td>\n",
              "      <td>0</td>\n",
              "      <td>3</td>\n",
              "      <td>0</td>\n",
              "      <td>1</td>\n",
              "      <td>RT @Gmel_Genuine: When ya broke ONLY real bitc...</td>\n",
              "    </tr>\n",
              "    <tr>\n",
              "      <th>11197</th>\n",
              "      <td>11484</td>\n",
              "      <td>3</td>\n",
              "      <td>0</td>\n",
              "      <td>3</td>\n",
              "      <td>0</td>\n",
              "      <td>1</td>\n",
              "      <td>I'm XXX triple x rated bitch</td>\n",
              "    </tr>\n",
              "    <tr>\n",
              "      <th>19070</th>\n",
              "      <td>19495</td>\n",
              "      <td>3</td>\n",
              "      <td>1</td>\n",
              "      <td>2</td>\n",
              "      <td>0</td>\n",
              "      <td>1</td>\n",
              "      <td>RT @gucci10I7: side hoes shall only eat side d...</td>\n",
              "    </tr>\n",
              "    <tr>\n",
              "      <th>4364</th>\n",
              "      <td>4492</td>\n",
              "      <td>3</td>\n",
              "      <td>0</td>\n",
              "      <td>2</td>\n",
              "      <td>1</td>\n",
              "      <td>1</td>\n",
              "      <td>@OsvaldoVause text me u nigglet</td>\n",
              "    </tr>\n",
              "    <tr>\n",
              "      <th>6718</th>\n",
              "      <td>6906</td>\n",
              "      <td>3</td>\n",
              "      <td>0</td>\n",
              "      <td>0</td>\n",
              "      <td>3</td>\n",
              "      <td>2</td>\n",
              "      <td>@moneypulatief @globalriot Nee dat is na langd...</td>\n",
              "    </tr>\n",
              "    <tr>\n",
              "      <th>12567</th>\n",
              "      <td>12879</td>\n",
              "      <td>3</td>\n",
              "      <td>0</td>\n",
              "      <td>3</td>\n",
              "      <td>0</td>\n",
              "      <td>1</td>\n",
              "      <td>Lmfaooooooooo bro RT @BrandNewAndrew: Stripper...</td>\n",
              "    </tr>\n",
              "  </tbody>\n",
              "</table>\n",
              "</div>\n",
              "    <div class=\"colab-df-buttons\">\n",
              "\n",
              "  <div class=\"colab-df-container\">\n",
              "    <button class=\"colab-df-convert\" onclick=\"convertToInteractive('df-163d2706-9945-46a8-aec8-fc61b41e3cbf')\"\n",
              "            title=\"Convert this dataframe to an interactive table.\"\n",
              "            style=\"display:none;\">\n",
              "\n",
              "  <svg xmlns=\"http://www.w3.org/2000/svg\" height=\"24px\" viewBox=\"0 -960 960 960\">\n",
              "    <path d=\"M120-120v-720h720v720H120Zm60-500h600v-160H180v160Zm220 220h160v-160H400v160Zm0 220h160v-160H400v160ZM180-400h160v-160H180v160Zm440 0h160v-160H620v160ZM180-180h160v-160H180v160Zm440 0h160v-160H620v160Z\"/>\n",
              "  </svg>\n",
              "    </button>\n",
              "\n",
              "  <style>\n",
              "    .colab-df-container {\n",
              "      display:flex;\n",
              "      gap: 12px;\n",
              "    }\n",
              "\n",
              "    .colab-df-convert {\n",
              "      background-color: #E8F0FE;\n",
              "      border: none;\n",
              "      border-radius: 50%;\n",
              "      cursor: pointer;\n",
              "      display: none;\n",
              "      fill: #1967D2;\n",
              "      height: 32px;\n",
              "      padding: 0 0 0 0;\n",
              "      width: 32px;\n",
              "    }\n",
              "\n",
              "    .colab-df-convert:hover {\n",
              "      background-color: #E2EBFA;\n",
              "      box-shadow: 0px 1px 2px rgba(60, 64, 67, 0.3), 0px 1px 3px 1px rgba(60, 64, 67, 0.15);\n",
              "      fill: #174EA6;\n",
              "    }\n",
              "\n",
              "    .colab-df-buttons div {\n",
              "      margin-bottom: 4px;\n",
              "    }\n",
              "\n",
              "    [theme=dark] .colab-df-convert {\n",
              "      background-color: #3B4455;\n",
              "      fill: #D2E3FC;\n",
              "    }\n",
              "\n",
              "    [theme=dark] .colab-df-convert:hover {\n",
              "      background-color: #434B5C;\n",
              "      box-shadow: 0px 1px 3px 1px rgba(0, 0, 0, 0.15);\n",
              "      filter: drop-shadow(0px 1px 2px rgba(0, 0, 0, 0.3));\n",
              "      fill: #FFFFFF;\n",
              "    }\n",
              "  </style>\n",
              "\n",
              "    <script>\n",
              "      const buttonEl =\n",
              "        document.querySelector('#df-163d2706-9945-46a8-aec8-fc61b41e3cbf button.colab-df-convert');\n",
              "      buttonEl.style.display =\n",
              "        google.colab.kernel.accessAllowed ? 'block' : 'none';\n",
              "\n",
              "      async function convertToInteractive(key) {\n",
              "        const element = document.querySelector('#df-163d2706-9945-46a8-aec8-fc61b41e3cbf');\n",
              "        const dataTable =\n",
              "          await google.colab.kernel.invokeFunction('convertToInteractive',\n",
              "                                                    [key], {});\n",
              "        if (!dataTable) return;\n",
              "\n",
              "        const docLinkHtml = 'Like what you see? Visit the ' +\n",
              "          '<a target=\"_blank\" href=https://colab.research.google.com/notebooks/data_table.ipynb>data table notebook</a>'\n",
              "          + ' to learn more about interactive tables.';\n",
              "        element.innerHTML = '';\n",
              "        dataTable['output_type'] = 'display_data';\n",
              "        await google.colab.output.renderOutput(dataTable, element);\n",
              "        const docLink = document.createElement('div');\n",
              "        docLink.innerHTML = docLinkHtml;\n",
              "        element.appendChild(docLink);\n",
              "      }\n",
              "    </script>\n",
              "  </div>\n",
              "\n",
              "\n",
              "<div id=\"df-50e5a9cc-52a1-42b8-9894-07a9dd525865\">\n",
              "  <button class=\"colab-df-quickchart\" onclick=\"quickchart('df-50e5a9cc-52a1-42b8-9894-07a9dd525865')\"\n",
              "            title=\"Suggest charts\"\n",
              "            style=\"display:none;\">\n",
              "\n",
              "<svg xmlns=\"http://www.w3.org/2000/svg\" height=\"24px\"viewBox=\"0 0 24 24\"\n",
              "     width=\"24px\">\n",
              "    <g>\n",
              "        <path d=\"M19 3H5c-1.1 0-2 .9-2 2v14c0 1.1.9 2 2 2h14c1.1 0 2-.9 2-2V5c0-1.1-.9-2-2-2zM9 17H7v-7h2v7zm4 0h-2V7h2v10zm4 0h-2v-4h2v4z\"/>\n",
              "    </g>\n",
              "</svg>\n",
              "  </button>\n",
              "\n",
              "<style>\n",
              "  .colab-df-quickchart {\n",
              "      --bg-color: #E8F0FE;\n",
              "      --fill-color: #1967D2;\n",
              "      --hover-bg-color: #E2EBFA;\n",
              "      --hover-fill-color: #174EA6;\n",
              "      --disabled-fill-color: #AAA;\n",
              "      --disabled-bg-color: #DDD;\n",
              "  }\n",
              "\n",
              "  [theme=dark] .colab-df-quickchart {\n",
              "      --bg-color: #3B4455;\n",
              "      --fill-color: #D2E3FC;\n",
              "      --hover-bg-color: #434B5C;\n",
              "      --hover-fill-color: #FFFFFF;\n",
              "      --disabled-bg-color: #3B4455;\n",
              "      --disabled-fill-color: #666;\n",
              "  }\n",
              "\n",
              "  .colab-df-quickchart {\n",
              "    background-color: var(--bg-color);\n",
              "    border: none;\n",
              "    border-radius: 50%;\n",
              "    cursor: pointer;\n",
              "    display: none;\n",
              "    fill: var(--fill-color);\n",
              "    height: 32px;\n",
              "    padding: 0;\n",
              "    width: 32px;\n",
              "  }\n",
              "\n",
              "  .colab-df-quickchart:hover {\n",
              "    background-color: var(--hover-bg-color);\n",
              "    box-shadow: 0 1px 2px rgba(60, 64, 67, 0.3), 0 1px 3px 1px rgba(60, 64, 67, 0.15);\n",
              "    fill: var(--button-hover-fill-color);\n",
              "  }\n",
              "\n",
              "  .colab-df-quickchart-complete:disabled,\n",
              "  .colab-df-quickchart-complete:disabled:hover {\n",
              "    background-color: var(--disabled-bg-color);\n",
              "    fill: var(--disabled-fill-color);\n",
              "    box-shadow: none;\n",
              "  }\n",
              "\n",
              "  .colab-df-spinner {\n",
              "    border: 2px solid var(--fill-color);\n",
              "    border-color: transparent;\n",
              "    border-bottom-color: var(--fill-color);\n",
              "    animation:\n",
              "      spin 1s steps(1) infinite;\n",
              "  }\n",
              "\n",
              "  @keyframes spin {\n",
              "    0% {\n",
              "      border-color: transparent;\n",
              "      border-bottom-color: var(--fill-color);\n",
              "      border-left-color: var(--fill-color);\n",
              "    }\n",
              "    20% {\n",
              "      border-color: transparent;\n",
              "      border-left-color: var(--fill-color);\n",
              "      border-top-color: var(--fill-color);\n",
              "    }\n",
              "    30% {\n",
              "      border-color: transparent;\n",
              "      border-left-color: var(--fill-color);\n",
              "      border-top-color: var(--fill-color);\n",
              "      border-right-color: var(--fill-color);\n",
              "    }\n",
              "    40% {\n",
              "      border-color: transparent;\n",
              "      border-right-color: var(--fill-color);\n",
              "      border-top-color: var(--fill-color);\n",
              "    }\n",
              "    60% {\n",
              "      border-color: transparent;\n",
              "      border-right-color: var(--fill-color);\n",
              "    }\n",
              "    80% {\n",
              "      border-color: transparent;\n",
              "      border-right-color: var(--fill-color);\n",
              "      border-bottom-color: var(--fill-color);\n",
              "    }\n",
              "    90% {\n",
              "      border-color: transparent;\n",
              "      border-bottom-color: var(--fill-color);\n",
              "    }\n",
              "  }\n",
              "</style>\n",
              "\n",
              "  <script>\n",
              "    async function quickchart(key) {\n",
              "      const quickchartButtonEl =\n",
              "        document.querySelector('#' + key + ' button');\n",
              "      quickchartButtonEl.disabled = true;  // To prevent multiple clicks.\n",
              "      quickchartButtonEl.classList.add('colab-df-spinner');\n",
              "      try {\n",
              "        const charts = await google.colab.kernel.invokeFunction(\n",
              "            'suggestCharts', [key], {});\n",
              "      } catch (error) {\n",
              "        console.error('Error during call to suggestCharts:', error);\n",
              "      }\n",
              "      quickchartButtonEl.classList.remove('colab-df-spinner');\n",
              "      quickchartButtonEl.classList.add('colab-df-quickchart-complete');\n",
              "    }\n",
              "    (() => {\n",
              "      let quickchartButtonEl =\n",
              "        document.querySelector('#df-50e5a9cc-52a1-42b8-9894-07a9dd525865 button');\n",
              "      quickchartButtonEl.style.display =\n",
              "        google.colab.kernel.accessAllowed ? 'block' : 'none';\n",
              "    })();\n",
              "  </script>\n",
              "</div>\n",
              "\n",
              "    </div>\n",
              "  </div>\n"
            ],
            "application/vnd.google.colaboratory.intrinsic+json": {
              "type": "dataframe",
              "summary": "{\n  \"name\": \"df\",\n  \"rows\": 10,\n  \"fields\": [\n    {\n      \"column\": \"Unnamed: 0\",\n      \"properties\": {\n        \"dtype\": \"number\",\n        \"std\": 7124,\n        \"min\": 4492,\n        \"max\": 24694,\n        \"num_unique_values\": 10,\n        \"samples\": [\n          6906,\n          21551,\n          11484\n        ],\n        \"semantic_type\": \"\",\n        \"description\": \"\"\n      }\n    },\n    {\n      \"column\": \"count\",\n      \"properties\": {\n        \"dtype\": \"number\",\n        \"std\": 0,\n        \"min\": 3,\n        \"max\": 6,\n        \"num_unique_values\": 2,\n        \"samples\": [\n          3,\n          6\n        ],\n        \"semantic_type\": \"\",\n        \"description\": \"\"\n      }\n    },\n    {\n      \"column\": \"hate_speech\",\n      \"properties\": {\n        \"dtype\": \"number\",\n        \"std\": 0,\n        \"min\": 0,\n        \"max\": 1,\n        \"num_unique_values\": 2,\n        \"samples\": [\n          1,\n          0\n        ],\n        \"semantic_type\": \"\",\n        \"description\": \"\"\n      }\n    },\n    {\n      \"column\": \"offensive_language\",\n      \"properties\": {\n        \"dtype\": \"number\",\n        \"std\": 1,\n        \"min\": 0,\n        \"max\": 6,\n        \"num_unique_values\": 4,\n        \"samples\": [\n          3,\n          0\n        ],\n        \"semantic_type\": \"\",\n        \"description\": \"\"\n      }\n    },\n    {\n      \"column\": \"neither\",\n      \"properties\": {\n        \"dtype\": \"number\",\n        \"std\": 0,\n        \"min\": 0,\n        \"max\": 3,\n        \"num_unique_values\": 3,\n        \"samples\": [\n          0,\n          1\n        ],\n        \"semantic_type\": \"\",\n        \"description\": \"\"\n      }\n    },\n    {\n      \"column\": \"class\",\n      \"properties\": {\n        \"dtype\": \"number\",\n        \"std\": 0,\n        \"min\": 1,\n        \"max\": 2,\n        \"num_unique_values\": 2,\n        \"samples\": [\n          2,\n          1\n        ],\n        \"semantic_type\": \"\",\n        \"description\": \"\"\n      }\n    },\n    {\n      \"column\": \"tweet\",\n      \"properties\": {\n        \"dtype\": \"string\",\n        \"num_unique_values\": 10,\n        \"samples\": [\n          \"@moneypulatief @globalriot Nee dat is na langdurig gepest worden.Zoals ik al zei:in d kiem smoren.Is ook vb voor t kind hoe je moet optreden\",\n          \"Son why is our mail lady so ghetto &#128529;\"\n        ],\n        \"semantic_type\": \"\",\n        \"description\": \"\"\n      }\n    }\n  ]\n}"
            }
          },
          "metadata": {},
          "execution_count": 8
        }
      ]
    },
    {
      "cell_type": "markdown",
      "source": [
        "In the [class] collum: <br>\n",
        "0 prefer to hate speech <br>\n",
        "1 is offensive <br>\n",
        "2 is neither"
      ],
      "metadata": {
        "id": "UDMPGGubkBIp"
      }
    },
    {
      "cell_type": "markdown",
      "source": [
        "# Preprocessing"
      ],
      "metadata": {
        "id": "u0bMhb_IkBIq"
      }
    },
    {
      "cell_type": "code",
      "source": [
        "#strip tweet related character\n",
        "def strip_all_entities(x):\n",
        "    return ' '.join(re.sub(\"(@[A-Za-z0-9]+)|([^0-9A-Za-z \\t])|(\\w+:\\/\\/\\S+)\",\" \",x).split())\n",
        "#check functionality\n",
        "print(df['tweet'][1])\n",
        "strip_all_entities(df['tweet'][1])"
      ],
      "metadata": {
        "execution": {
          "iopub.status.busy": "2024-02-26T00:10:26.972264Z",
          "iopub.execute_input": "2024-02-26T00:10:26.972979Z",
          "iopub.status.idle": "2024-02-26T00:10:26.982374Z",
          "shell.execute_reply.started": "2024-02-26T00:10:26.972948Z",
          "shell.execute_reply": "2024-02-26T00:10:26.981407Z"
        },
        "trusted": true,
        "colab": {
          "base_uri": "https://localhost:8080/",
          "height": 53
        },
        "id": "0bzyiSvVkBIq",
        "outputId": "52a0146b-655f-4e8d-ad36-4f500ca2d67b"
      },
      "execution_count": null,
      "outputs": [
        {
          "output_type": "stream",
          "name": "stdout",
          "text": [
            "!!!!! RT @mleew17: boy dats cold...tyga dwn bad for cuffin dat hoe in the 1st place!!\n"
          ]
        },
        {
          "output_type": "execute_result",
          "data": {
            "text/plain": [
              "'RT boy dats cold tyga dwn bad for cuffin dat hoe in the 1st place'"
            ],
            "application/vnd.google.colaboratory.intrinsic+json": {
              "type": "string"
            }
          },
          "metadata": {},
          "execution_count": 9
        }
      ]
    },
    {
      "cell_type": "code",
      "source": [
        "if CLEAN_TWEETS == False:\n",
        "    df['tweet']=df['tweet'].apply(strip_all_entities)"
      ],
      "metadata": {
        "execution": {
          "iopub.status.busy": "2024-02-26T00:10:29.072082Z",
          "iopub.execute_input": "2024-02-26T00:10:29.072652Z",
          "iopub.status.idle": "2024-02-26T00:10:29.653525Z",
          "shell.execute_reply.started": "2024-02-26T00:10:29.072613Z",
          "shell.execute_reply": "2024-02-26T00:10:29.652537Z"
        },
        "trusted": true,
        "id": "FXTa_mu4kBIr"
      },
      "execution_count": null,
      "outputs": []
    },
    {
      "cell_type": "code",
      "source": [
        "sentences = df['tweet'].values\n",
        "labels = df['class'].values"
      ],
      "metadata": {
        "execution": {
          "iopub.status.busy": "2024-02-26T00:46:16.806432Z",
          "iopub.execute_input": "2024-02-26T00:46:16.806768Z",
          "iopub.status.idle": "2024-02-26T00:46:16.811663Z",
          "shell.execute_reply.started": "2024-02-26T00:46:16.806743Z",
          "shell.execute_reply": "2024-02-26T00:46:16.810519Z"
        },
        "trusted": true,
        "id": "NAf3l3J5kBIs"
      },
      "execution_count": null,
      "outputs": []
    },
    {
      "cell_type": "markdown",
      "source": [
        "# Train Test Val split"
      ],
      "metadata": {
        "id": "thgV-qVNkBIt"
      }
    },
    {
      "cell_type": "code",
      "source": [
        "from sklearn.model_selection import train_test_split\n",
        "\n",
        "train, Teal = train_test_split(df, random_state=1508, shuffle=True, test_size=0.2)"
      ],
      "metadata": {
        "execution": {
          "iopub.status.busy": "2024-02-26T00:40:13.888547Z",
          "iopub.execute_input": "2024-02-26T00:40:13.889273Z",
          "iopub.status.idle": "2024-02-26T00:40:14.287717Z",
          "shell.execute_reply.started": "2024-02-26T00:40:13.889234Z",
          "shell.execute_reply": "2024-02-26T00:40:14.286921Z"
        },
        "trusted": true,
        "id": "WiDfg3YPkBIt"
      },
      "execution_count": null,
      "outputs": []
    },
    {
      "cell_type": "code",
      "source": [
        "test, validation = train_test_split(Teal, random_state=1508, shuffle=True, test_size=0.5)"
      ],
      "metadata": {
        "execution": {
          "iopub.status.busy": "2024-02-26T00:50:43.119941Z",
          "iopub.execute_input": "2024-02-26T00:50:43.120305Z",
          "iopub.status.idle": "2024-02-26T00:50:43.127814Z",
          "shell.execute_reply.started": "2024-02-26T00:50:43.120276Z",
          "shell.execute_reply": "2024-02-26T00:50:43.126888Z"
        },
        "trusted": true,
        "id": "aLJ1U24wkBIt"
      },
      "execution_count": null,
      "outputs": []
    },
    {
      "cell_type": "code",
      "source": [
        "# Get the lists of sentences and their labels.\n",
        "trn_sentences = train['tweet'].values\n",
        "train_labels = train['class'].values\n",
        "\n",
        "tst_sentences = test['tweet'].values\n",
        "test_labels = test['class'].values\n",
        "\n",
        "val_sentences = validation['tweet'].values\n",
        "validation_labels = validation['class'].values"
      ],
      "metadata": {
        "execution": {
          "iopub.status.busy": "2024-02-26T00:57:39.465003Z",
          "iopub.execute_input": "2024-02-26T00:57:39.465366Z",
          "iopub.status.idle": "2024-02-26T00:57:39.471026Z",
          "shell.execute_reply.started": "2024-02-26T00:57:39.465325Z",
          "shell.execute_reply": "2024-02-26T00:57:39.470037Z"
        },
        "trusted": true,
        "id": "hUyl0ByrkBIt"
      },
      "execution_count": null,
      "outputs": []
    },
    {
      "cell_type": "markdown",
      "source": [
        "## tokenization"
      ],
      "metadata": {
        "id": "OC-ClnC8kBIu"
      }
    },
    {
      "cell_type": "code",
      "source": [
        "from transformers import BertTokenizer\n",
        "\n",
        "print('loading Bert tokenizer...')\n",
        "tokenizer = BertTokenizer.from_pretrained('bert-base-uncased', do_lower_case=True)"
      ],
      "metadata": {
        "execution": {
          "iopub.status.busy": "2024-02-26T00:46:25.537951Z",
          "iopub.execute_input": "2024-02-26T00:46:25.538531Z",
          "iopub.status.idle": "2024-02-26T00:46:27.894862Z",
          "shell.execute_reply.started": "2024-02-26T00:46:25.538502Z",
          "shell.execute_reply": "2024-02-26T00:46:27.893938Z"
        },
        "trusted": true,
        "colab": {
          "base_uri": "https://localhost:8080/",
          "height": 286,
          "referenced_widgets": [
            "2c09cc0450924846984634aee22d1c2f",
            "b6f3e80010234b678d96b7926920dcea",
            "f8df78c67d3347b0a3f472f58ec83d8f",
            "9982e729736d4be2bb6a95ce928c3f40",
            "b82d96333a984b3bbd4605ce338cfa48",
            "b6287963f5af46aa89b30cf470a309ea",
            "ae3cbea6e99b4a8ea8dde4b37450cf68",
            "696efd8007614eeeb4e4f61f6709efb8",
            "d1153fbcf39d40ffa6a0d0c1e8928589",
            "e5e6fa53419245e7815eb12f8f26dd8b",
            "17f2a04748e840eea420e239392a4e4b",
            "a426eb984eef4ec9b0a0b04b1ee31e6c",
            "c20079a8dc3548fa984f5e050a5ee7bc",
            "1e01304fab9747c8b8a7ab72095c1fa4",
            "ecb57f39cfde45c39da435e581c8593b",
            "82b66bd0dbd14d51b7aa370ef1842e63",
            "98dca04086774595b6b441e21abec0b7",
            "9b464e66499c42d1b4e9b85984455dd3",
            "e20e195ea3cc41f89f3e9e31b56586e9",
            "038a27955f9f4afc9b1edc1fc47137bf",
            "33f40b885fbe4f1a88b4b3f7e32a0678",
            "221c448e9f4747499374ff4154fda12a",
            "9e91510f95364856bb7b62eaf965a7b3",
            "4d8225c88c514e2c9fd44463c4844f2e",
            "93531692d33f45fc96b26d8a60b6ed15",
            "b158cb279cd14790b45e51f1dbbabbd1",
            "88e1ccc24cd54528af027ddccbd3c8ab",
            "d2005e17e30c4c1bbdd0fe2571215b50",
            "c385a0f4499b49f8b4ee219c86b1b41c",
            "3c8c5d9a3d4f434b8a93c381f7240e25",
            "6294292d68c74989a6e76e0939e04c3c",
            "6388eef279bc4b47a68ff46f29d8cc8c",
            "493c3bb5131743079bbb700dd16c7f29",
            "bada1af1dc01415f8b7c4af46e8ec1f4",
            "96087dd5697841c5b6e34f0b68078518",
            "5774815e3e414edab9d96c7b1e03ad87",
            "623ec0b3e1d647dc810cbcd7a8e93578",
            "4b92a2ee7668454bbd6b4bd897793c98",
            "8e7792beabfe4d6a81658c936b797335",
            "72493afb312646e2bc842547b25c2d76",
            "02db600ec4154438a323f10307316fa8",
            "d22516b9f56445a8a77fc3eae336d11f",
            "3eb1bc0686db4dce874c20f80ac3cc46",
            "289a9e51ef634dd2960540c8d7aac0d2"
          ]
        },
        "id": "eFWQyIi1kBIu",
        "outputId": "49460d2f-1c77-4b3d-82da-3e6cb59a8b2c"
      },
      "execution_count": null,
      "outputs": [
        {
          "output_type": "stream",
          "name": "stdout",
          "text": [
            "loading Bert tokenizer...\n"
          ]
        },
        {
          "output_type": "stream",
          "name": "stderr",
          "text": [
            "/usr/local/lib/python3.10/dist-packages/huggingface_hub/utils/_auth.py:94: UserWarning: \n",
            "The secret `HF_TOKEN` does not exist in your Colab secrets.\n",
            "To authenticate with the Hugging Face Hub, create a token in your settings tab (https://huggingface.co/settings/tokens), set it as secret in your Google Colab and restart your session.\n",
            "You will be able to reuse this secret in all of your notebooks.\n",
            "Please note that authentication is recommended but still optional to access public models or datasets.\n",
            "  warnings.warn(\n"
          ]
        },
        {
          "output_type": "display_data",
          "data": {
            "text/plain": [
              "tokenizer_config.json:   0%|          | 0.00/48.0 [00:00<?, ?B/s]"
            ],
            "application/vnd.jupyter.widget-view+json": {
              "version_major": 2,
              "version_minor": 0,
              "model_id": "2c09cc0450924846984634aee22d1c2f"
            }
          },
          "metadata": {}
        },
        {
          "output_type": "display_data",
          "data": {
            "text/plain": [
              "vocab.txt:   0%|          | 0.00/232k [00:00<?, ?B/s]"
            ],
            "application/vnd.jupyter.widget-view+json": {
              "version_major": 2,
              "version_minor": 0,
              "model_id": "a426eb984eef4ec9b0a0b04b1ee31e6c"
            }
          },
          "metadata": {}
        },
        {
          "output_type": "display_data",
          "data": {
            "text/plain": [
              "tokenizer.json:   0%|          | 0.00/466k [00:00<?, ?B/s]"
            ],
            "application/vnd.jupyter.widget-view+json": {
              "version_major": 2,
              "version_minor": 0,
              "model_id": "9e91510f95364856bb7b62eaf965a7b3"
            }
          },
          "metadata": {}
        },
        {
          "output_type": "display_data",
          "data": {
            "text/plain": [
              "config.json:   0%|          | 0.00/570 [00:00<?, ?B/s]"
            ],
            "application/vnd.jupyter.widget-view+json": {
              "version_major": 2,
              "version_minor": 0,
              "model_id": "bada1af1dc01415f8b7c4af46e8ec1f4"
            }
          },
          "metadata": {}
        }
      ]
    },
    {
      "cell_type": "code",
      "source": [
        "enc_exp = tokenizer.encode('My name is Quan')\n",
        "dec_exp = tokenizer.decode(enc_exp)\n",
        "print(enc_exp)\n",
        "print(dec_exp)"
      ],
      "metadata": {
        "execution": {
          "iopub.status.busy": "2024-02-26T00:46:30.240602Z",
          "iopub.execute_input": "2024-02-26T00:46:30.241048Z",
          "iopub.status.idle": "2024-02-26T00:46:30.24817Z",
          "shell.execute_reply.started": "2024-02-26T00:46:30.241011Z",
          "shell.execute_reply": "2024-02-26T00:46:30.247232Z"
        },
        "trusted": true,
        "colab": {
          "base_uri": "https://localhost:8080/"
        },
        "id": "rrQC3VYakBIu",
        "outputId": "175d16d3-5fc9-48e0-a9aa-d85ba66327b3"
      },
      "execution_count": null,
      "outputs": [
        {
          "output_type": "stream",
          "name": "stdout",
          "text": [
            "[101, 2026, 2171, 2003, 24110, 102]\n",
            "[CLS] my name is quan [SEP]\n"
          ]
        }
      ]
    },
    {
      "cell_type": "markdown",
      "source": [
        "## padding & masking"
      ],
      "metadata": {
        "id": "tp21OFFWkBIv"
      }
    },
    {
      "cell_type": "code",
      "source": [
        "print('Max array length: ', max([len(i) for i in sentences]))"
      ],
      "metadata": {
        "execution": {
          "iopub.status.busy": "2024-02-26T00:46:32.490373Z",
          "iopub.execute_input": "2024-02-26T00:46:32.491177Z",
          "iopub.status.idle": "2024-02-26T00:46:32.499229Z",
          "shell.execute_reply.started": "2024-02-26T00:46:32.491147Z",
          "shell.execute_reply": "2024-02-26T00:46:32.498208Z"
        },
        "trusted": true,
        "colab": {
          "base_uri": "https://localhost:8080/"
        },
        "id": "2HeRzQqzkBIv",
        "outputId": "2170f2b4-f905-4ee3-fd4f-de6770f374c2"
      },
      "execution_count": null,
      "outputs": [
        {
          "output_type": "stream",
          "name": "stdout",
          "text": [
            "Max array length:  581\n"
          ]
        }
      ]
    },
    {
      "cell_type": "code",
      "source": [
        "count1, count2, count3 = 0, 0, 0\n",
        "for i in sentences:\n",
        "    if len(i)>100:\n",
        "        count1+=1\n",
        "    if len(i)>200:\n",
        "        count2+=1\n",
        "    if len(i)>300:\n",
        "        count3+=1\n",
        "print('number of array longer than 100: ', count1)\n",
        "print('number of array longer than 200: ', count2)\n",
        "print('number of array longer than 300: ', count3)"
      ],
      "metadata": {
        "execution": {
          "iopub.status.busy": "2024-02-26T00:46:34.343192Z",
          "iopub.execute_input": "2024-02-26T00:46:34.344005Z",
          "iopub.status.idle": "2024-02-26T00:46:34.364622Z",
          "shell.execute_reply.started": "2024-02-26T00:46:34.343977Z",
          "shell.execute_reply": "2024-02-26T00:46:34.363636Z"
        },
        "trusted": true,
        "colab": {
          "base_uri": "https://localhost:8080/"
        },
        "id": "iu2YNqO8kBIv",
        "outputId": "a7eee910-46b7-491c-d477-2f1a581cf7b8"
      },
      "execution_count": null,
      "outputs": [
        {
          "output_type": "stream",
          "name": "stdout",
          "text": [
            "number of array longer than 100:  5713\n",
            "number of array longer than 200:  23\n",
            "number of array longer than 300:  7\n"
          ]
        }
      ]
    },
    {
      "cell_type": "code",
      "source": [
        "# from statistics import mean\n",
        "\n",
        "# token_len = []\n",
        "# for i in sentences:\n",
        "#     if len(i)>100 and len(i)<200:\n",
        "#         enc = tokenizer.encode(i)\n",
        "#         token_len.append(len(enc))\n",
        "# print('average token length: ', mean(token_len))\n",
        "# print('maximum token length: ', max(token_len))"
      ],
      "metadata": {
        "execution": {
          "iopub.status.busy": "2024-02-26T00:46:43.752991Z",
          "iopub.execute_input": "2024-02-26T00:46:43.753807Z",
          "iopub.status.idle": "2024-02-26T00:46:48.799669Z",
          "shell.execute_reply.started": "2024-02-26T00:46:43.753775Z",
          "shell.execute_reply": "2024-02-26T00:46:48.798631Z"
        },
        "trusted": true,
        "id": "vZw4rh6nkBIv"
      },
      "execution_count": null,
      "outputs": []
    },
    {
      "cell_type": "markdown",
      "source": [
        "--output-- <br>\n",
        "average token length:  31.558446124099138 <br>\n",
        "maximum token length:  83"
      ],
      "metadata": {
        "id": "GNN1ipxgkBIw"
      }
    },
    {
      "cell_type": "code",
      "source": [
        "# count = 0\n",
        "# for i in token_len:\n",
        "#     if i > 64:\n",
        "#         count+=1\n",
        "# print('number of sentence longer than 64 words:', count)"
      ],
      "metadata": {
        "execution": {
          "iopub.status.busy": "2024-02-26T00:48:20.216378Z",
          "iopub.execute_input": "2024-02-26T00:48:20.217297Z",
          "iopub.status.idle": "2024-02-26T00:48:20.222692Z",
          "shell.execute_reply.started": "2024-02-26T00:48:20.21725Z",
          "shell.execute_reply": "2024-02-26T00:48:20.221807Z"
        },
        "trusted": true,
        "id": "iUpKZKszkBIw"
      },
      "execution_count": null,
      "outputs": []
    },
    {
      "cell_type": "markdown",
      "source": [
        "--output-- <br>\n",
        "number of sentence longer than 64 words: 14"
      ],
      "metadata": {
        "id": "bUnFJg8JkBIw"
      }
    },
    {
      "cell_type": "code",
      "source": [
        "def bert_encode(data, max_len) :\n",
        "    input_ids = []\n",
        "    attention_masks = []\n",
        "\n",
        "\n",
        "    for i in range(len(data)):\n",
        "        encoded = tokenizer.encode_plus(data[i],\n",
        "                                        add_special_tokens=True,\n",
        "                                        max_length = max_len,\n",
        "                                        padding = 'max_length',\n",
        "                                        truncation = True,\n",
        "                                        return_attention_mask=True)\n",
        "\n",
        "        input_ids.append(encoded['input_ids'])\n",
        "        attention_masks.append(encoded['attention_mask'])\n",
        "\n",
        "    return np.array(input_ids),np.array(attention_masks)"
      ],
      "metadata": {
        "execution": {
          "iopub.status.busy": "2024-02-26T00:49:11.576657Z",
          "iopub.execute_input": "2024-02-26T00:49:11.577013Z",
          "iopub.status.idle": "2024-02-26T00:49:11.583372Z",
          "shell.execute_reply.started": "2024-02-26T00:49:11.576987Z",
          "shell.execute_reply": "2024-02-26T00:49:11.582386Z"
        },
        "trusted": true,
        "id": "e6cY3dn0kBIw"
      },
      "execution_count": null,
      "outputs": []
    },
    {
      "cell_type": "code",
      "source": [
        "print(len(sentences),len(trn_sentences),len(tst_sentences),len(val_sentences))"
      ],
      "metadata": {
        "execution": {
          "iopub.status.busy": "2024-02-26T00:50:51.521122Z",
          "iopub.execute_input": "2024-02-26T00:50:51.521487Z",
          "iopub.status.idle": "2024-02-26T00:50:51.526591Z",
          "shell.execute_reply.started": "2024-02-26T00:50:51.521459Z",
          "shell.execute_reply": "2024-02-26T00:50:51.52554Z"
        },
        "trusted": true,
        "colab": {
          "base_uri": "https://localhost:8080/"
        },
        "id": "RiaKuQzckBIw",
        "outputId": "de0358be-ff9c-4f5b-b84d-51c5c358ccad"
      },
      "execution_count": null,
      "outputs": [
        {
          "output_type": "stream",
          "name": "stdout",
          "text": [
            "24783 19826 2478 2479\n"
          ]
        }
      ]
    },
    {
      "cell_type": "code",
      "source": [
        "MAX_LEN = 64\n",
        "train_inputs, train_masks = bert_encode(trn_sentences,MAX_LEN)\n",
        "\n",
        "#test_inputs, test_masks = bert_encode(tst_sentences,MAX_LEN)\n",
        "\n",
        "validation_inputs, validation_masks = bert_encode(val_sentences,MAX_LEN)"
      ],
      "metadata": {
        "execution": {
          "iopub.status.busy": "2024-02-26T00:57:06.577208Z",
          "iopub.execute_input": "2024-02-26T00:57:06.57805Z",
          "iopub.status.idle": "2024-02-26T00:57:19.817395Z",
          "shell.execute_reply.started": "2024-02-26T00:57:06.578018Z",
          "shell.execute_reply": "2024-02-26T00:57:19.816315Z"
        },
        "trusted": true,
        "id": "5a4GB9IekBIx"
      },
      "execution_count": null,
      "outputs": []
    },
    {
      "cell_type": "markdown",
      "source": [
        "## convert data to pytorch datatype"
      ],
      "metadata": {
        "id": "wmjKHfUbkBIx"
      }
    },
    {
      "cell_type": "code",
      "source": [
        "!pip install torch # Install the 'torch' module if not already installed.\n",
        "import torch # Import the 'torch' module into the current session.\n",
        "\n",
        "train_inputs = torch.tensor(train_inputs)\n",
        "validation_inputs = torch.tensor(validation_inputs)\n",
        "\n",
        "train_labels = torch.tensor(train_labels)\n",
        "validation_labels = torch.tensor(validation_labels)\n",
        "\n",
        "train_masks = torch.tensor(train_masks)\n",
        "validation_masks = torch.tensor(validation_masks)"
      ],
      "metadata": {
        "execution": {
          "iopub.status.busy": "2024-02-26T00:57:49.242194Z",
          "iopub.execute_input": "2024-02-26T00:57:49.243011Z",
          "iopub.status.idle": "2024-02-26T00:57:49.259902Z",
          "shell.execute_reply.started": "2024-02-26T00:57:49.242978Z",
          "shell.execute_reply": "2024-02-26T00:57:49.259021Z"
        },
        "trusted": true,
        "id": "YKZsMiQ5kBIx",
        "colab": {
          "base_uri": "https://localhost:8080/"
        },
        "outputId": "02e20810-3065-4ca7-f70c-e450399b2dd4"
      },
      "execution_count": null,
      "outputs": [
        {
          "output_type": "stream",
          "name": "stdout",
          "text": [
            "Requirement already satisfied: torch in /usr/local/lib/python3.10/dist-packages (2.5.1+cu121)\n",
            "Requirement already satisfied: filelock in /usr/local/lib/python3.10/dist-packages (from torch) (3.16.1)\n",
            "Requirement already satisfied: typing-extensions>=4.8.0 in /usr/local/lib/python3.10/dist-packages (from torch) (4.12.2)\n",
            "Requirement already satisfied: networkx in /usr/local/lib/python3.10/dist-packages (from torch) (3.4.2)\n",
            "Requirement already satisfied: jinja2 in /usr/local/lib/python3.10/dist-packages (from torch) (3.1.4)\n",
            "Requirement already satisfied: fsspec in /usr/local/lib/python3.10/dist-packages (from torch) (2024.10.0)\n",
            "Requirement already satisfied: sympy==1.13.1 in /usr/local/lib/python3.10/dist-packages (from torch) (1.13.1)\n",
            "Requirement already satisfied: mpmath<1.4,>=1.1.0 in /usr/local/lib/python3.10/dist-packages (from sympy==1.13.1->torch) (1.3.0)\n",
            "Requirement already satisfied: MarkupSafe>=2.0 in /usr/local/lib/python3.10/dist-packages (from jinja2->torch) (3.0.2)\n"
          ]
        }
      ]
    },
    {
      "cell_type": "code",
      "source": [
        "from torch.utils.data import TensorDataset, DataLoader, RandomSampler, SequentialSampler\n",
        "\n",
        "# The DataLoader needs to know our batch size for training, so we specify it\n",
        "# here.\n",
        "# For fine-tuning BERT on a specific task, the authors recommend a batch size of\n",
        "# 16 or 32.\n",
        "\n",
        "batch_size = 32\n",
        "\n",
        "# Create the DataLoader for our training set.\n",
        "train_data = TensorDataset(train_inputs, train_masks, train_labels)\n",
        "train_sampler = RandomSampler(train_data)\n",
        "train_dataloader = DataLoader(train_data, sampler=train_sampler, batch_size=batch_size)\n",
        "\n",
        "# Create the DataLoader for our validation set.\n",
        "validation_data = TensorDataset(validation_inputs, validation_masks, validation_labels)\n",
        "validation_sampler = SequentialSampler(validation_data)\n",
        "validation_dataloader = DataLoader(validation_data, sampler=validation_sampler, batch_size=batch_size)"
      ],
      "metadata": {
        "execution": {
          "iopub.status.busy": "2024-02-26T00:58:14.090871Z",
          "iopub.execute_input": "2024-02-26T00:58:14.091264Z",
          "iopub.status.idle": "2024-02-26T00:58:14.09945Z",
          "shell.execute_reply.started": "2024-02-26T00:58:14.091222Z",
          "shell.execute_reply": "2024-02-26T00:58:14.098381Z"
        },
        "trusted": true,
        "id": "dNCZfQZGkBIx"
      },
      "execution_count": null,
      "outputs": []
    },
    {
      "cell_type": "markdown",
      "source": [
        "BERT + LSTM"
      ],
      "metadata": {
        "id": "QaWTwCWg6iZ9"
      }
    },
    {
      "cell_type": "code",
      "source": [
        "import torch\n",
        "from transformers import BertModel, BertConfig\n",
        "from torch import nn\n",
        "from torch.cuda.amp import autocast, GradScaler\n",
        "from transformers import get_linear_schedule_with_warmup\n",
        "import numpy as np\n",
        "\n",
        "# Define flat_accuracy function\n",
        "def flat_accuracy(preds, labels):\n",
        "    # Convert logits to predicted class indices (the class with the highest probability)\n",
        "    pred_flat = np.argmax(preds, axis=1).flatten()\n",
        "    labels_flat = labels.flatten()\n",
        "    return np.sum(pred_flat == labels_flat) / len(labels_flat)\n",
        "\n",
        "# Define a custom model combining BERT and LSTM\n",
        "class BertLSTMClassifier(nn.Module):\n",
        "    def __init__(self, bert_model_name=\"bert-base-uncased\", num_labels=3, hidden_dim=256):\n",
        "        super(BertLSTMClassifier, self).__init__()\n",
        "        # Load pretrained BERT\n",
        "        self.bert = BertModel.from_pretrained(bert_model_name)\n",
        "        # LSTM layer\n",
        "        self.lstm = nn.LSTM(input_size=self.bert.config.hidden_size, hidden_size=hidden_dim, batch_first=True)\n",
        "        # Fully connected layer for classification\n",
        "        self.classifier = nn.Linear(hidden_dim, num_labels)\n",
        "\n",
        "    def forward(self, input_ids, attention_mask):\n",
        "        # Extract embeddings from BERT\n",
        "        bert_output = self.bert(input_ids=input_ids, attention_mask=attention_mask)\n",
        "        last_hidden_state = bert_output.last_hidden_state  # Shape: [batch_size, seq_length, hidden_size]\n",
        "\n",
        "        # Pass BERT embeddings to LSTM\n",
        "        lstm_output, (h_n, c_n) = self.lstm(last_hidden_state)\n",
        "        # Use the output of the LSTM for the classification layer (using last time step)\n",
        "        logits = self.classifier(h_n[-1])  # Shape: [batch_size, num_labels]\n",
        "\n",
        "        return logits\n",
        "\n",
        "# Initialize model, optimizer, scheduler\n",
        "device = torch.device(\"cuda\" if torch.cuda.is_available() else \"cpu\")\n",
        "model = BertLSTMClassifier().to(device)\n",
        "optimizer = torch.optim.AdamW(model.parameters(), lr=2e-5, eps=1e-8)\n",
        "\n",
        "# Set up scheduler\n",
        "epochs = 4\n",
        "total_steps = len(train_dataloader) * epochs\n",
        "scheduler = get_linear_schedule_with_warmup(optimizer, num_warmup_steps=0, num_training_steps=total_steps)\n",
        "\n",
        "# Set up gradient scaler for AMP\n",
        "scaler = GradScaler()\n",
        "\n",
        "# Training loop with AMP\n",
        "for epoch_i in range(epochs):\n",
        "    model.train()\n",
        "    total_loss = 0\n",
        "\n",
        "    for step, batch in enumerate(train_dataloader):\n",
        "        b_input_ids = batch[0].to(device)\n",
        "        b_input_mask = batch[1].to(device)\n",
        "        b_labels = batch[2].to(device)\n",
        "\n",
        "        model.zero_grad()\n",
        "\n",
        "        # Use autocast for mixed precision\n",
        "        with autocast():\n",
        "            # Forward pass\n",
        "            logits = model(b_input_ids, attention_mask=b_input_mask)\n",
        "\n",
        "            # Compute loss\n",
        "            loss = nn.CrossEntropyLoss()(logits, b_labels)\n",
        "\n",
        "        total_loss += loss.item()\n",
        "\n",
        "        # Backward pass using scaled gradients\n",
        "        scaler.scale(loss).backward()\n",
        "\n",
        "        # Gradient clipping and optimizer step with scaler\n",
        "        torch.nn.utils.clip_grad_norm_(model.parameters(), 1.0)\n",
        "        scaler.step(optimizer)\n",
        "        scaler.update()\n",
        "\n",
        "        # Step the scheduler\n",
        "        scheduler.step()\n",
        "\n",
        "    avg_train_loss = total_loss / len(train_dataloader)\n",
        "    print(f\"Epoch {epoch_i+1}/{epochs}, Loss: {avg_train_loss:.2f}\")\n",
        "\n",
        "# Validation loop\n",
        "model.eval()\n",
        "eval_accuracy = 0\n",
        "\n",
        "for batch in validation_dataloader:\n",
        "    b_input_ids, b_input_mask, b_labels = tuple(t.to(device) for t in batch)\n",
        "\n",
        "    with torch.no_grad():\n",
        "        logits = model(b_input_ids, attention_mask=b_input_mask)\n",
        "\n",
        "    # Calculate accuracy\n",
        "    logits = logits.detach().cpu().numpy()\n",
        "    label_ids = b_labels.to('cpu').numpy()\n",
        "\n",
        "    eval_accuracy += flat_accuracy(logits, label_ids)\n",
        "\n",
        "print(\"Validation Accuracy:\", eval_accuracy / len(validation_dataloader))\n"
      ],
      "metadata": {
        "colab": {
          "base_uri": "https://localhost:8080/",
          "height": 190,
          "referenced_widgets": [
            "4a7f52a6ec274da1ace0e7cd41c21e3d",
            "4ad5a1317f484b948718d3e0ff1e9322",
            "bbbb4fe4591c45c7b0393ab9e82f2116",
            "0ed4c889553d4280b86351b0bb9762f8",
            "c4efebf3bd6f4d58a80278da22ee40e9",
            "4d45182699cf428ca0e09bb3360a681a",
            "1db81445af09446d8ec359d39506da56",
            "8bad05afc4ee4d63805f08343aa3a882",
            "6bdbd1c81f4747a8ae0bcb944da82ddb",
            "a1cca324c7b647ca8794024458df542e",
            "f4d868ba879747acbabd90ae70a10524"
          ]
        },
        "id": "Pczc1uo79gpx",
        "outputId": "a5aa9e4f-ba33-430c-ce68-f88192160e98"
      },
      "execution_count": null,
      "outputs": [
        {
          "output_type": "display_data",
          "data": {
            "text/plain": [
              "model.safetensors:   0%|          | 0.00/440M [00:00<?, ?B/s]"
            ],
            "application/vnd.jupyter.widget-view+json": {
              "version_major": 2,
              "version_minor": 0,
              "model_id": "4a7f52a6ec274da1ace0e7cd41c21e3d"
            }
          },
          "metadata": {}
        },
        {
          "output_type": "stream",
          "name": "stderr",
          "text": [
            "<ipython-input-26-098071aa09df>:49: FutureWarning: `torch.cuda.amp.GradScaler(args...)` is deprecated. Please use `torch.amp.GradScaler('cuda', args...)` instead.\n",
            "  scaler = GradScaler()\n",
            "<ipython-input-26-098071aa09df>:64: FutureWarning: `torch.cuda.amp.autocast(args...)` is deprecated. Please use `torch.amp.autocast('cuda', args...)` instead.\n",
            "  with autocast():\n"
          ]
        },
        {
          "output_type": "stream",
          "name": "stdout",
          "text": [
            "Epoch 1/4, Loss: 0.44\n",
            "Epoch 2/4, Loss: 0.26\n",
            "Epoch 3/4, Loss: 0.24\n"
          ]
        }
      ]
    },
    {
      "cell_type": "code",
      "source": [],
      "metadata": {
        "id": "OW5vn9Z-FSVI"
      },
      "execution_count": null,
      "outputs": []
    },
    {
      "cell_type": "markdown",
      "source": [
        "PLOTTING\n"
      ],
      "metadata": {
        "id": "TEsSJv8iF76r"
      }
    },
    {
      "cell_type": "code",
      "source": [
        "import torch\n",
        "from transformers import BertModel, BertConfig\n",
        "from torch import nn\n",
        "from torch.cuda.amp import autocast, GradScaler\n",
        "from transformers import get_linear_schedule_with_warmup\n",
        "import numpy as np\n",
        "from sklearn.metrics import classification_report\n",
        "import matplotlib.pyplot as plt\n",
        "\n",
        "# Define flat_accuracy function\n",
        "def flat_accuracy(preds, labels):\n",
        "    pred_flat = np.argmax(preds, axis=1).flatten()\n",
        "    labels_flat = labels.flatten()\n",
        "    return np.sum(pred_flat == labels_flat) / len(labels_flat)\n",
        "\n",
        "# Define a custom model combining BERT and LSTM\n",
        "class BertLSTMClassifier(nn.Module):\n",
        "    def __init__(self, bert_model_name=\"bert-base-uncased\", num_labels=3, hidden_dim=256):\n",
        "        super(BertLSTMClassifier, self).__init__()\n",
        "        self.bert = BertModel.from_pretrained(bert_model_name)\n",
        "        self.lstm = nn.LSTM(input_size=self.bert.config.hidden_size, hidden_size=hidden_dim, batch_first=True)\n",
        "        self.classifier = nn.Linear(hidden_dim, num_labels)\n",
        "\n",
        "    def forward(self, input_ids, attention_mask):\n",
        "        bert_output = self.bert(input_ids=input_ids, attention_mask=attention_mask)\n",
        "        last_hidden_state = bert_output.last_hidden_state\n",
        "        lstm_output, (h_n, c_n) = self.lstm(last_hidden_state)\n",
        "        logits = self.classifier(h_n[-1])\n",
        "        return logits\n",
        "\n",
        "device = torch.device(\"cuda\" if torch.cuda.is_available() else \"cpu\")\n",
        "model = BertLSTMClassifier().to(device)\n",
        "optimizer = torch.optim.AdamW(model.parameters(), lr=2e-5, eps=1e-8)\n",
        "\n",
        "epochs = 4\n",
        "total_steps = len(train_dataloader) * epochs\n",
        "scheduler = get_linear_schedule_with_warmup(optimizer, num_warmup_steps=0, num_training_steps=total_steps)\n",
        "scaler = GradScaler()\n",
        "\n",
        "train_losses = []\n",
        "val_losses = []\n",
        "train_accuracies = []\n",
        "val_accuracies = []\n",
        "\n",
        "# Training loop with AMP\n",
        "for epoch_i in range(epochs):\n",
        "    model.train()\n",
        "    total_loss = 0\n",
        "    correct_predictions = 0\n",
        "    total_predictions = 0\n",
        "\n",
        "    for step, batch in enumerate(train_dataloader):\n",
        "        b_input_ids = batch[0].to(device)\n",
        "        b_input_mask = batch[1].to(device)\n",
        "        b_labels = batch[2].to(device)\n",
        "\n",
        "        model.zero_grad()\n",
        "\n",
        "        with autocast():\n",
        "            logits = model(b_input_ids, attention_mask=b_input_mask)\n",
        "            loss = nn.CrossEntropyLoss()(logits, b_labels)\n",
        "\n",
        "        total_loss += loss.item()\n",
        "\n",
        "        scaler.scale(loss).backward()\n",
        "        torch.nn.utils.clip_grad_norm_(model.parameters(), 1.0)\n",
        "        scaler.step(optimizer)\n",
        "        scaler.update()\n",
        "        scheduler.step()\n",
        "\n",
        "        logits = logits.detach().cpu().numpy()\n",
        "        label_ids = b_labels.to('cpu').numpy()\n",
        "        correct_predictions += np.sum(np.argmax(logits, axis=1) == label_ids)\n",
        "        total_predictions += len(label_ids)\n",
        "\n",
        "    avg_train_loss = total_loss / len(train_dataloader)\n",
        "    avg_train_accuracy = correct_predictions / total_predictions\n",
        "    train_losses.append(avg_train_loss)\n",
        "    train_accuracies.append(avg_train_accuracy)\n",
        "\n",
        "    print(f\"Epoch {epoch_i+1}/{epochs}, Loss: {avg_train_loss:.2f}, Accuracy: {avg_train_accuracy:.2f}\")\n",
        "\n",
        "    # Validation loop\n",
        "    model.eval()\n",
        "    eval_accuracy = 0\n",
        "    eval_loss = 0\n",
        "    all_preds = []\n",
        "    all_labels = []\n",
        "\n",
        "    for batch in validation_dataloader:\n",
        "        b_input_ids, b_input_mask, b_labels = tuple(t.to(device) for t in batch)\n",
        "\n",
        "        with torch.no_grad():\n",
        "            logits = model(b_input_ids, attention_mask=b_input_mask)\n",
        "            loss = nn.CrossEntropyLoss()(logits, b_labels)\n",
        "            eval_loss += loss.item()\n",
        "\n",
        "        logits = logits.detach().cpu().numpy()\n",
        "        label_ids = b_labels.to('cpu').numpy()\n",
        "        eval_accuracy += flat_accuracy(logits, label_ids)\n",
        "\n",
        "        all_preds.extend(np.argmax(logits, axis=1))\n",
        "        all_labels.extend(label_ids)\n",
        "\n",
        "    avg_val_accuracy = eval_accuracy / len(validation_dataloader)\n",
        "    avg_val_loss = eval_loss / len(validation_dataloader)\n",
        "    val_accuracies.append(avg_val_accuracy)\n",
        "    val_losses.append(avg_val_loss)\n",
        "\n",
        "    print(\"Validation Accuracy:\", avg_val_accuracy)\n",
        "    print(classification_report(all_labels, all_preds))\n",
        "\n",
        "# Plot training and validation loss and accuracy\n",
        "plt.figure(figsize=(14, 6))\n",
        "\n",
        "# Plot loss\n",
        "plt.subplot(1, 2, 1)\n",
        "plt.plot(range(1, epochs + 1), train_losses, label=\"Training Loss\")\n",
        "plt.plot(range(1, epochs + 1), val_losses, label=\"Validation Loss\")\n",
        "plt.xlabel(\"Epochs\")\n",
        "plt.ylabel(\"Loss\")\n",
        "plt.title(\"Training & Validation Loss per Epoch\")\n",
        "plt.legend()\n",
        "\n",
        "# Plot accuracy\n",
        "plt.subplot(1, 2, 2)\n",
        "plt.plot(range(1, epochs + 1), train_accuracies, label=\"Training Accuracy\")\n",
        "plt.plot(range(1, epochs + 1), val_accuracies, label=\"Validation Accuracy\")\n",
        "plt.xlabel(\"Epochs\")\n",
        "plt.ylabel(\"Accuracy\")\n",
        "plt.title(\"Training & Validation Accuracy per Epoch\")\n",
        "plt.legend()\n",
        "\n",
        "plt.tight_layout()\n",
        "plt.show()\n"
      ],
      "metadata": {
        "colab": {
          "base_uri": "https://localhost:8080/",
          "height": 1000
        },
        "id": "yf421WPFF9ut",
        "outputId": "4efabf4a-9997-4fd5-9f8d-46e8268b90ab"
      },
      "execution_count": null,
      "outputs": [
        {
          "metadata": {
            "tags": null
          },
          "name": "stderr",
          "output_type": "stream",
          "text": [
            "<ipython-input-27-8e380f09cf53>:38: FutureWarning: `torch.cuda.amp.GradScaler(args...)` is deprecated. Please use `torch.amp.GradScaler('cuda', args...)` instead.\n",
            "  scaler = GradScaler()\n",
            "<ipython-input-27-8e380f09cf53>:59: FutureWarning: `torch.cuda.amp.autocast(args...)` is deprecated. Please use `torch.amp.autocast('cuda', args...)` instead.\n",
            "  with autocast():\n"
          ]
        },
        {
          "metadata": {
            "tags": null
          },
          "name": "stdout",
          "output_type": "stream",
          "text": [
            "Epoch 1/4, Loss: 0.45, Accuracy: 0.84\n",
            "Validation Accuracy: 0.8937767094017095\n",
            "              precision    recall  f1-score   support\n",
            "\n",
            "           0       0.50      0.01      0.01       142\n",
            "           1       0.90      0.98      0.94      1902\n",
            "           2       0.87      0.80      0.83       435\n",
            "\n",
            "    accuracy                           0.89      2479\n",
            "   macro avg       0.75      0.60      0.59      2479\n",
            "weighted avg       0.87      0.89      0.87      2479\n",
            "\n"
          ]
        },
        {
          "metadata": {
            "tags": null
          },
          "name": "stderr",
          "output_type": "stream",
          "text": [
            "<ipython-input-27-8e380f09cf53>:59: FutureWarning: `torch.cuda.amp.autocast(args...)` is deprecated. Please use `torch.amp.autocast('cuda', args...)` instead.\n",
            "  with autocast():\n"
          ]
        },
        {
          "metadata": {
            "tags": null
          },
          "name": "stdout",
          "output_type": "stream",
          "text": [
            "Epoch 2/4, Loss: 0.26, Accuracy: 0.91\n",
            "Validation Accuracy: 0.9146100427350428\n",
            "              precision    recall  f1-score   support\n",
            "\n",
            "           0       0.60      0.13      0.21       142\n",
            "           1       0.94      0.96      0.95      1902\n",
            "           2       0.83      0.96      0.89       435\n",
            "\n",
            "    accuracy                           0.91      2479\n",
            "   macro avg       0.79      0.68      0.68      2479\n",
            "weighted avg       0.90      0.91      0.90      2479\n",
            "\n"
          ]
        },
        {
          "metadata": {
            "tags": null
          },
          "name": "stderr",
          "output_type": "stream",
          "text": [
            "<ipython-input-27-8e380f09cf53>:59: FutureWarning: `torch.cuda.amp.autocast(args...)` is deprecated. Please use `torch.amp.autocast('cuda', args...)` instead.\n",
            "  with autocast():\n"
          ]
        },
        {
          "metadata": {
            "tags": null
          },
          "name": "stdout",
          "output_type": "stream",
          "text": [
            "Epoch 3/4, Loss: 0.23, Accuracy: 0.92\n",
            "Validation Accuracy: 0.9149572649572649\n",
            "              precision    recall  f1-score   support\n",
            "\n",
            "           0       0.47      0.42      0.44       142\n",
            "           1       0.95      0.95      0.95      1902\n",
            "           2       0.88      0.94      0.91       435\n",
            "\n",
            "    accuracy                           0.92      2479\n",
            "   macro avg       0.77      0.77      0.77      2479\n",
            "weighted avg       0.91      0.92      0.91      2479\n",
            "\n"
          ]
        },
        {
          "metadata": {
            "tags": null
          },
          "name": "stderr",
          "output_type": "stream",
          "text": [
            "<ipython-input-27-8e380f09cf53>:59: FutureWarning: `torch.cuda.amp.autocast(args...)` is deprecated. Please use `torch.amp.autocast('cuda', args...)` instead.\n",
            "  with autocast():\n"
          ]
        },
        {
          "output_type": "stream",
          "name": "stdout",
          "text": [
            "Epoch 4/4, Loss: 0.21, Accuracy: 0.93\n",
            "Validation Accuracy: 0.9149572649572649\n",
            "              precision    recall  f1-score   support\n",
            "\n",
            "           0       0.51      0.42      0.46       142\n",
            "           1       0.94      0.96      0.95      1902\n",
            "           2       0.89      0.90      0.90       435\n",
            "\n",
            "    accuracy                           0.92      2479\n",
            "   macro avg       0.78      0.76      0.77      2479\n",
            "weighted avg       0.91      0.92      0.91      2479\n",
            "\n"
          ]
        },
        {
          "output_type": "display_data",
          "data": {
            "text/plain": [
              "<Figure size 1400x600 with 2 Axes>"
            ],
            "image/png": "[encoded data removed]"
          },
          "metadata": {}
        }
      ]
    },
    {
      "cell_type": "code",
      "source": [
        "from sklearn.metrics import classification_report, confusion_matrix, ConfusionMatrixDisplay\n",
        "\n",
        "# Generate predictions and true labels for validation data\n",
        "model.eval()\n",
        "all_preds = []\n",
        "all_labels = []\n",
        "\n",
        "for batch in validation_dataloader:\n",
        "    b_input_ids, b_input_mask, b_labels = tuple(t.to(device) for t in batch)\n",
        "\n",
        "    with torch.no_grad():\n",
        "        logits = model(b_input_ids, attention_mask=b_input_mask)\n",
        "\n",
        "    logits = logits.detach().cpu().numpy()\n",
        "    label_ids = b_labels.to('cpu').numpy()\n",
        "\n",
        "    all_preds.extend(np.argmax(logits, axis=1))\n",
        "    all_labels.extend(label_ids)\n",
        "\n",
        "# Generate classification report\n",
        "print(\"Classification Report:\")\n",
        "print(classification_report(all_labels, all_preds, target_names=[\"Hate Speech\", \"Offensive\", \"Neutral\"]))\n",
        "\n",
        "# Generate confusion matrix\n",
        "cm = confusion_matrix(all_labels, all_preds)\n",
        "disp = ConfusionMatrixDisplay(confusion_matrix=cm, display_labels=[\"Hate Speech\", \"Offensive\", \"Neutral\"])\n",
        "\n",
        "# Visualize the confusion matrix\n",
        "print(\"Confusion Matrix:\")\n",
        "disp.plot(cmap=plt.cm.Blues)\n",
        "plt.title(\"Confusion Matrix for BERT+LSTM\")\n",
        "plt.show()\n"
      ],
      "metadata": {
        "id": "oQAFlAyjF-nO",
        "colab": {
          "base_uri": "https://localhost:8080/",
          "height": 680
        },
        "outputId": "a5f4b1ff-5d5e-472d-8712-39b4613d8cd3"
      },
      "execution_count": null,
      "outputs": [
        {
          "output_type": "stream",
          "name": "stdout",
          "text": [
            "Classification Report:\n",
            "              precision    recall  f1-score   support\n",
            "\n",
            " Hate Speech       0.51      0.42      0.46       142\n",
            "   Offensive       0.94      0.96      0.95      1902\n",
            "     Neutral       0.89      0.90      0.90       435\n",
            "\n",
            "    accuracy                           0.92      2479\n",
            "   macro avg       0.78      0.76      0.77      2479\n",
            "weighted avg       0.91      0.92      0.91      2479\n",
            "\n",
            "Confusion Matrix:\n"
          ]
        },
        {
          "output_type": "display_data",
          "data": {
            "text/plain": [
              "<Figure size 640x480 with 2 Axes>"
            ],
            "image/png": "[encoded data removed]"
          },
          "metadata": {}
        }
      ]
    }
  ]
}