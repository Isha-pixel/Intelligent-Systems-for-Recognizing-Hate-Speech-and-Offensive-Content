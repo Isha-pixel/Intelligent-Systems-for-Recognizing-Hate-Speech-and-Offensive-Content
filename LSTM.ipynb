{
  "metadata": {
    "kernelspec": {
      "display_name": "Python 3",
      "name": "python3"
    },
    "language_info": {
      "name": "python",
      "version": "3.10.14",
      "mimetype": "text/x-python",
      "codemirror_mode": {
        "name": "ipython",
        "version": 3
      },
      "pygments_lexer": "ipython3",
      "nbconvert_exporter": "python",
      "file_extension": ".py"
    },
    "kaggle": {
      "accelerator": "nvidiaTeslaT4",
      "dataSources": [
        {
          "sourceId": 1257215,
          "sourceType": "datasetVersion",
          "datasetId": 723100
        }
      ],
      "dockerImageVersionId": 30786,
      "isInternetEnabled": false,
      "language": "python",
      "sourceType": "notebook",
      "isGpuEnabled": true
    },
    "colab": {
      "provenance": [],
      "gpuType": "V28"
    },
    "accelerator": "TPU"
  },
  "nbformat_minor": 0,
  "nbformat": 4,
  "cells": [
    {
      "cell_type": "code",
      "source": [
        "pip install nltk\n"
      ],
      "metadata": {
        "vscode": {
          "languageId": "python"
        },
        "execution": {
          "iopub.status.busy": "2024-10-23T02:13:01.696993Z",
          "iopub.execute_input": "2024-10-23T02:13:01.697789Z",
          "iopub.status.idle": "2024-10-23T02:13:14.288856Z",
          "shell.execute_reply.started": "2024-10-23T02:13:01.697749Z",
          "shell.execute_reply": "2024-10-23T02:13:14.287722Z"
        },
        "trusted": true,
        "colab": {
          "base_uri": "https://localhost:8080/"
        },
        "id": "4y7ViD0PeFOh",
        "outputId": "869c18cc-01f1-46b3-d106-93b809ec8a2b"
      },
      "outputs": [
        {
          "output_type": "stream",
          "name": "stdout",
          "text": [
            "Requirement already satisfied: nltk in /usr/local/lib/python3.10/dist-packages (3.9.1)\n",
            "Requirement already satisfied: click in /usr/local/lib/python3.10/dist-packages (from nltk) (8.1.7)\n",
            "Requirement already satisfied: joblib in /usr/local/lib/python3.10/dist-packages (from nltk) (1.4.2)\n",
            "Requirement already satisfied: regex>=2021.8.3 in /usr/local/lib/python3.10/dist-packages (from nltk) (2024.11.6)\n",
            "Requirement already satisfied: tqdm in /usr/local/lib/python3.10/dist-packages (from nltk) (4.66.6)\n"
          ]
        }
      ],
      "execution_count": 117
    },
    {
      "cell_type": "code",
      "source": [
        "pip install tensorflow\n"
      ],
      "metadata": {
        "vscode": {
          "languageId": "python"
        },
        "execution": {
          "iopub.status.busy": "2024-10-23T02:13:14.29081Z",
          "iopub.execute_input": "2024-10-23T02:13:14.291127Z",
          "iopub.status.idle": "2024-10-23T02:13:25.752093Z",
          "shell.execute_reply.started": "2024-10-23T02:13:14.291093Z",
          "shell.execute_reply": "2024-10-23T02:13:25.750965Z"
        },
        "trusted": true,
        "colab": {
          "base_uri": "https://localhost:8080/"
        },
        "id": "Av4tT0k_eFOj",
        "outputId": "fb80bf02-57db-49d1-e569-9ca91d3ffafa"
      },
      "outputs": [
        {
          "output_type": "stream",
          "name": "stdout",
          "text": [
            "Requirement already satisfied: tensorflow in /usr/local/lib/python3.10/dist-packages (2.15.0)\n",
            "Requirement already satisfied: absl-py>=1.0.0 in /usr/local/lib/python3.10/dist-packages (from tensorflow) (1.4.0)\n",
            "Requirement already satisfied: astunparse>=1.6.0 in /usr/local/lib/python3.10/dist-packages (from tensorflow) (1.6.3)\n",
            "Requirement already satisfied: flatbuffers>=23.5.26 in /usr/local/lib/python3.10/dist-packages (from tensorflow) (24.3.25)\n",
            "Requirement already satisfied: gast!=0.5.0,!=0.5.1,!=0.5.2,>=0.2.1 in /usr/local/lib/python3.10/dist-packages (from tensorflow) (0.6.0)\n",
            "Requirement already satisfied: google-pasta>=0.1.1 in /usr/local/lib/python3.10/dist-packages (from tensorflow) (0.2.0)\n",
            "Requirement already satisfied: h5py>=2.9.0 in /usr/local/lib/python3.10/dist-packages (from tensorflow) (3.12.1)\n",
            "Requirement already satisfied: libclang>=13.0.0 in /usr/local/lib/python3.10/dist-packages (from tensorflow) (18.1.1)\n",
            "Requirement already satisfied: ml-dtypes~=0.2.0 in /usr/local/lib/python3.10/dist-packages (from tensorflow) (0.2.0)\n",
            "Requirement already satisfied: numpy<2.0.0,>=1.23.5 in /usr/local/lib/python3.10/dist-packages (from tensorflow) (1.26.4)\n",
            "Requirement already satisfied: opt-einsum>=2.3.2 in /usr/local/lib/python3.10/dist-packages (from tensorflow) (3.4.0)\n",
            "Requirement already satisfied: packaging in /usr/local/lib/python3.10/dist-packages (from tensorflow) (24.2)\n",
            "Requirement already satisfied: protobuf!=4.21.0,!=4.21.1,!=4.21.2,!=4.21.3,!=4.21.4,!=4.21.5,<5.0.0dev,>=3.20.3 in /usr/local/lib/python3.10/dist-packages (from tensorflow) (4.25.5)\n",
            "Requirement already satisfied: setuptools in /usr/local/lib/python3.10/dist-packages (from tensorflow) (75.1.0)\n",
            "Requirement already satisfied: six>=1.12.0 in /usr/local/lib/python3.10/dist-packages (from tensorflow) (1.16.0)\n",
            "Requirement already satisfied: termcolor>=1.1.0 in /usr/local/lib/python3.10/dist-packages (from tensorflow) (2.5.0)\n",
            "Requirement already satisfied: typing-extensions>=3.6.6 in /usr/local/lib/python3.10/dist-packages (from tensorflow) (4.12.2)\n",
            "Requirement already satisfied: wrapt<1.15,>=1.11.0 in /usr/local/lib/python3.10/dist-packages (from tensorflow) (1.14.1)\n",
            "Requirement already satisfied: tensorflow-io-gcs-filesystem>=0.23.1 in /usr/local/lib/python3.10/dist-packages (from tensorflow) (0.37.1)\n",
            "Requirement already satisfied: grpcio<2.0,>=1.24.3 in /usr/local/lib/python3.10/dist-packages (from tensorflow) (1.68.0)\n",
            "Requirement already satisfied: tensorboard<2.16,>=2.15 in /usr/local/lib/python3.10/dist-packages (from tensorflow) (2.15.2)\n",
            "Requirement already satisfied: tensorflow-estimator<2.16,>=2.15.0 in /usr/local/lib/python3.10/dist-packages (from tensorflow) (2.15.0)\n",
            "Requirement already satisfied: keras<2.16,>=2.15.0 in /usr/local/lib/python3.10/dist-packages (from tensorflow) (2.15.0)\n",
            "Requirement already satisfied: wheel<1.0,>=0.23.0 in /usr/local/lib/python3.10/dist-packages (from astunparse>=1.6.0->tensorflow) (0.45.0)\n",
            "Requirement already satisfied: google-auth<3,>=1.6.3 in /usr/local/lib/python3.10/dist-packages (from tensorboard<2.16,>=2.15->tensorflow) (2.27.0)\n",
            "Requirement already satisfied: google-auth-oauthlib<2,>=0.5 in /usr/local/lib/python3.10/dist-packages (from tensorboard<2.16,>=2.15->tensorflow) (1.2.1)\n",
            "Requirement already satisfied: markdown>=2.6.8 in /usr/local/lib/python3.10/dist-packages (from tensorboard<2.16,>=2.15->tensorflow) (3.7)\n",
            "Requirement already satisfied: requests<3,>=2.21.0 in /usr/local/lib/python3.10/dist-packages (from tensorboard<2.16,>=2.15->tensorflow) (2.32.3)\n",
            "Requirement already satisfied: tensorboard-data-server<0.8.0,>=0.7.0 in /usr/local/lib/python3.10/dist-packages (from tensorboard<2.16,>=2.15->tensorflow) (0.7.2)\n",
            "Requirement already satisfied: werkzeug>=1.0.1 in /usr/local/lib/python3.10/dist-packages (from tensorboard<2.16,>=2.15->tensorflow) (3.1.3)\n",
            "Requirement already satisfied: cachetools<6.0,>=2.0.0 in /usr/local/lib/python3.10/dist-packages (from google-auth<3,>=1.6.3->tensorboard<2.16,>=2.15->tensorflow) (5.5.0)\n",
            "Requirement already satisfied: pyasn1-modules>=0.2.1 in /usr/local/lib/python3.10/dist-packages (from google-auth<3,>=1.6.3->tensorboard<2.16,>=2.15->tensorflow) (0.4.1)\n",
            "Requirement already satisfied: rsa<5,>=3.1.4 in /usr/local/lib/python3.10/dist-packages (from google-auth<3,>=1.6.3->tensorboard<2.16,>=2.15->tensorflow) (4.9)\n",
            "Requirement already satisfied: requests-oauthlib>=0.7.0 in /usr/local/lib/python3.10/dist-packages (from google-auth-oauthlib<2,>=0.5->tensorboard<2.16,>=2.15->tensorflow) (2.0.0)\n",
            "Requirement already satisfied: charset-normalizer<4,>=2 in /usr/local/lib/python3.10/dist-packages (from requests<3,>=2.21.0->tensorboard<2.16,>=2.15->tensorflow) (3.4.0)\n",
            "Requirement already satisfied: idna<4,>=2.5 in /usr/local/lib/python3.10/dist-packages (from requests<3,>=2.21.0->tensorboard<2.16,>=2.15->tensorflow) (3.10)\n",
            "Requirement already satisfied: urllib3<3,>=1.21.1 in /usr/local/lib/python3.10/dist-packages (from requests<3,>=2.21.0->tensorboard<2.16,>=2.15->tensorflow) (2.2.3)\n",
            "Requirement already satisfied: certifi>=2017.4.17 in /usr/local/lib/python3.10/dist-packages (from requests<3,>=2.21.0->tensorboard<2.16,>=2.15->tensorflow) (2024.8.30)\n",
            "Requirement already satisfied: MarkupSafe>=2.1.1 in /usr/local/lib/python3.10/dist-packages (from werkzeug>=1.0.1->tensorboard<2.16,>=2.15->tensorflow) (3.0.2)\n",
            "Requirement already satisfied: pyasn1<0.7.0,>=0.4.6 in /usr/local/lib/python3.10/dist-packages (from pyasn1-modules>=0.2.1->google-auth<3,>=1.6.3->tensorboard<2.16,>=2.15->tensorflow) (0.6.1)\n",
            "Requirement already satisfied: oauthlib>=3.0.0 in /usr/local/lib/python3.10/dist-packages (from requests-oauthlib>=0.7.0->google-auth-oauthlib<2,>=0.5->tensorboard<2.16,>=2.15->tensorflow) (3.2.2)\n"
          ]
        }
      ],
      "execution_count": 118
    },
    {
      "cell_type": "code",
      "source": [
        "pip install imbalanced-learn\n"
      ],
      "metadata": {
        "vscode": {
          "languageId": "python"
        },
        "execution": {
          "iopub.status.busy": "2024-10-23T02:13:25.753703Z",
          "iopub.execute_input": "2024-10-23T02:13:25.754105Z",
          "iopub.status.idle": "2024-10-23T02:13:37.016601Z",
          "shell.execute_reply.started": "2024-10-23T02:13:25.75406Z",
          "shell.execute_reply": "2024-10-23T02:13:37.015529Z"
        },
        "trusted": true,
        "colab": {
          "base_uri": "https://localhost:8080/"
        },
        "id": "9T7mK67xeFOj",
        "outputId": "e396f173-b32a-45fc-f504-46303809fa29"
      },
      "outputs": [
        {
          "output_type": "stream",
          "name": "stdout",
          "text": [
            "Requirement already satisfied: imbalanced-learn in /usr/local/lib/python3.10/dist-packages (0.12.4)\n",
            "Requirement already satisfied: numpy>=1.17.3 in /usr/local/lib/python3.10/dist-packages (from imbalanced-learn) (1.26.4)\n",
            "Requirement already satisfied: scipy>=1.5.0 in /usr/local/lib/python3.10/dist-packages (from imbalanced-learn) (1.13.1)\n",
            "Requirement already satisfied: scikit-learn>=1.0.2 in /usr/local/lib/python3.10/dist-packages (from imbalanced-learn) (1.5.2)\n",
            "Requirement already satisfied: joblib>=1.1.1 in /usr/local/lib/python3.10/dist-packages (from imbalanced-learn) (1.4.2)\n",
            "Requirement already satisfied: threadpoolctl>=2.0.0 in /usr/local/lib/python3.10/dist-packages (from imbalanced-learn) (3.5.0)\n"
          ]
        }
      ],
      "execution_count": 119
    },
    {
      "cell_type": "markdown",
      "source": [],
      "metadata": {
        "id": "PUt0Z4a2eFOk"
      }
    },
    {
      "cell_type": "markdown",
      "source": [
        "## Imports"
      ],
      "metadata": {
        "id": "iV7n5J1LeFOl"
      }
    },
    {
      "cell_type": "code",
      "source": [
        "import numpy as np\n",
        "import pandas as pd\n",
        "import torch\n",
        "import torch.nn as nn\n",
        "import re\n",
        "import statistics as stats\n",
        "import matplotlib.pyplot as plt\n",
        "import nltk\n",
        "import tensorflow as tf\n",
        "\n",
        "from imblearn.over_sampling import SMOTE\n",
        "from sklearn.utils.class_weight import compute_class_weight\n",
        "from tensorflow.keras.preprocessing.text import Tokenizer\n",
        "from sklearn.feature_extraction.text import TfidfVectorizer\n",
        "from sklearn.model_selection import train_test_split\n",
        "from tensorflow.keras.preprocessing.sequence import pad_sequences\n",
        "from tensorflow.keras.models import Sequential\n",
        "from tensorflow.keras.layers import Embedding, LSTM, Dense, Dropout\n",
        "from tensorflow.keras.callbacks import EarlyStopping\n",
        "from nltk.corpus import stopwords\n",
        "from keras.utils import to_categorical\n",
        "from tensorflow.keras.models import Sequential\n",
        "from tensorflow.keras.layers import Embedding, Conv1D, MaxPooling1D, LSTM, Dense, Dropout\n",
        "from tensorflow.keras.layers import BatchNormalization\n",
        "from tensorflow.keras.regularizers import l2\n",
        "from sklearn.metrics import f1_score, precision_score, recall_score\n",
        "from tensorflow.keras.models import Sequential\n",
        "from tensorflow.keras.layers import Embedding, LSTM, Dense, Dropout, BatchNormalization, Bidirectional\n",
        "from tensorflow.keras.regularizers import l2\n",
        "from tensorflow.keras.optimizers import Adam\n",
        "from nltk.tokenize import word_tokenize\n",
        "from sklearn.metrics import classification_report, accuracy_score, confusion_matrix\n",
        "from sklearn.metrics import ConfusionMatrixDisplay\n"
      ],
      "metadata": {
        "vscode": {
          "languageId": "python"
        },
        "execution": {
          "iopub.status.busy": "2024-10-23T02:13:37.020011Z",
          "iopub.execute_input": "2024-10-23T02:13:37.020401Z",
          "iopub.status.idle": "2024-10-23T02:13:52.909788Z",
          "shell.execute_reply.started": "2024-10-23T02:13:37.020365Z",
          "shell.execute_reply": "2024-10-23T02:13:52.908998Z"
        },
        "trusted": true,
        "id": "Jkkn-YCQeFOm"
      },
      "outputs": [],
      "execution_count": 120
    },
    {
      "cell_type": "code",
      "source": [
        "nltk.download('stopwords')"
      ],
      "metadata": {
        "vscode": {
          "languageId": "python"
        },
        "execution": {
          "iopub.status.busy": "2024-10-23T02:13:52.910954Z",
          "iopub.execute_input": "2024-10-23T02:13:52.911527Z",
          "iopub.status.idle": "2024-10-23T02:13:52.971637Z",
          "shell.execute_reply.started": "2024-10-23T02:13:52.911489Z",
          "shell.execute_reply": "2024-10-23T02:13:52.970755Z"
        },
        "trusted": true,
        "colab": {
          "base_uri": "https://localhost:8080/"
        },
        "id": "nZYnlXBweFOo",
        "outputId": "bd56e752-0cd3-439a-b008-a8b6a21c504d"
      },
      "outputs": [
        {
          "output_type": "stream",
          "name": "stderr",
          "text": [
            "[nltk_data] Downloading package stopwords to /root/nltk_data...\n",
            "[nltk_data]   Package stopwords is already up-to-date!\n"
          ]
        },
        {
          "output_type": "execute_result",
          "data": {
            "text/plain": [
              "True"
            ]
          },
          "metadata": {},
          "execution_count": 121
        }
      ],
      "execution_count": 121
    },
    {
      "cell_type": "markdown",
      "source": [
        "## Functions/Classes"
      ],
      "metadata": {
        "id": "rViu6w8xeFOp"
      }
    },
    {
      "cell_type": "code",
      "source": [
        "def focal_loss(gamma=2., alpha=0.25):\n",
        "    def focal_loss_fixed(y_true, y_pred):\n",
        "        epsilon = tf.keras.backend.epsilon()\n",
        "        y_true = tf.convert_to_tensor(y_true, tf.float32)\n",
        "        y_pred = tf.clip_by_value(y_pred, epsilon, 1. - epsilon)\n",
        "        cross_entropy = -y_true * tf.math.log(y_pred)\n",
        "        weight = alpha * tf.math.pow(1 - y_pred, gamma)\n",
        "        loss = weight * cross_entropy\n",
        "        return tf.math.reduce_mean(tf.math.reduce_sum(loss, axis=-1))\n",
        "    return focal_loss_fixed"
      ],
      "metadata": {
        "vscode": {
          "languageId": "python"
        },
        "execution": {
          "iopub.status.busy": "2024-10-23T02:13:52.972982Z",
          "iopub.execute_input": "2024-10-23T02:13:52.973761Z",
          "iopub.status.idle": "2024-10-23T02:13:52.979934Z",
          "shell.execute_reply.started": "2024-10-23T02:13:52.973714Z",
          "shell.execute_reply": "2024-10-23T02:13:52.979014Z"
        },
        "trusted": true,
        "id": "U9sg8NqHeFOq"
      },
      "outputs": [],
      "execution_count": 122
    },
    {
      "cell_type": "code",
      "source": [
        "class MetricsCallback(tf.keras.callbacks.Callback):\n",
        "    def __init__(self, validation_data, train_data):\n",
        "        super().__init__()\n",
        "        self.validation_data = validation_data\n",
        "        self.train_data = train_data\n",
        "        self.train_accuracy = []\n",
        "        self.val_accuracy = []\n",
        "        self.train_f1 = []\n",
        "        self.val_f1 = []\n",
        "        self.train_precision = []\n",
        "        self.val_precision = []\n",
        "        self.train_recall = []\n",
        "        self.val_recall = []\n",
        "\n",
        "    def on_epoch_end(self, epoch, logs=None):\n",
        "        val_X, val_y = self.validation_data\n",
        "        y_pred_val = (self.model.predict(val_X) > 0.5).astype(\"int32\")\n",
        "\n",
        "        train_X, train_y = self.train_data\n",
        "        y_pred_train = (self.model.predict(train_X) > 0.5).astype(\"int32\")\n",
        "\n",
        "        val_f1 = f1_score(val_y, y_pred_val, average='weighted', zero_division=0)\n",
        "        val_precision = precision_score(val_y, y_pred_val, average='weighted', zero_division=0)\n",
        "        val_recall = recall_score(val_y, y_pred_val, average='weighted', zero_division=0)\n",
        "\n",
        "        train_f1 = f1_score(train_y, y_pred_train, average='weighted', zero_division=0)\n",
        "        train_precision = precision_score(train_y, y_pred_train, average='weighted', zero_division=0)\n",
        "        train_recall = recall_score(train_y, y_pred_train, average='weighted', zero_division=0)\n",
        "\n",
        "        self.train_accuracy.append(logs['accuracy'])\n",
        "        self.val_accuracy.append(logs['val_accuracy'])\n",
        "        self.train_f1.append(train_f1)\n",
        "        self.val_f1.append(val_f1)\n",
        "        self.train_precision.append(train_precision)\n",
        "        self.val_precision.append(val_precision)\n",
        "        self.train_recall.append(train_recall)\n",
        "        self.val_recall.append(val_recall)\n",
        "\n",
        "  # Display metrics at the end of each epoch\n",
        "\n",
        "        print(f\"\\nEpoch {epoch + 1} - Train F1: {train_f1:.4f}, Train Precision: {train_precision:.4f}, Train Recall: {train_recall:.4f}\")\n",
        "        print(f\"Val F1: {val_f1:.4f}, Val Precision: {val_precision:.4f}, Val Recall: {val_recall:.4f}\")\n"
      ],
      "metadata": {
        "vscode": {
          "languageId": "python"
        },
        "execution": {
          "iopub.status.busy": "2024-10-23T02:13:52.981021Z",
          "iopub.execute_input": "2024-10-23T02:13:52.981441Z",
          "iopub.status.idle": "2024-10-23T02:13:52.994513Z",
          "shell.execute_reply.started": "2024-10-23T02:13:52.981408Z",
          "shell.execute_reply": "2024-10-23T02:13:52.993612Z"
        },
        "trusted": true,
        "id": "csLjSHkAeFOq"
      },
      "outputs": [],
      "execution_count": 123
    },
    {
      "cell_type": "code",
      "source": [
        "\n",
        "\n",
        "class MetricsCallback_2(tf.keras.callbacks.Callback):\n",
        "    def __init__(self, validation_data, train_data):\n",
        "        super().__init__()\n",
        "        self.validation_data = validation_data\n",
        "        self.train_data = train_data\n",
        "        self.train_accuracy = []\n",
        "        self.val_accuracy = []\n",
        "        self.train_f1 = []\n",
        "        self.val_f1 = []\n",
        "        self.train_precision = []\n",
        "        self.val_precision = []\n",
        "        self.train_recall = []\n",
        "        self.val_recall = []\n",
        "\n",
        "    def on_epoch_end(self, epoch, logs=None):\n",
        "        # Get validation data\n",
        "        val_X, val_y = self.validation_data\n",
        "        train_X, train_y = self.train_data\n",
        "\n",
        "        # Predict validation and training data\n",
        "        y_pred_val = np.argmax(self.model.predict(val_X), axis=1)  # Convert to class labels\n",
        "        y_pred_train = np.argmax(self.model.predict(train_X), axis=1)  # Convert to class labels\n",
        "\n",
        "        # Calculate validation metrics\n",
        "        val_f1 = f1_score(val_y, y_pred_val, average='weighted', zero_division=0)\n",
        "        val_precision = precision_score(val_y, y_pred_val, average='weighted', zero_division=0)\n",
        "        val_recall = recall_score(val_y, y_pred_val, average='weighted', zero_division=0)\n",
        "\n",
        "        # Calculate training metrics\n",
        "        train_f1 = f1_score(train_y, y_pred_train, average='weighted', zero_division=0)\n",
        "        train_precision = precision_score(train_y, y_pred_train, average='weighted', zero_division=0)\n",
        "        train_recall = recall_score(train_y, y_pred_train, average='weighted', zero_division=0)\n",
        "\n",
        "        # Store metrics\n",
        "        self.train_accuracy.append(logs['accuracy'])\n",
        "        self.val_accuracy.append(logs['val_accuracy'])\n",
        "        self.train_f1.append(train_f1)\n",
        "        self.val_f1.append(val_f1)\n",
        "        self.train_precision.append(train_precision)\n",
        "        self.val_precision.append(val_precision)\n",
        "        self.train_recall.append(train_recall)\n",
        "        self.val_recall.append(val_recall)\n",
        "\n",
        "        # Print metrics for each epoch\n",
        "        print(f\"\\nEpoch {epoch + 1} - Train F1: {train_f1:.4f}, Train Precision: {train_precision:.4f}, Train Recall: {train_recall:.4f}\")\n",
        "        print(f\"Val F1: {val_f1:.4f}, Val Precision: {val_precision:.4f}, Val Recall: {val_recall:.4f}\")\n"
      ],
      "metadata": {
        "vscode": {
          "languageId": "python"
        },
        "execution": {
          "iopub.status.busy": "2024-10-23T02:13:52.995688Z",
          "iopub.execute_input": "2024-10-23T02:13:52.995984Z",
          "iopub.status.idle": "2024-10-23T02:13:53.008434Z",
          "shell.execute_reply.started": "2024-10-23T02:13:52.995953Z",
          "shell.execute_reply": "2024-10-23T02:13:53.007544Z"
        },
        "trusted": true,
        "id": "8y-foVVweFOr"
      },
      "outputs": [],
      "execution_count": 124
    },
    {
      "cell_type": "code",
      "source": [
        "def plot_metrics(metrics_callback):\n",
        "    epochs = range(1, len(metrics_callback.train_accuracy) + 1)\n",
        "\n",
        "   # Plotting accuracy\n",
        "\n",
        "    plt.figure(figsize=(12, 8))\n",
        "    plt.subplot(2, 2, 1)\n",
        "    plt.plot(epochs, metrics_callback.train_accuracy, label='Train Accuracy')\n",
        "    plt.plot(epochs, metrics_callback.val_accuracy, label='Val Accuracy')\n",
        "    plt.title('Accuracy per Epoch')\n",
        "    plt.xlabel('Epochs')\n",
        "    plt.ylabel('Accuracy')\n",
        "    plt.legend()\n",
        "\n",
        "    # Plotting F1-Score\n",
        "    plt.subplot(2, 2, 2)\n",
        "    plt.plot(epochs, metrics_callback.train_f1, label='Train F1-Score')\n",
        "    plt.plot(epochs, metrics_callback.val_f1, label='Val F1-Score')\n",
        "    plt.title('F1-Score per Epoch')\n",
        "    plt.xlabel('Epochs')\n",
        "    plt.ylabel('F1-Score')\n",
        "    plt.legend()\n",
        "\n",
        "    # Plotting precision\n",
        "    plt.subplot(2, 2, 3)\n",
        "    plt.plot(epochs, metrics_callback.train_precision, label='Train Precision')\n",
        "    plt.plot(epochs, metrics_callback.val_precision, label='Val Precision')\n",
        "    plt.title('Precision per Epoch')\n",
        "    plt.xlabel('Epochs')\n",
        "    plt.ylabel('Precision')\n",
        "    plt.legend()\n",
        "\n",
        "    # Plotting recall\n",
        "    plt.subplot(2, 2, 4)\n",
        "    plt.plot(epochs, metrics_callback.train_recall, label='Train Recall')\n",
        "    plt.plot(epochs, metrics_callback.val_recall, label='Val Recall')\n",
        "    plt.title('Recall per Epoch')\n",
        "    plt.xlabel('Epochs')\n",
        "    plt.ylabel('Recall')\n",
        "    plt.legend()\n",
        "\n",
        "    plt.tight_layout()\n",
        "    plt.show()\n"
      ],
      "metadata": {
        "vscode": {
          "languageId": "python"
        },
        "execution": {
          "iopub.status.busy": "2024-10-23T02:13:53.009657Z",
          "iopub.execute_input": "2024-10-23T02:13:53.009976Z",
          "iopub.status.idle": "2024-10-23T02:13:53.021412Z",
          "shell.execute_reply.started": "2024-10-23T02:13:53.009945Z",
          "shell.execute_reply": "2024-10-23T02:13:53.02052Z"
        },
        "trusted": true,
        "id": "Fa41yqVUeFOs"
      },
      "outputs": [],
      "execution_count": 125
    },
    {
      "cell_type": "code",
      "source": [
        "def Conf_matrix(y_true, y_pred):\n",
        "    cm = confusion_matrix(y_true, y_pred)\n",
        "    disp = ConfusionMatrixDisplay(confusion_matrix=cm)\n",
        "    disp.plot(cmap=plt.cm.Blues)\n",
        "    plt.title('Confusion Matrix')\n",
        "    plt.show()"
      ],
      "metadata": {
        "vscode": {
          "languageId": "python"
        },
        "execution": {
          "iopub.status.busy": "2024-10-23T02:13:53.025013Z",
          "iopub.execute_input": "2024-10-23T02:13:53.025349Z",
          "iopub.status.idle": "2024-10-23T02:13:53.030669Z",
          "shell.execute_reply.started": "2024-10-23T02:13:53.025318Z",
          "shell.execute_reply": "2024-10-23T02:13:53.029787Z"
        },
        "trusted": true,
        "id": "bhlcx3HkeFOs"
      },
      "outputs": [],
      "execution_count": 126
    },
    {
      "cell_type": "code",
      "source": [
        "def Conf_matrix_2(y_true, y_pred):\n",
        "    cm = confusion_matrix(y_true, y_pred)\n",
        "    disp = ConfusionMatrixDisplay(confusion_matrix=cm)\n",
        "    disp.plot(cmap=plt.cm.Blues)\n",
        "    plt.show()"
      ],
      "metadata": {
        "vscode": {
          "languageId": "python"
        },
        "execution": {
          "iopub.status.busy": "2024-10-23T02:13:53.031842Z",
          "iopub.execute_input": "2024-10-23T02:13:53.032222Z",
          "iopub.status.idle": "2024-10-23T02:13:53.038126Z",
          "shell.execute_reply.started": "2024-10-23T02:13:53.032142Z",
          "shell.execute_reply": "2024-10-23T02:13:53.037127Z"
        },
        "trusted": true,
        "id": "85fUlR2KeFOt"
      },
      "outputs": [],
      "execution_count": 127
    },
    {
      "cell_type": "markdown",
      "source": [
        "## Data Loading"
      ],
      "metadata": {
        "id": "TkTLEWcoeFOt"
      }
    },
    {
      "cell_type": "code",
      "source": [
        "device = 'cuda' if torch.cuda.is_available() else 'cpu'\n"
      ],
      "metadata": {
        "vscode": {
          "languageId": "python"
        },
        "execution": {
          "iopub.status.busy": "2024-10-23T02:13:53.039126Z",
          "iopub.execute_input": "2024-10-23T02:13:53.039706Z",
          "iopub.status.idle": "2024-10-23T02:13:53.101513Z",
          "shell.execute_reply.started": "2024-10-23T02:13:53.039674Z",
          "shell.execute_reply": "2024-10-23T02:13:53.100699Z"
        },
        "trusted": true,
        "id": "E7hzkkEVeFOt"
      },
      "outputs": [],
      "execution_count": 128
    },
    {
      "cell_type": "code",
      "source": [
        "# Load the data to inspect it\n",
        "\n",
        "data = pd.read_csv('labeled_data.csv')\n",
        "\n",
        "# Display the first few rows of the dataset to understand its structure\n",
        "data.head()\n"
      ],
      "metadata": {
        "vscode": {
          "languageId": "python"
        },
        "execution": {
          "iopub.status.busy": "2024-10-23T02:13:53.10314Z",
          "iopub.execute_input": "2024-10-23T02:13:53.103469Z",
          "iopub.status.idle": "2024-10-23T02:13:53.218271Z",
          "shell.execute_reply.started": "2024-10-23T02:13:53.103437Z",
          "shell.execute_reply": "2024-10-23T02:13:53.217392Z"
        },
        "trusted": true,
        "colab": {
          "base_uri": "https://localhost:8080/",
          "height": 206
        },
        "id": "oaPvzGS3eFOu",
        "outputId": "feeb0b4f-d832-44c7-da52-c72bcea6ae2e"
      },
      "outputs": [
        {
          "output_type": "execute_result",
          "data": {
            "text/plain": [
              "   Unnamed: 0  count  hate_speech  offensive_language  neither  class  \\\n",
              "0           0      3            0                   0        3      2   \n",
              "1           1      3            0                   3        0      1   \n",
              "2           2      3            0                   3        0      1   \n",
              "3           3      3            0                   2        1      1   \n",
              "4           4      6            0                   6        0      1   \n",
              "\n",
              "                                               tweet  \n",
              "0  !!! RT @mayasolovely: As a woman you shouldn't...  \n",
              "1  !!!!! RT @mleew17: boy dats cold...tyga dwn ba...  \n",
              "2  !!!!!!! RT @UrKindOfBrand Dawg!!!! RT @80sbaby...  \n",
              "3  !!!!!!!!! RT @C_G_Anderson: @viva_based she lo...  \n",
              "4  !!!!!!!!!!!!! RT @ShenikaRoberts: The shit you...  "
            ],
            "text/html": [
              "\n",
              "  <div id=\"df-ddea14ae-9813-42c6-a9b6-6b09d48ada77\" class=\"colab-df-container\">\n",
              "    <div>\n",
              "<style scoped>\n",
              "    .dataframe tbody tr th:only-of-type {\n",
              "        vertical-align: middle;\n",
              "    }\n",
              "\n",
              "    .dataframe tbody tr th {\n",
              "        vertical-align: top;\n",
              "    }\n",
              "\n",
              "    .dataframe thead th {\n",
              "        text-align: right;\n",
              "    }\n",
              "</style>\n",
              "<table border=\"1\" class=\"dataframe\">\n",
              "  <thead>\n",
              "    <tr style=\"text-align: right;\">\n",
              "      <th></th>\n",
              "      <th>Unnamed: 0</th>\n",
              "      <th>count</th>\n",
              "      <th>hate_speech</th>\n",
              "      <th>offensive_language</th>\n",
              "      <th>neither</th>\n",
              "      <th>class</th>\n",
              "      <th>tweet</th>\n",
              "    </tr>\n",
              "  </thead>\n",
              "  <tbody>\n",
              "    <tr>\n",
              "      <th>0</th>\n",
              "      <td>0</td>\n",
              "      <td>3</td>\n",
              "      <td>0</td>\n",
              "      <td>0</td>\n",
              "      <td>3</td>\n",
              "      <td>2</td>\n",
              "      <td>!!! RT @mayasolovely: As a woman you shouldn't...</td>\n",
              "    </tr>\n",
              "    <tr>\n",
              "      <th>1</th>\n",
              "      <td>1</td>\n",
              "      <td>3</td>\n",
              "      <td>0</td>\n",
              "      <td>3</td>\n",
              "      <td>0</td>\n",
              "      <td>1</td>\n",
              "      <td>!!!!! RT @mleew17: boy dats cold...tyga dwn ba...</td>\n",
              "    </tr>\n",
              "    <tr>\n",
              "      <th>2</th>\n",
              "      <td>2</td>\n",
              "      <td>3</td>\n",
              "      <td>0</td>\n",
              "      <td>3</td>\n",
              "      <td>0</td>\n",
              "      <td>1</td>\n",
              "      <td>!!!!!!! RT @UrKindOfBrand Dawg!!!! RT @80sbaby...</td>\n",
              "    </tr>\n",
              "    <tr>\n",
              "      <th>3</th>\n",
              "      <td>3</td>\n",
              "      <td>3</td>\n",
              "      <td>0</td>\n",
              "      <td>2</td>\n",
              "      <td>1</td>\n",
              "      <td>1</td>\n",
              "      <td>!!!!!!!!! RT @C_G_Anderson: @viva_based she lo...</td>\n",
              "    </tr>\n",
              "    <tr>\n",
              "      <th>4</th>\n",
              "      <td>4</td>\n",
              "      <td>6</td>\n",
              "      <td>0</td>\n",
              "      <td>6</td>\n",
              "      <td>0</td>\n",
              "      <td>1</td>\n",
              "      <td>!!!!!!!!!!!!! RT @ShenikaRoberts: The shit you...</td>\n",
              "    </tr>\n",
              "  </tbody>\n",
              "</table>\n",
              "</div>\n",
              "    <div class=\"colab-df-buttons\">\n",
              "\n",
              "  <div class=\"colab-df-container\">\n",
              "    <button class=\"colab-df-convert\" onclick=\"convertToInteractive('df-ddea14ae-9813-42c6-a9b6-6b09d48ada77')\"\n",
              "            title=\"Convert this dataframe to an interactive table.\"\n",
              "            style=\"display:none;\">\n",
              "\n",
              "  <svg xmlns=\"http://www.w3.org/2000/svg\" height=\"24px\" viewBox=\"0 -960 960 960\">\n",
              "    <path d=\"M120-120v-720h720v720H120Zm60-500h600v-160H180v160Zm220 220h160v-160H400v160Zm0 220h160v-160H400v160ZM180-400h160v-160H180v160Zm440 0h160v-160H620v160ZM180-180h160v-160H180v160Zm440 0h160v-160H620v160Z\"/>\n",
              "  </svg>\n",
              "    </button>\n",
              "\n",
              "  <style>\n",
              "    .colab-df-container {\n",
              "      display:flex;\n",
              "      gap: 12px;\n",
              "    }\n",
              "\n",
              "    .colab-df-convert {\n",
              "      background-color: #E8F0FE;\n",
              "      border: none;\n",
              "      border-radius: 50%;\n",
              "      cursor: pointer;\n",
              "      display: none;\n",
              "      fill: #1967D2;\n",
              "      height: 32px;\n",
              "      padding: 0 0 0 0;\n",
              "      width: 32px;\n",
              "    }\n",
              "\n",
              "    .colab-df-convert:hover {\n",
              "      background-color: #E2EBFA;\n",
              "      box-shadow: 0px 1px 2px rgba(60, 64, 67, 0.3), 0px 1px 3px 1px rgba(60, 64, 67, 0.15);\n",
              "      fill: #174EA6;\n",
              "    }\n",
              "\n",
              "    .colab-df-buttons div {\n",
              "      margin-bottom: 4px;\n",
              "    }\n",
              "\n",
              "    [theme=dark] .colab-df-convert {\n",
              "      background-color: #3B4455;\n",
              "      fill: #D2E3FC;\n",
              "    }\n",
              "\n",
              "    [theme=dark] .colab-df-convert:hover {\n",
              "      background-color: #434B5C;\n",
              "      box-shadow: 0px 1px 3px 1px rgba(0, 0, 0, 0.15);\n",
              "      filter: drop-shadow(0px 1px 2px rgba(0, 0, 0, 0.3));\n",
              "      fill: #FFFFFF;\n",
              "    }\n",
              "  </style>\n",
              "\n",
              "    <script>\n",
              "      const buttonEl =\n",
              "        document.querySelector('#df-ddea14ae-9813-42c6-a9b6-6b09d48ada77 button.colab-df-convert');\n",
              "      buttonEl.style.display =\n",
              "        google.colab.kernel.accessAllowed ? 'block' : 'none';\n",
              "\n",
              "      async function convertToInteractive(key) {\n",
              "        const element = document.querySelector('#df-ddea14ae-9813-42c6-a9b6-6b09d48ada77');\n",
              "        const dataTable =\n",
              "          await google.colab.kernel.invokeFunction('convertToInteractive',\n",
              "                                                    [key], {});\n",
              "        if (!dataTable) return;\n",
              "\n",
              "        const docLinkHtml = 'Like what you see? Visit the ' +\n",
              "          '<a target=\"_blank\" href=https://colab.research.google.com/notebooks/data_table.ipynb>data table notebook</a>'\n",
              "          + ' to learn more about interactive tables.';\n",
              "        element.innerHTML = '';\n",
              "        dataTable['output_type'] = 'display_data';\n",
              "        await google.colab.output.renderOutput(dataTable, element);\n",
              "        const docLink = document.createElement('div');\n",
              "        docLink.innerHTML = docLinkHtml;\n",
              "        element.appendChild(docLink);\n",
              "      }\n",
              "    </script>\n",
              "  </div>\n",
              "\n",
              "\n",
              "<div id=\"df-f8934c7d-3a0c-47db-a6b2-1c55e53e8222\">\n",
              "  <button class=\"colab-df-quickchart\" onclick=\"quickchart('df-f8934c7d-3a0c-47db-a6b2-1c55e53e8222')\"\n",
              "            title=\"Suggest charts\"\n",
              "            style=\"display:none;\">\n",
              "\n",
              "<svg xmlns=\"http://www.w3.org/2000/svg\" height=\"24px\"viewBox=\"0 0 24 24\"\n",
              "     width=\"24px\">\n",
              "    <g>\n",
              "        <path d=\"M19 3H5c-1.1 0-2 .9-2 2v14c0 1.1.9 2 2 2h14c1.1 0 2-.9 2-2V5c0-1.1-.9-2-2-2zM9 17H7v-7h2v7zm4 0h-2V7h2v10zm4 0h-2v-4h2v4z\"/>\n",
              "    </g>\n",
              "</svg>\n",
              "  </button>\n",
              "\n",
              "<style>\n",
              "  .colab-df-quickchart {\n",
              "      --bg-color: #E8F0FE;\n",
              "      --fill-color: #1967D2;\n",
              "      --hover-bg-color: #E2EBFA;\n",
              "      --hover-fill-color: #174EA6;\n",
              "      --disabled-fill-color: #AAA;\n",
              "      --disabled-bg-color: #DDD;\n",
              "  }\n",
              "\n",
              "  [theme=dark] .colab-df-quickchart {\n",
              "      --bg-color: #3B4455;\n",
              "      --fill-color: #D2E3FC;\n",
              "      --hover-bg-color: #434B5C;\n",
              "      --hover-fill-color: #FFFFFF;\n",
              "      --disabled-bg-color: #3B4455;\n",
              "      --disabled-fill-color: #666;\n",
              "  }\n",
              "\n",
              "  .colab-df-quickchart {\n",
              "    background-color: var(--bg-color);\n",
              "    border: none;\n",
              "    border-radius: 50%;\n",
              "    cursor: pointer;\n",
              "    display: none;\n",
              "    fill: var(--fill-color);\n",
              "    height: 32px;\n",
              "    padding: 0;\n",
              "    width: 32px;\n",
              "  }\n",
              "\n",
              "  .colab-df-quickchart:hover {\n",
              "    background-color: var(--hover-bg-color);\n",
              "    box-shadow: 0 1px 2px rgba(60, 64, 67, 0.3), 0 1px 3px 1px rgba(60, 64, 67, 0.15);\n",
              "    fill: var(--button-hover-fill-color);\n",
              "  }\n",
              "\n",
              "  .colab-df-quickchart-complete:disabled,\n",
              "  .colab-df-quickchart-complete:disabled:hover {\n",
              "    background-color: var(--disabled-bg-color);\n",
              "    fill: var(--disabled-fill-color);\n",
              "    box-shadow: none;\n",
              "  }\n",
              "\n",
              "  .colab-df-spinner {\n",
              "    border: 2px solid var(--fill-color);\n",
              "    border-color: transparent;\n",
              "    border-bottom-color: var(--fill-color);\n",
              "    animation:\n",
              "      spin 1s steps(1) infinite;\n",
              "  }\n",
              "\n",
              "  @keyframes spin {\n",
              "    0% {\n",
              "      border-color: transparent;\n",
              "      border-bottom-color: var(--fill-color);\n",
              "      border-left-color: var(--fill-color);\n",
              "    }\n",
              "    20% {\n",
              "      border-color: transparent;\n",
              "      border-left-color: var(--fill-color);\n",
              "      border-top-color: var(--fill-color);\n",
              "    }\n",
              "    30% {\n",
              "      border-color: transparent;\n",
              "      border-left-color: var(--fill-color);\n",
              "      border-top-color: var(--fill-color);\n",
              "      border-right-color: var(--fill-color);\n",
              "    }\n",
              "    40% {\n",
              "      border-color: transparent;\n",
              "      border-right-color: var(--fill-color);\n",
              "      border-top-color: var(--fill-color);\n",
              "    }\n",
              "    60% {\n",
              "      border-color: transparent;\n",
              "      border-right-color: var(--fill-color);\n",
              "    }\n",
              "    80% {\n",
              "      border-color: transparent;\n",
              "      border-right-color: var(--fill-color);\n",
              "      border-bottom-color: var(--fill-color);\n",
              "    }\n",
              "    90% {\n",
              "      border-color: transparent;\n",
              "      border-bottom-color: var(--fill-color);\n",
              "    }\n",
              "  }\n",
              "</style>\n",
              "\n",
              "  <script>\n",
              "    async function quickchart(key) {\n",
              "      const quickchartButtonEl =\n",
              "        document.querySelector('#' + key + ' button');\n",
              "      quickchartButtonEl.disabled = true;  // To prevent multiple clicks.\n",
              "      quickchartButtonEl.classList.add('colab-df-spinner');\n",
              "      try {\n",
              "        const charts = await google.colab.kernel.invokeFunction(\n",
              "            'suggestCharts', [key], {});\n",
              "      } catch (error) {\n",
              "        console.error('Error during call to suggestCharts:', error);\n",
              "      }\n",
              "      quickchartButtonEl.classList.remove('colab-df-spinner');\n",
              "      quickchartButtonEl.classList.add('colab-df-quickchart-complete');\n",
              "    }\n",
              "    (() => {\n",
              "      let quickchartButtonEl =\n",
              "        document.querySelector('#df-f8934c7d-3a0c-47db-a6b2-1c55e53e8222 button');\n",
              "      quickchartButtonEl.style.display =\n",
              "        google.colab.kernel.accessAllowed ? 'block' : 'none';\n",
              "    })();\n",
              "  </script>\n",
              "</div>\n",
              "\n",
              "    </div>\n",
              "  </div>\n"
            ],
            "application/vnd.google.colaboratory.intrinsic+json": {
              "type": "dataframe",
              "variable_name": "data",
              "summary": "{\n  \"name\": \"data\",\n  \"rows\": 24783,\n  \"fields\": [\n    {\n      \"column\": \"Unnamed: 0\",\n      \"properties\": {\n        \"dtype\": \"number\",\n        \"std\": 7299,\n        \"min\": 0,\n        \"max\": 25296,\n        \"num_unique_values\": 24783,\n        \"samples\": [\n          2326,\n          16283,\n          19362\n        ],\n        \"semantic_type\": \"\",\n        \"description\": \"\"\n      }\n    },\n    {\n      \"column\": \"count\",\n      \"properties\": {\n        \"dtype\": \"number\",\n        \"std\": 0,\n        \"min\": 3,\n        \"max\": 9,\n        \"num_unique_values\": 5,\n        \"samples\": [\n          6,\n          7,\n          9\n        ],\n        \"semantic_type\": \"\",\n        \"description\": \"\"\n      }\n    },\n    {\n      \"column\": \"hate_speech\",\n      \"properties\": {\n        \"dtype\": \"number\",\n        \"std\": 0,\n        \"min\": 0,\n        \"max\": 7,\n        \"num_unique_values\": 8,\n        \"samples\": [\n          1,\n          6,\n          0\n        ],\n        \"semantic_type\": \"\",\n        \"description\": \"\"\n      }\n    },\n    {\n      \"column\": \"offensive_language\",\n      \"properties\": {\n        \"dtype\": \"number\",\n        \"std\": 1,\n        \"min\": 0,\n        \"max\": 9,\n        \"num_unique_values\": 10,\n        \"samples\": [\n          8,\n          3,\n          7\n        ],\n        \"semantic_type\": \"\",\n        \"description\": \"\"\n      }\n    },\n    {\n      \"column\": \"neither\",\n      \"properties\": {\n        \"dtype\": \"number\",\n        \"std\": 1,\n        \"min\": 0,\n        \"max\": 9,\n        \"num_unique_values\": 10,\n        \"samples\": [\n          8,\n          0,\n          4\n        ],\n        \"semantic_type\": \"\",\n        \"description\": \"\"\n      }\n    },\n    {\n      \"column\": \"class\",\n      \"properties\": {\n        \"dtype\": \"number\",\n        \"std\": 0,\n        \"min\": 0,\n        \"max\": 2,\n        \"num_unique_values\": 3,\n        \"samples\": [\n          2,\n          1,\n          0\n        ],\n        \"semantic_type\": \"\",\n        \"description\": \"\"\n      }\n    },\n    {\n      \"column\": \"tweet\",\n      \"properties\": {\n        \"dtype\": \"string\",\n        \"num_unique_values\": 24783,\n        \"samples\": [\n          \"934 8616\\ni got a missed call from yo bitch\",\n          \"RT @KINGTUNCHI_: Fucking with a bad bitch you gone need some money lil homie!\",\n          \"RT @eanahS__: @1inkkofrosess lol my credit ain't no where near good , but I know the right man for the job .. that ho nice though!\"\n        ],\n        \"semantic_type\": \"\",\n        \"description\": \"\"\n      }\n    }\n  ]\n}"
            }
          },
          "metadata": {},
          "execution_count": 129
        }
      ],
      "execution_count": 129
    },
    {
      "cell_type": "markdown",
      "source": [
        "## Data Analysis"
      ],
      "metadata": {
        "id": "2hhEaMaieFOu"
      }
    },
    {
      "cell_type": "code",
      "source": [
        "print(data.head())\n",
        "print(data.describe())"
      ],
      "metadata": {
        "vscode": {
          "languageId": "python"
        },
        "execution": {
          "iopub.status.busy": "2024-10-23T02:13:53.219393Z",
          "iopub.execute_input": "2024-10-23T02:13:53.219711Z",
          "iopub.status.idle": "2024-10-23T02:13:53.247602Z",
          "shell.execute_reply.started": "2024-10-23T02:13:53.219677Z",
          "shell.execute_reply": "2024-10-23T02:13:53.246786Z"
        },
        "trusted": true,
        "colab": {
          "base_uri": "https://localhost:8080/"
        },
        "id": "LXj7JPfqeFOu",
        "outputId": "a4416d7f-977c-4392-a988-ee8397dd29e7"
      },
      "outputs": [
        {
          "output_type": "stream",
          "name": "stdout",
          "text": [
            "   Unnamed: 0  count  hate_speech  offensive_language  neither  class  \\\n",
            "0           0      3            0                   0        3      2   \n",
            "1           1      3            0                   3        0      1   \n",
            "2           2      3            0                   3        0      1   \n",
            "3           3      3            0                   2        1      1   \n",
            "4           4      6            0                   6        0      1   \n",
            "\n",
            "                                               tweet  \n",
            "0  !!! RT @mayasolovely: As a woman you shouldn't...  \n",
            "1  !!!!! RT @mleew17: boy dats cold...tyga dwn ba...  \n",
            "2  !!!!!!! RT @UrKindOfBrand Dawg!!!! RT @80sbaby...  \n",
            "3  !!!!!!!!! RT @C_G_Anderson: @viva_based she lo...  \n",
            "4  !!!!!!!!!!!!! RT @ShenikaRoberts: The shit you...  \n",
            "         Unnamed: 0         count   hate_speech  offensive_language  \\\n",
            "count  24783.000000  24783.000000  24783.000000        24783.000000   \n",
            "mean   12681.192027      3.243473      0.280515            2.413711   \n",
            "std     7299.553863      0.883060      0.631851            1.399459   \n",
            "min        0.000000      3.000000      0.000000            0.000000   \n",
            "25%     6372.500000      3.000000      0.000000            2.000000   \n",
            "50%    12703.000000      3.000000      0.000000            3.000000   \n",
            "75%    18995.500000      3.000000      0.000000            3.000000   \n",
            "max    25296.000000      9.000000      7.000000            9.000000   \n",
            "\n",
            "            neither         class  \n",
            "count  24783.000000  24783.000000  \n",
            "mean       0.549247      1.110277  \n",
            "std        1.113299      0.462089  \n",
            "min        0.000000      0.000000  \n",
            "25%        0.000000      1.000000  \n",
            "50%        0.000000      1.000000  \n",
            "75%        0.000000      1.000000  \n",
            "max        9.000000      2.000000  \n"
          ]
        }
      ],
      "execution_count": 130
    },
    {
      "cell_type": "code",
      "source": [
        "class_counts = data['class'].value_counts()\n"
      ],
      "metadata": {
        "vscode": {
          "languageId": "python"
        },
        "execution": {
          "iopub.status.busy": "2024-10-23T02:13:53.248754Z",
          "iopub.execute_input": "2024-10-23T02:13:53.249401Z",
          "iopub.status.idle": "2024-10-23T02:13:53.257832Z",
          "shell.execute_reply.started": "2024-10-23T02:13:53.249347Z",
          "shell.execute_reply": "2024-10-23T02:13:53.256929Z"
        },
        "trusted": true,
        "id": "C5zHkrQ3eFOu"
      },
      "outputs": [],
      "execution_count": 131
    },
    {
      "cell_type": "code",
      "source": [
        "class_labels = {0: 'Hate Speech', 1: 'Offensive Language', 2: 'Neither'}\n",
        "\n",
        "plt.figure(figsize=(8, 6))\n",
        "class_counts.rename(index=class_labels).plot(kind='bar', color=['red', 'green', 'blue'])\n",
        "plt.title('Class Distribution in the Dataset')\n",
        "plt.xlabel('Class')\n",
        "plt.ylabel('Number of Samples')\n",
        "plt.xticks(rotation=0)\n",
        "plt.show()"
      ],
      "metadata": {
        "vscode": {
          "languageId": "python"
        },
        "execution": {
          "iopub.status.busy": "2024-10-23T02:13:53.25918Z",
          "iopub.execute_input": "2024-10-23T02:13:53.259564Z",
          "iopub.status.idle": "2024-10-23T02:13:53.568354Z",
          "shell.execute_reply.started": "2024-10-23T02:13:53.259519Z",
          "shell.execute_reply": "2024-10-23T02:13:53.567354Z"
        },
        "trusted": true,
        "colab": {
          "base_uri": "https://localhost:8080/",
          "height": 564
        },
        "id": "T71XQzZkeFOv",
        "outputId": "9ee1a7ba-ac2c-4120-8d5e-b899d9f68813"
      },
      "outputs": [
        {
          "output_type": "display_data",
          "data": {
            "text/plain": [
              "<Figure size 800x600 with 1 Axes>"
            ],
            "image/png": "[encoded data removed]"
          },
          "metadata": {}
        }
      ],
      "execution_count": 132
    },
    {
      "cell_type": "markdown",
      "source": [
        "## Data Preprocessing"
      ],
      "metadata": {
        "id": "KD1O5PcMeFOv"
      }
    },
    {
      "cell_type": "code",
      "source": [
        "# Remove the unnecessary 'Unnamed: 0' column\n",
        "data_cleaned = data.drop(columns=['Unnamed: 0'])"
      ],
      "metadata": {
        "vscode": {
          "languageId": "python"
        },
        "execution": {
          "iopub.status.busy": "2024-10-23T02:13:53.5696Z",
          "iopub.execute_input": "2024-10-23T02:13:53.569907Z",
          "iopub.status.idle": "2024-10-23T02:13:53.578255Z",
          "shell.execute_reply.started": "2024-10-23T02:13:53.569874Z",
          "shell.execute_reply": "2024-10-23T02:13:53.577325Z"
        },
        "trusted": true,
        "id": "pfNUOvXLeFOv"
      },
      "outputs": [],
      "execution_count": 133
    },
    {
      "cell_type": "code",
      "source": [
        "missing_values = data_cleaned.isnull().sum()\n"
      ],
      "metadata": {
        "vscode": {
          "languageId": "python"
        },
        "execution": {
          "iopub.status.busy": "2024-10-23T02:13:53.579659Z",
          "iopub.execute_input": "2024-10-23T02:13:53.580541Z",
          "iopub.status.idle": "2024-10-23T02:13:53.588697Z",
          "shell.execute_reply.started": "2024-10-23T02:13:53.580493Z",
          "shell.execute_reply": "2024-10-23T02:13:53.588039Z"
        },
        "trusted": true,
        "id": "I_Gc6X0seFOw"
      },
      "outputs": [],
      "execution_count": 134
    },
    {
      "cell_type": "code",
      "source": [
        "stop_words = set(stopwords.words('english'))\n",
        "\n",
        "def clean_tweet(text):\n",
        "    # Remove URLs\n",
        "    text = re.sub(r'http\\S+', '', text)\n",
        "\n",
        "    # Remove mentions\n",
        "    text = re.sub(r'@\\w+', '', text)\n",
        "\n",
        "    # Remove special characters and numbers, keeping only letters and spaces\n",
        "    text = re.sub(r'[^a-zA-Z\\s]', '', text)\n",
        "\n",
        "    #Convert to lowercase\n",
        "    text = text.lower()\n",
        "\n",
        "    # Split the text into words and remove stop words\n",
        "\n",
        "    words = text.split()\n",
        "    words = [word for word in words if word not in stop_words]\n",
        "\n",
        "    # Join the words back into a string\n",
        "    clean_text = ' '.join(words)\n",
        "\n",
        "    return clean_text"
      ],
      "metadata": {
        "vscode": {
          "languageId": "python"
        },
        "execution": {
          "iopub.status.busy": "2024-10-23T02:13:53.589752Z",
          "iopub.execute_input": "2024-10-23T02:13:53.590059Z",
          "iopub.status.idle": "2024-10-23T02:13:53.599854Z",
          "shell.execute_reply.started": "2024-10-23T02:13:53.590026Z",
          "shell.execute_reply": "2024-10-23T02:13:53.598998Z"
        },
        "trusted": true,
        "id": "x32vqyX_eFOw"
      },
      "outputs": [],
      "execution_count": 135
    },
    {
      "cell_type": "code",
      "source": [
        "data_cleaned['tweet'] = data_cleaned['tweet'].apply(clean_tweet)\n"
      ],
      "metadata": {
        "vscode": {
          "languageId": "python"
        },
        "execution": {
          "iopub.status.busy": "2024-10-23T02:13:53.601116Z",
          "iopub.execute_input": "2024-10-23T02:13:53.601769Z",
          "iopub.status.idle": "2024-10-23T02:13:53.928977Z",
          "shell.execute_reply.started": "2024-10-23T02:13:53.601723Z",
          "shell.execute_reply": "2024-10-23T02:13:53.928209Z"
        },
        "trusted": true,
        "id": "zG1fjNN1eFOw"
      },
      "outputs": [],
      "execution_count": 136
    },
    {
      "cell_type": "code",
      "source": [
        "data_cleaned.head(), missing_values\n"
      ],
      "metadata": {
        "vscode": {
          "languageId": "python"
        },
        "execution": {
          "iopub.status.busy": "2024-10-23T02:13:53.930017Z",
          "iopub.execute_input": "2024-10-23T02:13:53.930322Z",
          "iopub.status.idle": "2024-10-23T02:13:53.939345Z",
          "shell.execute_reply.started": "2024-10-23T02:13:53.930291Z",
          "shell.execute_reply": "2024-10-23T02:13:53.938216Z"
        },
        "trusted": true,
        "colab": {
          "base_uri": "https://localhost:8080/"
        },
        "id": "apLe5t8QeFOw",
        "outputId": "3254e2a6-52e9-41fd-8cfa-db742506738b"
      },
      "outputs": [
        {
          "output_type": "execute_result",
          "data": {
            "text/plain": [
              "(   count  hate_speech  offensive_language  neither  class  \\\n",
              " 0      3            0                   0        3      2   \n",
              " 1      3            0                   3        0      1   \n",
              " 2      3            0                   3        0      1   \n",
              " 3      3            0                   2        1      1   \n",
              " 4      6            0                   6        0      1   \n",
              " \n",
              "                                                tweet  \n",
              " 0  rt woman shouldnt complain cleaning house amp ...  \n",
              " 1  rt boy dats coldtyga dwn bad cuffin dat hoe st...  \n",
              " 2  rt dawg rt ever fuck bitch start cry confused ...  \n",
              " 3                                rt look like tranny  \n",
              " 4  rt shit hear might true might faker bitch told ya  ,\n",
              " count                 0\n",
              " hate_speech           0\n",
              " offensive_language    0\n",
              " neither               0\n",
              " class                 0\n",
              " tweet                 0\n",
              " dtype: int64)"
            ]
          },
          "metadata": {},
          "execution_count": 137
        }
      ],
      "execution_count": 137
    },
    {
      "cell_type": "code",
      "source": [
        "data_cleaned.describe()"
      ],
      "metadata": {
        "vscode": {
          "languageId": "python"
        },
        "execution": {
          "iopub.status.busy": "2024-10-23T02:13:53.940922Z",
          "iopub.execute_input": "2024-10-23T02:13:53.941387Z",
          "iopub.status.idle": "2024-10-23T02:13:53.9725Z",
          "shell.execute_reply.started": "2024-10-23T02:13:53.941326Z",
          "shell.execute_reply": "2024-10-23T02:13:53.971681Z"
        },
        "trusted": true,
        "colab": {
          "base_uri": "https://localhost:8080/",
          "height": 300
        },
        "id": "B4dc3VYDeFOx",
        "outputId": "308bf854-a0c4-44ba-b707-832fa8373b58"
      },
      "outputs": [
        {
          "output_type": "execute_result",
          "data": {
            "text/plain": [
              "              count   hate_speech  offensive_language       neither  \\\n",
              "count  24783.000000  24783.000000        24783.000000  24783.000000   \n",
              "mean       3.243473      0.280515            2.413711      0.549247   \n",
              "std        0.883060      0.631851            1.399459      1.113299   \n",
              "min        3.000000      0.000000            0.000000      0.000000   \n",
              "25%        3.000000      0.000000            2.000000      0.000000   \n",
              "50%        3.000000      0.000000            3.000000      0.000000   \n",
              "75%        3.000000      0.000000            3.000000      0.000000   \n",
              "max        9.000000      7.000000            9.000000      9.000000   \n",
              "\n",
              "              class  \n",
              "count  24783.000000  \n",
              "mean       1.110277  \n",
              "std        0.462089  \n",
              "min        0.000000  \n",
              "25%        1.000000  \n",
              "50%        1.000000  \n",
              "75%        1.000000  \n",
              "max        2.000000  "
            ],
            "text/html": [
              "\n",
              "  <div id=\"df-5261ec1d-afe3-4eaa-8685-b7b9f41033d0\" class=\"colab-df-container\">\n",
              "    <div>\n",
              "<style scoped>\n",
              "    .dataframe tbody tr th:only-of-type {\n",
              "        vertical-align: middle;\n",
              "    }\n",
              "\n",
              "    .dataframe tbody tr th {\n",
              "        vertical-align: top;\n",
              "    }\n",
              "\n",
              "    .dataframe thead th {\n",
              "        text-align: right;\n",
              "    }\n",
              "</style>\n",
              "<table border=\"1\" class=\"dataframe\">\n",
              "  <thead>\n",
              "    <tr style=\"text-align: right;\">\n",
              "      <th></th>\n",
              "      <th>count</th>\n",
              "      <th>hate_speech</th>\n",
              "      <th>offensive_language</th>\n",
              "      <th>neither</th>\n",
              "      <th>class</th>\n",
              "    </tr>\n",
              "  </thead>\n",
              "  <tbody>\n",
              "    <tr>\n",
              "      <th>count</th>\n",
              "      <td>24783.000000</td>\n",
              "      <td>24783.000000</td>\n",
              "      <td>24783.000000</td>\n",
              "      <td>24783.000000</td>\n",
              "      <td>24783.000000</td>\n",
              "    </tr>\n",
              "    <tr>\n",
              "      <th>mean</th>\n",
              "      <td>3.243473</td>\n",
              "      <td>0.280515</td>\n",
              "      <td>2.413711</td>\n",
              "      <td>0.549247</td>\n",
              "      <td>1.110277</td>\n",
              "    </tr>\n",
              "    <tr>\n",
              "      <th>std</th>\n",
              "      <td>0.883060</td>\n",
              "      <td>0.631851</td>\n",
              "      <td>1.399459</td>\n",
              "      <td>1.113299</td>\n",
              "      <td>0.462089</td>\n",
              "    </tr>\n",
              "    <tr>\n",
              "      <th>min</th>\n",
              "      <td>3.000000</td>\n",
              "      <td>0.000000</td>\n",
              "      <td>0.000000</td>\n",
              "      <td>0.000000</td>\n",
              "      <td>0.000000</td>\n",
              "    </tr>\n",
              "    <tr>\n",
              "      <th>25%</th>\n",
              "      <td>3.000000</td>\n",
              "      <td>0.000000</td>\n",
              "      <td>2.000000</td>\n",
              "      <td>0.000000</td>\n",
              "      <td>1.000000</td>\n",
              "    </tr>\n",
              "    <tr>\n",
              "      <th>50%</th>\n",
              "      <td>3.000000</td>\n",
              "      <td>0.000000</td>\n",
              "      <td>3.000000</td>\n",
              "      <td>0.000000</td>\n",
              "      <td>1.000000</td>\n",
              "    </tr>\n",
              "    <tr>\n",
              "      <th>75%</th>\n",
              "      <td>3.000000</td>\n",
              "      <td>0.000000</td>\n",
              "      <td>3.000000</td>\n",
              "      <td>0.000000</td>\n",
              "      <td>1.000000</td>\n",
              "    </tr>\n",
              "    <tr>\n",
              "      <th>max</th>\n",
              "      <td>9.000000</td>\n",
              "      <td>7.000000</td>\n",
              "      <td>9.000000</td>\n",
              "      <td>9.000000</td>\n",
              "      <td>2.000000</td>\n",
              "    </tr>\n",
              "  </tbody>\n",
              "</table>\n",
              "</div>\n",
              "    <div class=\"colab-df-buttons\">\n",
              "\n",
              "  <div class=\"colab-df-container\">\n",
              "    <button class=\"colab-df-convert\" onclick=\"convertToInteractive('df-5261ec1d-afe3-4eaa-8685-b7b9f41033d0')\"\n",
              "            title=\"Convert this dataframe to an interactive table.\"\n",
              "            style=\"display:none;\">\n",
              "\n",
              "  <svg xmlns=\"http://www.w3.org/2000/svg\" height=\"24px\" viewBox=\"0 -960 960 960\">\n",
              "    <path d=\"M120-120v-720h720v720H120Zm60-500h600v-160H180v160Zm220 220h160v-160H400v160Zm0 220h160v-160H400v160ZM180-400h160v-160H180v160Zm440 0h160v-160H620v160ZM180-180h160v-160H180v160Zm440 0h160v-160H620v160Z\"/>\n",
              "  </svg>\n",
              "    </button>\n",
              "\n",
              "  <style>\n",
              "    .colab-df-container {\n",
              "      display:flex;\n",
              "      gap: 12px;\n",
              "    }\n",
              "\n",
              "    .colab-df-convert {\n",
              "      background-color: #E8F0FE;\n",
              "      border: none;\n",
              "      border-radius: 50%;\n",
              "      cursor: pointer;\n",
              "      display: none;\n",
              "      fill: #1967D2;\n",
              "      height: 32px;\n",
              "      padding: 0 0 0 0;\n",
              "      width: 32px;\n",
              "    }\n",
              "\n",
              "    .colab-df-convert:hover {\n",
              "      background-color: #E2EBFA;\n",
              "      box-shadow: 0px 1px 2px rgba(60, 64, 67, 0.3), 0px 1px 3px 1px rgba(60, 64, 67, 0.15);\n",
              "      fill: #174EA6;\n",
              "    }\n",
              "\n",
              "    .colab-df-buttons div {\n",
              "      margin-bottom: 4px;\n",
              "    }\n",
              "\n",
              "    [theme=dark] .colab-df-convert {\n",
              "      background-color: #3B4455;\n",
              "      fill: #D2E3FC;\n",
              "    }\n",
              "\n",
              "    [theme=dark] .colab-df-convert:hover {\n",
              "      background-color: #434B5C;\n",
              "      box-shadow: 0px 1px 3px 1px rgba(0, 0, 0, 0.15);\n",
              "      filter: drop-shadow(0px 1px 2px rgba(0, 0, 0, 0.3));\n",
              "      fill: #FFFFFF;\n",
              "    }\n",
              "  </style>\n",
              "\n",
              "    <script>\n",
              "      const buttonEl =\n",
              "        document.querySelector('#df-5261ec1d-afe3-4eaa-8685-b7b9f41033d0 button.colab-df-convert');\n",
              "      buttonEl.style.display =\n",
              "        google.colab.kernel.accessAllowed ? 'block' : 'none';\n",
              "\n",
              "      async function convertToInteractive(key) {\n",
              "        const element = document.querySelector('#df-5261ec1d-afe3-4eaa-8685-b7b9f41033d0');\n",
              "        const dataTable =\n",
              "          await google.colab.kernel.invokeFunction('convertToInteractive',\n",
              "                                                    [key], {});\n",
              "        if (!dataTable) return;\n",
              "\n",
              "        const docLinkHtml = 'Like what you see? Visit the ' +\n",
              "          '<a target=\"_blank\" href=https://colab.research.google.com/notebooks/data_table.ipynb>data table notebook</a>'\n",
              "          + ' to learn more about interactive tables.';\n",
              "        element.innerHTML = '';\n",
              "        dataTable['output_type'] = 'display_data';\n",
              "        await google.colab.output.renderOutput(dataTable, element);\n",
              "        const docLink = document.createElement('div');\n",
              "        docLink.innerHTML = docLinkHtml;\n",
              "        element.appendChild(docLink);\n",
              "      }\n",
              "    </script>\n",
              "  </div>\n",
              "\n",
              "\n",
              "<div id=\"df-e9246ff2-03cd-4212-be9a-9b1988efd136\">\n",
              "  <button class=\"colab-df-quickchart\" onclick=\"quickchart('df-e9246ff2-03cd-4212-be9a-9b1988efd136')\"\n",
              "            title=\"Suggest charts\"\n",
              "            style=\"display:none;\">\n",
              "\n",
              "<svg xmlns=\"http://www.w3.org/2000/svg\" height=\"24px\"viewBox=\"0 0 24 24\"\n",
              "     width=\"24px\">\n",
              "    <g>\n",
              "        <path d=\"M19 3H5c-1.1 0-2 .9-2 2v14c0 1.1.9 2 2 2h14c1.1 0 2-.9 2-2V5c0-1.1-.9-2-2-2zM9 17H7v-7h2v7zm4 0h-2V7h2v10zm4 0h-2v-4h2v4z\"/>\n",
              "    </g>\n",
              "</svg>\n",
              "  </button>\n",
              "\n",
              "<style>\n",
              "  .colab-df-quickchart {\n",
              "      --bg-color: #E8F0FE;\n",
              "      --fill-color: #1967D2;\n",
              "      --hover-bg-color: #E2EBFA;\n",
              "      --hover-fill-color: #174EA6;\n",
              "      --disabled-fill-color: #AAA;\n",
              "      --disabled-bg-color: #DDD;\n",
              "  }\n",
              "\n",
              "  [theme=dark] .colab-df-quickchart {\n",
              "      --bg-color: #3B4455;\n",
              "      --fill-color: #D2E3FC;\n",
              "      --hover-bg-color: #434B5C;\n",
              "      --hover-fill-color: #FFFFFF;\n",
              "      --disabled-bg-color: #3B4455;\n",
              "      --disabled-fill-color: #666;\n",
              "  }\n",
              "\n",
              "  .colab-df-quickchart {\n",
              "    background-color: var(--bg-color);\n",
              "    border: none;\n",
              "    border-radius: 50%;\n",
              "    cursor: pointer;\n",
              "    display: none;\n",
              "    fill: var(--fill-color);\n",
              "    height: 32px;\n",
              "    padding: 0;\n",
              "    width: 32px;\n",
              "  }\n",
              "\n",
              "  .colab-df-quickchart:hover {\n",
              "    background-color: var(--hover-bg-color);\n",
              "    box-shadow: 0 1px 2px rgba(60, 64, 67, 0.3), 0 1px 3px 1px rgba(60, 64, 67, 0.15);\n",
              "    fill: var(--button-hover-fill-color);\n",
              "  }\n",
              "\n",
              "  .colab-df-quickchart-complete:disabled,\n",
              "  .colab-df-quickchart-complete:disabled:hover {\n",
              "    background-color: var(--disabled-bg-color);\n",
              "    fill: var(--disabled-fill-color);\n",
              "    box-shadow: none;\n",
              "  }\n",
              "\n",
              "  .colab-df-spinner {\n",
              "    border: 2px solid var(--fill-color);\n",
              "    border-color: transparent;\n",
              "    border-bottom-color: var(--fill-color);\n",
              "    animation:\n",
              "      spin 1s steps(1) infinite;\n",
              "  }\n",
              "\n",
              "  @keyframes spin {\n",
              "    0% {\n",
              "      border-color: transparent;\n",
              "      border-bottom-color: var(--fill-color);\n",
              "      border-left-color: var(--fill-color);\n",
              "    }\n",
              "    20% {\n",
              "      border-color: transparent;\n",
              "      border-left-color: var(--fill-color);\n",
              "      border-top-color: var(--fill-color);\n",
              "    }\n",
              "    30% {\n",
              "      border-color: transparent;\n",
              "      border-left-color: var(--fill-color);\n",
              "      border-top-color: var(--fill-color);\n",
              "      border-right-color: var(--fill-color);\n",
              "    }\n",
              "    40% {\n",
              "      border-color: transparent;\n",
              "      border-right-color: var(--fill-color);\n",
              "      border-top-color: var(--fill-color);\n",
              "    }\n",
              "    60% {\n",
              "      border-color: transparent;\n",
              "      border-right-color: var(--fill-color);\n",
              "    }\n",
              "    80% {\n",
              "      border-color: transparent;\n",
              "      border-right-color: var(--fill-color);\n",
              "      border-bottom-color: var(--fill-color);\n",
              "    }\n",
              "    90% {\n",
              "      border-color: transparent;\n",
              "      border-bottom-color: var(--fill-color);\n",
              "    }\n",
              "  }\n",
              "</style>\n",
              "\n",
              "  <script>\n",
              "    async function quickchart(key) {\n",
              "      const quickchartButtonEl =\n",
              "        document.querySelector('#' + key + ' button');\n",
              "      quickchartButtonEl.disabled = true;  // To prevent multiple clicks.\n",
              "      quickchartButtonEl.classList.add('colab-df-spinner');\n",
              "      try {\n",
              "        const charts = await google.colab.kernel.invokeFunction(\n",
              "            'suggestCharts', [key], {});\n",
              "      } catch (error) {\n",
              "        console.error('Error during call to suggestCharts:', error);\n",
              "      }\n",
              "      quickchartButtonEl.classList.remove('colab-df-spinner');\n",
              "      quickchartButtonEl.classList.add('colab-df-quickchart-complete');\n",
              "    }\n",
              "    (() => {\n",
              "      let quickchartButtonEl =\n",
              "        document.querySelector('#df-e9246ff2-03cd-4212-be9a-9b1988efd136 button');\n",
              "      quickchartButtonEl.style.display =\n",
              "        google.colab.kernel.accessAllowed ? 'block' : 'none';\n",
              "    })();\n",
              "  </script>\n",
              "</div>\n",
              "\n",
              "    </div>\n",
              "  </div>\n"
            ],
            "application/vnd.google.colaboratory.intrinsic+json": {
              "type": "dataframe",
              "summary": "{\n  \"name\": \"data_cleaned\",\n  \"rows\": 8,\n  \"fields\": [\n    {\n      \"column\": \"count\",\n      \"properties\": {\n        \"dtype\": \"number\",\n        \"std\": 8760.844908191184,\n        \"min\": 0.8830600691421232,\n        \"max\": 24783.0,\n        \"num_unique_values\": 5,\n        \"samples\": [\n          3.2434733486664244,\n          9.0,\n          0.8830600691421232\n        ],\n        \"semantic_type\": \"\",\n        \"description\": \"\"\n      }\n    },\n    {\n      \"column\": \"hate_speech\",\n      \"properties\": {\n        \"dtype\": \"number\",\n        \"std\": 8761.714374693967,\n        \"min\": 0.0,\n        \"max\": 24783.0,\n        \"num_unique_values\": 5,\n        \"samples\": [\n          0.28051486906347095,\n          7.0,\n          0.6318510592276959\n        ],\n        \"semantic_type\": \"\",\n        \"description\": \"\"\n      }\n    },\n    {\n      \"column\": \"offensive_language\",\n      \"properties\": {\n        \"dtype\": \"number\",\n        \"std\": 8761.062853899848,\n        \"min\": 0.0,\n        \"max\": 24783.0,\n        \"num_unique_values\": 7,\n        \"samples\": [\n          24783.0,\n          2.413711011580519,\n          3.0\n        ],\n        \"semantic_type\": \"\",\n        \"description\": \"\"\n      }\n    },\n    {\n      \"column\": \"neither\",\n      \"properties\": {\n        \"dtype\": \"number\",\n        \"std\": 8761.575679681884,\n        \"min\": 0.0,\n        \"max\": 24783.0,\n        \"num_unique_values\": 5,\n        \"samples\": [\n          0.5492474680224347,\n          9.0,\n          1.1132985222300682\n        ],\n        \"semantic_type\": \"\",\n        \"description\": \"\"\n      }\n    },\n    {\n      \"column\": \"class\",\n      \"properties\": {\n        \"dtype\": \"number\",\n        \"std\": 8761.781742989284,\n        \"min\": 0.0,\n        \"max\": 24783.0,\n        \"num_unique_values\": 6,\n        \"samples\": [\n          24783.0,\n          1.1102772061493766,\n          2.0\n        ],\n        \"semantic_type\": \"\",\n        \"description\": \"\"\n      }\n    }\n  ]\n}"
            }
          },
          "metadata": {},
          "execution_count": 138
        }
      ],
      "execution_count": 138
    },
    {
      "cell_type": "markdown",
      "source": [
        "# LSTM"
      ],
      "metadata": {
        "id": "xbehfpTSeFOx"
      }
    },
    {
      "cell_type": "markdown",
      "source": [
        "## Splitting the Dataset and Tokenization"
      ],
      "metadata": {
        "id": "y9paybr0eFOz"
      }
    },
    {
      "cell_type": "code",
      "source": [
        "X_train, X_test, y_train, y_test = train_test_split(data_cleaned[\"tweet\"], data_cleaned['class'], test_size=0.2, random_state=42)\n",
        "\n",
        "y_train = to_categorical(y_train)\n",
        "y_test = to_categorical(y_test)"
      ],
      "metadata": {
        "vscode": {
          "languageId": "python"
        },
        "execution": {
          "iopub.status.busy": "2024-10-23T02:13:53.973468Z",
          "iopub.execute_input": "2024-10-23T02:13:53.973757Z",
          "iopub.status.idle": "2024-10-23T02:13:53.985129Z",
          "shell.execute_reply.started": "2024-10-23T02:13:53.973726Z",
          "shell.execute_reply": "2024-10-23T02:13:53.984085Z"
        },
        "trusted": true,
        "id": "K6NBDYuxeFO3"
      },
      "outputs": [],
      "execution_count": 139
    },
    {
      "cell_type": "code",
      "source": [
        "tokenizer = Tokenizer()\n",
        "\n",
        "tokenizer.fit_on_texts(X_train)\n",
        "\n",
        "word_index = tokenizer.word_index"
      ],
      "metadata": {
        "vscode": {
          "languageId": "python"
        },
        "execution": {
          "iopub.status.busy": "2024-10-23T02:13:53.98627Z",
          "iopub.execute_input": "2024-10-23T02:13:53.986599Z",
          "iopub.status.idle": "2024-10-23T02:13:54.324455Z",
          "shell.execute_reply.started": "2024-10-23T02:13:53.98656Z",
          "shell.execute_reply": "2024-10-23T02:13:54.323695Z"
        },
        "trusted": true,
        "id": "2rFcIjtveFO4"
      },
      "outputs": [],
      "execution_count": 140
    },
    {
      "cell_type": "code",
      "source": [
        "X_train = tokenizer.texts_to_sequences(X_train)\n",
        "X_test = tokenizer.texts_to_sequences(X_test)\n",
        "\n",
        "max_length = 0\n",
        "for sequence in X_train:\n",
        "    sequence_length = len(sequence)\n",
        "    if sequence_length > max_length:\n",
        "        max_length = sequence_length\n",
        "\n",
        "\n",
        "print(max_length)"
      ],
      "metadata": {
        "vscode": {
          "languageId": "python"
        },
        "execution": {
          "iopub.status.busy": "2024-10-23T02:13:54.325477Z",
          "iopub.execute_input": "2024-10-23T02:13:54.325771Z",
          "iopub.status.idle": "2024-10-23T02:13:54.655265Z",
          "shell.execute_reply.started": "2024-10-23T02:13:54.32574Z",
          "shell.execute_reply": "2024-10-23T02:13:54.654271Z"
        },
        "trusted": true,
        "colab": {
          "base_uri": "https://localhost:8080/"
        },
        "id": "OptJWnaKeFO7",
        "outputId": "b20a2310-9889-4f17-c157-cd15734afb9b"
      },
      "outputs": [
        {
          "output_type": "stream",
          "name": "stdout",
          "text": [
            "25\n"
          ]
        }
      ],
      "execution_count": 141
    },
    {
      "cell_type": "code",
      "source": [
        "X_train = pad_sequences(X_train,maxlen=max_length,padding='post')\n",
        "X_test = pad_sequences(X_test,maxlen=max_length,padding='post')"
      ],
      "metadata": {
        "vscode": {
          "languageId": "python"
        },
        "execution": {
          "iopub.status.busy": "2024-10-23T02:13:54.656258Z",
          "iopub.execute_input": "2024-10-23T02:13:54.656557Z",
          "iopub.status.idle": "2024-10-23T02:13:54.757524Z",
          "shell.execute_reply.started": "2024-10-23T02:13:54.656525Z",
          "shell.execute_reply": "2024-10-23T02:13:54.756812Z"
        },
        "trusted": true,
        "id": "HzZScytDeFO9"
      },
      "outputs": [],
      "execution_count": 142
    },
    {
      "cell_type": "code",
      "source": [
        "vocab_size = len(word_index) + 1\n",
        "embedding_dim = 128\n",
        "max_length = 25  # Maximum sequence length, defined previously\n",
        "l2_reg = 0.01  # Regularization term\n"
      ],
      "metadata": {
        "vscode": {
          "languageId": "python"
        },
        "execution": {
          "iopub.status.busy": "2024-10-23T02:13:54.758512Z",
          "iopub.execute_input": "2024-10-23T02:13:54.758778Z",
          "iopub.status.idle": "2024-10-23T02:13:54.763436Z",
          "shell.execute_reply.started": "2024-10-23T02:13:54.75875Z",
          "shell.execute_reply": "2024-10-23T02:13:54.762401Z"
        },
        "trusted": true,
        "id": "ggA77LNIeFO9"
      },
      "outputs": [],
      "execution_count": 143
    },
    {
      "cell_type": "code",
      "source": [
        "X_train_padded = pad_sequences(X_train, maxlen=max_length, padding='post', truncating='post')\n",
        "X_test_padded = pad_sequences(X_test, maxlen=max_length, padding='post', truncating='post')"
      ],
      "metadata": {
        "vscode": {
          "languageId": "python"
        },
        "execution": {
          "iopub.status.busy": "2024-10-23T02:13:54.769873Z",
          "iopub.execute_input": "2024-10-23T02:13:54.770169Z",
          "iopub.status.idle": "2024-10-23T02:13:54.84569Z",
          "shell.execute_reply.started": "2024-10-23T02:13:54.77012Z",
          "shell.execute_reply": "2024-10-23T02:13:54.844817Z"
        },
        "trusted": true,
        "id": "9v_vkPjEeFO9"
      },
      "outputs": [],
      "execution_count": 144
    },
    {
      "cell_type": "code",
      "source": [
        "print(f\"num test tweet: {y_test.shape[0]}\")\n",
        "print(f\"num train tweet: {y_train.shape[0]}\")"
      ],
      "metadata": {
        "vscode": {
          "languageId": "python"
        },
        "execution": {
          "iopub.status.busy": "2024-10-23T02:13:54.846827Z",
          "iopub.execute_input": "2024-10-23T02:13:54.847208Z",
          "iopub.status.idle": "2024-10-23T02:13:54.852578Z",
          "shell.execute_reply.started": "2024-10-23T02:13:54.847163Z",
          "shell.execute_reply": "2024-10-23T02:13:54.851674Z"
        },
        "trusted": true,
        "colab": {
          "base_uri": "https://localhost:8080/"
        },
        "id": "PxUsj1c8eFO-",
        "outputId": "132bb832-fc97-44d7-91b8-372df621c9c1"
      },
      "outputs": [
        {
          "output_type": "stream",
          "name": "stdout",
          "text": [
            "num test tweet: 4957\n",
            "num train tweet: 19826\n"
          ]
        }
      ],
      "execution_count": 145
    },
    {
      "cell_type": "markdown",
      "source": [
        "## Modeling"
      ],
      "metadata": {
        "id": "oef2nELteFO-"
      }
    },
    {
      "cell_type": "code",
      "source": [
        "model = Sequential([\n",
        "    # Embedding layer\n",
        "    Embedding(input_dim=vocab_size, output_dim=embedding_dim, input_length=max_length),\n",
        "\n",
        "    # Convolutional layer\n",
        "    Conv1D(filters=64, kernel_size=5, activation='relu', kernel_regularizer=l2(0.01)),\n",
        "\n",
        "    # Batch Normalization\n",
        "    BatchNormalization(),\n",
        "\n",
        "    # Max Pooling layer\n",
        "    MaxPooling1D(pool_size=2),\n",
        "\n",
        "    # LSTM layer with L2 regularization and dropout\n",
        "    LSTM(32, dropout=0.4, recurrent_dropout=0.4, kernel_regularizer=l2(0.01)),\n",
        "\n",
        "    # Dropout layer to prevent overfitting\n",
        "    Dropout(0.5),\n",
        "\n",
        "    # Dense layer with reduced units and L2 regularization\n",
        "    Dense(64, activation='relu', kernel_regularizer=l2(0.01)),\n",
        "\n",
        "    # Dropout\n",
        "    Dropout(0.5),\n",
        "\n",
        "    # Output layer with softmax activation\n",
        "    Dense(3, activation='softmax'),\n",
        "])\n",
        "\n",
        "# Compile the model\n",
        "model.compile(loss=focal_loss(gamma=2., alpha=0.25), optimizer='adam', metrics=['accuracy'])\n"
      ],
      "metadata": {
        "vscode": {
          "languageId": "python"
        },
        "execution": {
          "iopub.status.busy": "2024-10-23T02:13:54.853866Z",
          "iopub.execute_input": "2024-10-23T02:13:54.854241Z",
          "iopub.status.idle": "2024-10-23T02:13:55.500406Z",
          "shell.execute_reply.started": "2024-10-23T02:13:54.854199Z",
          "shell.execute_reply": "2024-10-23T02:13:55.499447Z"
        },
        "trusted": true,
        "id": "D4KsfRBueFO-"
      },
      "outputs": [],
      "execution_count": 146
    },
    {
      "cell_type": "markdown",
      "source": [
        "## Training/Results"
      ],
      "metadata": {
        "id": "5EzYRn-CeFO_"
      }
    },
    {
      "cell_type": "code",
      "source": [
        "early_stopping = EarlyStopping(monitor='val_loss', patience=3, restore_best_weights=True)\n"
      ],
      "metadata": {
        "vscode": {
          "languageId": "python"
        },
        "execution": {
          "iopub.status.busy": "2024-10-23T02:13:55.501643Z",
          "iopub.execute_input": "2024-10-23T02:13:55.50196Z",
          "iopub.status.idle": "2024-10-23T02:13:55.506394Z",
          "shell.execute_reply.started": "2024-10-23T02:13:55.501927Z",
          "shell.execute_reply": "2024-10-23T02:13:55.505457Z"
        },
        "trusted": true,
        "id": "39gkYvvneFO_"
      },
      "outputs": [],
      "execution_count": 147
    },
    {
      "cell_type": "code",
      "source": [
        "print(\"Unique classes in the training set:\", np.unique(y_train))\n"
      ],
      "metadata": {
        "vscode": {
          "languageId": "python"
        },
        "execution": {
          "iopub.status.busy": "2024-10-23T02:13:55.507683Z",
          "iopub.execute_input": "2024-10-23T02:13:55.508384Z",
          "iopub.status.idle": "2024-10-23T02:13:55.517699Z",
          "shell.execute_reply.started": "2024-10-23T02:13:55.508341Z",
          "shell.execute_reply": "2024-10-23T02:13:55.516777Z"
        },
        "trusted": true,
        "colab": {
          "base_uri": "https://localhost:8080/"
        },
        "id": "di9UfYypeFO_",
        "outputId": "1f0bdc22-6304-4b9c-b7fb-fa6d6aa84bc1"
      },
      "outputs": [
        {
          "output_type": "stream",
          "name": "stdout",
          "text": [
            "Unique classes in the training set: [0. 1.]\n"
          ]
        }
      ],
      "execution_count": 148
    },
    {
      "cell_type": "code",
      "source": [
        "print(f\"Type of y_train: {y_train.dtype}\")\n",
        "y_train = y_train.astype('int')\n"
      ],
      "metadata": {
        "vscode": {
          "languageId": "python"
        },
        "execution": {
          "iopub.status.busy": "2024-10-23T02:13:55.518864Z",
          "iopub.execute_input": "2024-10-23T02:13:55.519718Z",
          "iopub.status.idle": "2024-10-23T02:13:55.524607Z",
          "shell.execute_reply.started": "2024-10-23T02:13:55.519673Z",
          "shell.execute_reply": "2024-10-23T02:13:55.523609Z"
        },
        "trusted": true,
        "colab": {
          "base_uri": "https://localhost:8080/"
        },
        "id": "Tk4MqxN7eFPA",
        "outputId": "09f8d4e7-cb37-4c46-9e18-b804d2f0d87d"
      },
      "outputs": [
        {
          "output_type": "stream",
          "name": "stdout",
          "text": [
            "Type of y_train: float32\n"
          ]
        }
      ],
      "execution_count": 149
    },
    {
      "cell_type": "code",
      "source": [
        "class_weights_dict = {\n",
        "    0: 2.0,  # Higher weight for class 0 (minority)\n",
        "    1: 1.0,  # Default weight for class 1 (dominant class)\n",
        "    2: 1.5   # Somewhat higher weight for class 2 (moderate class)\n",
        "}"
      ],
      "metadata": {
        "vscode": {
          "languageId": "python"
        },
        "execution": {
          "iopub.status.busy": "2024-10-23T02:13:55.525921Z",
          "iopub.execute_input": "2024-10-23T02:13:55.526297Z",
          "iopub.status.idle": "2024-10-23T02:13:55.531119Z",
          "shell.execute_reply.started": "2024-10-23T02:13:55.526256Z",
          "shell.execute_reply": "2024-10-23T02:13:55.53019Z"
        },
        "trusted": true,
        "id": "KZCZpxI_eFPA"
      },
      "outputs": [],
      "execution_count": 150
    },
    {
      "cell_type": "code",
      "source": [
        "metrics_callback = MetricsCallback(validation_data=(X_test_padded, y_test), train_data=(X_train_padded, y_train))\n"
      ],
      "metadata": {
        "vscode": {
          "languageId": "python"
        },
        "execution": {
          "iopub.status.busy": "2024-10-23T02:13:55.532254Z",
          "iopub.execute_input": "2024-10-23T02:13:55.532558Z",
          "iopub.status.idle": "2024-10-23T02:13:55.538218Z",
          "shell.execute_reply.started": "2024-10-23T02:13:55.532528Z",
          "shell.execute_reply": "2024-10-23T02:13:55.537202Z"
        },
        "trusted": true,
        "id": "TfMB9rFzeFPA"
      },
      "outputs": [],
      "execution_count": 151
    },
    {
      "cell_type": "code",
      "source": [
        "import tensorflow as tf\n",
        "\n",
        "def focal_loss_fixed(y_true, y_pred):\n",
        "    \"\"\"\n",
        "    Focal Loss function with numerical stability improvements.\n",
        "\n",
        "    Args:\n",
        "        y_true: True labels (one-hot encoded).\n",
        "        y_pred: Predicted probabilities.\n",
        "\n",
        "    Returns:\n",
        "        Focal loss value.\n",
        "    \"\"\"\n",
        "    gamma = 2.0\n",
        "    alpha = 0.25\n",
        "    epsilon = tf.keras.backend.epsilon()  # Small value to avoid division by zero\n",
        "\n",
        "    # Ensure y_true and y_pred are tensors with the correct data type\n",
        "    y_true = tf.cast(y_true, tf.float32)  # Convert y_true to float32\n",
        "    y_pred = tf.clip_by_value(y_pred, epsilon, 1.0 - epsilon)\n",
        "\n",
        "    # Calculate cross-entropy\n",
        "    cross_entropy = -y_true * tf.math.log(y_pred)\n",
        "\n",
        "    # Calculate focal loss\n",
        "    focal_loss = alpha * tf.math.pow(1 - y_pred, gamma) * cross_entropy\n",
        "\n",
        "    # Sum the loss across classes\n",
        "    focal_loss = tf.reduce_sum(focal_loss, axis=-1)\n",
        "\n",
        "    # Return the average loss\n",
        "    return tf.reduce_mean(focal_loss)"
      ],
      "metadata": {
        "vscode": {
          "languageId": "python"
        },
        "execution": {
          "iopub.status.busy": "2024-10-23T02:13:55.539475Z",
          "iopub.execute_input": "2024-10-23T02:13:55.539819Z",
          "iopub.status.idle": "2024-10-23T02:15:37.294839Z",
          "shell.execute_reply.started": "2024-10-23T02:13:55.53978Z",
          "shell.execute_reply": "2024-10-23T02:15:37.293972Z"
        },
        "trusted": true,
        "id": "E58DjeeVeFPA"
      },
      "outputs": [],
      "execution_count": 152
    },
    {
      "cell_type": "code",
      "source": [
        "test_loss, test_accuracy = model.evaluate(X_test_padded, y_test, verbose=2)\n",
        "print(f'Accuracy on the test set: {test_accuracy}')"
      ],
      "metadata": {
        "vscode": {
          "languageId": "python"
        },
        "execution": {
          "iopub.status.busy": "2024-10-23T02:15:37.296043Z",
          "iopub.execute_input": "2024-10-23T02:15:37.296446Z",
          "iopub.status.idle": "2024-10-23T02:15:38.279763Z",
          "shell.execute_reply.started": "2024-10-23T02:15:37.296412Z",
          "shell.execute_reply": "2024-10-23T02:15:38.278822Z"
        },
        "trusted": true,
        "colab": {
          "base_uri": "https://localhost:8080/"
        },
        "id": "IP5ui10heFPB",
        "outputId": "5bb8f54e-266d-4290-8ec6-9b047acec8a9"
      },
      "outputs": [
        {
          "output_type": "stream",
          "name": "stdout",
          "text": [
            "155/155 - 1s - loss: 2.2515 - accuracy: 0.7730 - 1s/epoch - 8ms/step\n",
            "Accuracy on the test set: 0.7730482220649719\n"
          ]
        }
      ],
      "execution_count": 153
    }
  ]
}